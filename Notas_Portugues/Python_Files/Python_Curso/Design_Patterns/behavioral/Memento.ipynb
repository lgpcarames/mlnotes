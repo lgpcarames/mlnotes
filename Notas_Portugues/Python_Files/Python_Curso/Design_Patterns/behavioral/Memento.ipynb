{
 "cells": [
  {
   "cell_type": "markdown",
   "metadata": {},
   "source": [
    "# Memento\n",
    "Memento é um padrão de projeto comportamental que tem a intenção de permitir que você salve e restaure um estado anterior de um objeto originator sem revelar os detallhes da sua implementação e sem violar o encapsulamento.\n",
    "\n",
    "Originator é o objeto que deseja salvar seu estado.\n",
    "Memento é usado para salvar o estado do Originator.\n",
    "Caretaker é usado para armazenar mementos.\n",
    "Caretaker também é usado com o padrão command."
   ]
  },
  {
   "cell_type": "code",
   "execution_count": null,
   "metadata": {},
   "outputs": [],
   "source": []
  }
 ],
 "metadata": {
  "interpreter": {
   "hash": "112989f40982219f9c2133127490be09f86560db102a13a350eb86b01002b443"
  },
  "kernelspec": {
   "display_name": "Python 3.9.7 ('base')",
   "language": "python",
   "name": "python3"
  },
  "language_info": {
   "name": "python",
   "version": "3.9.7"
  },
  "orig_nbformat": 4
 },
 "nbformat": 4,
 "nbformat_minor": 2
}
