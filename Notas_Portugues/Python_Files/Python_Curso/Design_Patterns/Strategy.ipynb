{
 "cells": [
  {
   "cell_type": "markdown",
   "id": "d62b2abd",
   "metadata": {},
   "source": [
    "Strategy é um padrão de projeto comportamental que tem a intenção de definir uma família de algoritmos, encapsular cada uma delas e torná-las intercambiáveis.\n",
    "Strategy permite que o algoritmo varie independentemente dos clientes que o utilizam.\n",
    "\n",
    "Princípio do aberto/fechado (Open/closed principle):\n",
    "Entidades devem ser abertas para extensão, mas fechadas para modificação"
   ]
  },
  {
   "cell_type": "code",
   "execution_count": 15,
   "id": "fdc324ef",
   "metadata": {},
   "outputs": [],
   "source": [
    "from __future__ import annotations\n",
    "from abc import ABC, abstractmethod\n",
    "\n",
    "class Order:\n",
    "    def __init__(self, total: float, discount: DiscountStrategy):\n",
    "        self._total = total\n",
    "        self._discount = discount\n",
    "        \n",
    "        \n",
    "    @property\n",
    "    def total(self):\n",
    "        return self._total\n",
    "    \n",
    "    @property\n",
    "    def total_with_discount(self):\n",
    "        return self._discount.calculate(self.total)\n",
    "    \n",
    "    \n",
    "    \n",
    "class DiscountStrategy(ABC):\n",
    "    @abstractmethod\n",
    "    def calculate(self, value: float) -> float: pass\n",
    "    \n",
    "    \n",
    "    \n",
    "class TwentyPercent(DiscountStrategy):\n",
    "    def calculate(self, value: float) -> float:\n",
    "        return value - (value * 0.2)\n",
    "    \n",
    "    \n",
    "    \n",
    "class FiftyPercent(DiscountStrategy):\n",
    "    def calculate(self, value: float) -> float:\n",
    "        return value - (value * 0.5)\n",
    "    \n",
    "    \n",
    "    \n",
    "class NoDiscount(DiscountStrategy):\n",
    "    def calculate(self, value: float) -> float:\n",
    "        return value\n",
    "    \n",
    "    \n",
    "    \n",
    "class CustomDiscount(DiscountStrategy):\n",
    "    def __init__(self, discount):\n",
    "        self.discount = discount / 100.0\n",
    "        \n",
    "        \n",
    "    def calculate(self, value: float) -> float:\n",
    "        return value - (value * self.discount)"
   ]
  },
  {
   "cell_type": "code",
   "execution_count": 16,
   "id": "891b976d",
   "metadata": {},
   "outputs": [
    {
     "name": "stdout",
     "output_type": "stream",
     "text": [
      "1000 800.0\n",
      "1000 500.0\n",
      "1000 1000\n",
      "1000 950.0\n"
     ]
    }
   ],
   "source": [
    "twenty_percent = TwentyPercent()\n",
    "fifty_percent = FiftyPercent()\n",
    "no_discount = NoDiscount()\n",
    "\n",
    "five_percent = CustomDiscount(5.0)\n",
    "\n",
    "\n",
    "order = Order(1000, twenty_percent)\n",
    "\n",
    "print(order.total, order.total_with_discount)\n",
    "\n",
    "\n",
    "order = Order(1000, fifty_percent)\n",
    "\n",
    "print(order.total, order.total_with_discount)\n",
    "\n",
    "\n",
    "order = Order(1000, no_discount)\n",
    "print(order.total, order.total_with_discount)\n",
    "\n",
    "\n",
    "\n",
    "order = Order(1000, five_percent)\n",
    "print(order.total, order.total_with_discount)"
   ]
  }
 ],
 "metadata": {
  "kernelspec": {
   "display_name": "Python 3 (ipykernel)",
   "language": "python",
   "name": "python3"
  },
  "language_info": {
   "codemirror_mode": {
    "name": "ipython",
    "version": 3
   },
   "file_extension": ".py",
   "mimetype": "text/x-python",
   "name": "python",
   "nbconvert_exporter": "python",
   "pygments_lexer": "ipython3",
   "version": "3.9.7"
  }
 },
 "nbformat": 4,
 "nbformat_minor": 5
}
