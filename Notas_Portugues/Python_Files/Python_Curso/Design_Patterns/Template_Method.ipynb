{
 "cells": [
  {
   "cell_type": "markdown",
   "metadata": {},
   "source": [
    "# Template Method\n",
    "Template Method (comportamental) tem a intenção de definir um algoritmo em um método, postergando alguns passos para as subclasses por herança. Template method permite que subclasses redefinam certos passos de um algoritmo sem mudar a estrutura do mesmo.\n",
    "\n",
    "Também é possível definir hooks para que as subsclasses utilizam caso necessário.\n",
    "\n",
    "The hollywood principle: \"Don't call us, we'll call you.\"\n",
    "(IoC - Inversão de Controle)"
   ]
  },
  {
   "cell_type": "code",
   "execution_count": 1,
   "metadata": {},
   "outputs": [],
   "source": [
    "from abc import ABC, abstractmethod\n",
    "class Abstract(ABC):\n",
    "    def template_method(self):\n",
    "        self.operation1()\n",
    "        self.operation2()\n",
    "\n",
    "    @abstractmethod\n",
    "    def operation1(self): pass\n",
    "\n",
    "    @abstractmethod\n",
    "    def operation2(self): pass\n",
    "\n",
    "\n",
    "class ConcreteClass(Abstract):\n",
    "\n",
    "    def operation1(self):\n",
    "        print(\"Operação 1 concluída\")\n",
    "\n",
    "    def operation2(self): \n",
    "        print(\"Operação 2 concluída\")\n"
   ]
  },
  {
   "cell_type": "code",
   "execution_count": 4,
   "metadata": {},
   "outputs": [
    {
     "name": "stdout",
     "output_type": "stream",
     "text": [
      "Operação 1 concluída\n",
      "Operação 2 concluída\n"
     ]
    }
   ],
   "source": [
    "c1 = ConcreteClass()\n",
    "c1.template_method()"
   ]
  },
  {
   "cell_type": "markdown",
   "metadata": {},
   "source": [
    "Outro exemplo"
   ]
  },
  {
   "cell_type": "code",
   "execution_count": 13,
   "metadata": {},
   "outputs": [],
   "source": [
    "class Pizza(ABC):\n",
    "    \"\"\" Classe Abstrata \"\"\"\n",
    "    def prepare(self) -> None:\n",
    "        \"\"\" Template Method \"\"\"\n",
    "        self.hook_before_add_ingredients()\n",
    "        self.add_ingredients() # Abstract\n",
    "        self.hook_after_add_ingredients()\n",
    "        self.cook() # Abstract\n",
    "        self.cut() # Concreto\n",
    "        self.serve() # Concreto\n",
    "\n",
    "\n",
    "    def hook_before_add_ingredients(self) -> None: pass\n",
    "    \n",
    "    def hook_after_add_ingredients(self) -> None: pass\n",
    "\n",
    "\n",
    "    def cut(self) -> None:\n",
    "        print(f\"{self.__class__.__name__}: cortando pizza.\")\n",
    "\n",
    "\n",
    "    def serve(self) -> None:\n",
    "        print(f\"{self.__class__.__name__}: servindo pizza.\")\n",
    "\n",
    "\n",
    "    @abstractmethod\n",
    "    def add_ingredients() -> None: pass\n",
    "\n",
    "    @abstractmethod\n",
    "    def cook(self) -> None: pass\n",
    "\n",
    "\n",
    "\n",
    "class AModa(Pizza):\n",
    "    def add_ingredients(self) -> None:\n",
    "        print(f'{self.__class__.__name__}: presunto, queijo e goiabada')\n",
    "\n",
    "    def cook(self):\n",
    "        print(f'{self.__class__.__name__}: cozinhado por 45min no forno a lenha')\n",
    "\n",
    "\n",
    "    \n",
    "class Veg(Pizza):\n",
    "    def hook_before_add_ingredients(self):\n",
    "        print(f'{self.__class__.__name__}: Lavando ingredientes')\n",
    "\n",
    "    def add_ingredients(self):\n",
    "        print(f'{self.__class__.__name__}: ingredientes veganos')\n",
    "\n",
    "    def cook(self):\n",
    "        print(f'{self.__class__.__name__}: cozinhado por 5min no forno comum')\n",
    "\n",
    "\n",
    "\n",
    "    \n"
   ]
  },
  {
   "cell_type": "code",
   "execution_count": 14,
   "metadata": {},
   "outputs": [
    {
     "name": "stdout",
     "output_type": "stream",
     "text": [
      "AModa: presunto, queijo e goiabada\n",
      "AModa: cozinhado por 45min no forno a lenha\n",
      "AModa: cortando pizza.\n",
      "AModa: servindo pizza.\n",
      "\n",
      "Veg: Lavando ingredientes\n",
      "Veg: ingredientes veganos\n",
      "Veg: cozinhado por 5min no forno comum\n",
      "Veg: cortando pizza.\n",
      "Veg: servindo pizza.\n"
     ]
    }
   ],
   "source": [
    "a_moda = AModa()\n",
    "a_moda.prepare()\n",
    "\n",
    "print()\n",
    "\n",
    "veg = Veg()\n",
    "veg.prepare()"
   ]
  }
 ],
 "metadata": {
  "interpreter": {
   "hash": "112989f40982219f9c2133127490be09f86560db102a13a350eb86b01002b443"
  },
  "kernelspec": {
   "display_name": "Python 3.9.7 ('base')",
   "language": "python",
   "name": "python3"
  },
  "language_info": {
   "codemirror_mode": {
    "name": "ipython",
    "version": 3
   },
   "file_extension": ".py",
   "mimetype": "text/x-python",
   "name": "python",
   "nbconvert_exporter": "python",
   "pygments_lexer": "ipython3",
   "version": "3.9.7"
  },
  "orig_nbformat": 4
 },
 "nbformat": 4,
 "nbformat_minor": 2
}
