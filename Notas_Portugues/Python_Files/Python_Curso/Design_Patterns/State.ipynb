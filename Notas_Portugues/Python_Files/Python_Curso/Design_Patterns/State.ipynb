{
 "cells": [
  {
   "cell_type": "markdown",
   "metadata": {},
   "source": [
    "# State\n",
    "O padrão de projeto State é um padrão comportamental que tem a intenção de permitir a um objeto mudar seu comportamento quando o seu estado interno muda.\n",
    "O objeto parecerá ter mudado sua classe."
   ]
  },
  {
   "cell_type": "markdown",
   "metadata": {},
   "source": [
    "## Criando um apicativo de pagamento utilizando if-else statement"
   ]
  },
  {
   "cell_type": "code",
   "execution_count": 5,
   "metadata": {},
   "outputs": [],
   "source": [
    "from __future__ import annotations\n",
    "from enum import Enum, auto\n",
    "from abc import ABC, abstractmethod"
   ]
  },
  {
   "cell_type": "code",
   "execution_count": 3,
   "metadata": {},
   "outputs": [],
   "source": [
    "# Construindo um aplicativo de ordem de pagamento utilizando o Enum\n",
    "class Payment(Enum):\n",
    "    \"\"\"\n",
    "    Definimos um enum com as opções de estado que o nosso objeto Order pode ter\n",
    "    \"\"\"\n",
    "\n",
    "    Pending = auto()\n",
    "    Approved = auto()\n",
    "    Rejected = auto()\n",
    "\n",
    "\n",
    "    def __str__(self):\n",
    "        \"\"\"\n",
    "        O retorno aqui será o nome da classe (Payment) mais o nome\n",
    "        do membro. Ex.: PaymentApproved\n",
    "        \"\"\"\n",
    "        return f'{self.__class__.__name__}{self.name}'\n",
    "\n",
    "\n",
    "class Order:\n",
    "    def __init__(self) -> None:\n",
    "        self.state: Payment = Payment.Pending\n",
    "\n",
    "\n",
    "    def change_state(self, state: Payment):\n",
    "        \"\"\"O CÓDIGO A SEGUIR NÃO APRESENTA O PADRÃO DE PROJETO STATE\n",
    "        É UM EXEMPLO DO PROBLEMA QUE O PADRÃO TENTA SOLUCIONAR\n",
    "        \"\"\"\n",
    "\n",
    "        # Pending\n",
    "        if self.state == Payment.Pending and state == Payment.Pending:\n",
    "            print(\"Pagamento já pendente, não mover para pendente.\")\n",
    "        elif self.state == Payment.Pending and state == Payment.Approved:\n",
    "            self.state = Payment.Approved\n",
    "            print(\"Pagamento aprovado\")\n",
    "        elif self.state == Payment.Pending and state == Payment.Rejected:\n",
    "            self.state = Payment.Rejected\n",
    "            print(\"Pagamento recusado\")\n",
    "\n",
    "\n",
    "        # Approved\n",
    "        elif self.state == Payment.Approved and state == Payment.Approved:\n",
    "            print(\"Pagamento já aprovado, não vou aprovar novamente\")\n",
    "        elif self.state == Payment.Approved and state == Payment.Rejected:\n",
    "            self.state = Payment.Rejected\n",
    "            print(\"Pagamento Recusado\")\n",
    "        elif self.state == Payment.Approved and state == Payment.Pending:\n",
    "            self.state = Payment.Approved\n",
    "            print(\"Pagamento aprovado\")\n",
    "\n",
    "        # Rejected\n",
    "        elif self.state == Payment.Rejected and state == Payment.Approved:\n",
    "            print(\"Pagamento já recusado, não posso aprovar.\")\n",
    "        elif self.state == Payment.Rejected and state == Payment.Rejected:\n",
    "            print(\"Pagamento recusado. Não pode recusar novamente\")\n",
    "\n",
    "        elif self.state == Payment.Rejected and state == Payment.Pending:\n",
    "            print(\"Pagamento recusado. Não pode ser movido para pendente\")\n",
    "        \n",
    "        print(f'Estado atual: {self.state}')\n",
    "        print()\n",
    "        \n",
    "\n",
    "    def pending(self) -> None:\n",
    "        print('Tentando executar pending(Payment.Pending)')\n",
    "        self.change_state(Payment.Pending)\n",
    "\n",
    "\n",
    "    def approve(self) -> None:\n",
    "        print(\"Tentando executar approve(Payment.Approved\")\n",
    "        self.change_state(Payment.Approved)\n",
    "\n",
    "\n",
    "    def reject(self) -> None:\n",
    "        print(\"Tentando executar reject(Payment.Rejected)\")\n",
    "        self.change_state(Payment.Rejected)"
   ]
  },
  {
   "cell_type": "code",
   "execution_count": 4,
   "metadata": {},
   "outputs": [
    {
     "name": "stdout",
     "output_type": "stream",
     "text": [
      "Tentando executar approve(Payment.Approved\n",
      "Pagamento aprovado\n",
      "Estado atual: PaymentApproved\n",
      "\n",
      "Tentando executar approve(Payment.Approved\n",
      "Pagamento já aprovado, não vou aprovar novamente\n",
      "Estado atual: PaymentApproved\n",
      "\n",
      "Tentando executar reject(Payment.Rejected)\n",
      "Pagamento Recusado\n",
      "Estado atual: PaymentRejected\n",
      "\n",
      "Tentando executar approve(Payment.Approved\n",
      "Pagamento já recusado, não posso aprovar.\n",
      "Estado atual: PaymentRejected\n",
      "\n",
      "Tentando executar pending(Payment.Pending)\n",
      "Pagamento recusado. Não pode ser movido para pendente\n",
      "Estado atual: PaymentRejected\n",
      "\n"
     ]
    }
   ],
   "source": [
    "o1 = Order()\n",
    "o1.approve()\n",
    "o1.approve()\n",
    "o1.reject()\n",
    "o1.approve()\n",
    "o1.pending()"
   ]
  },
  {
   "cell_type": "markdown",
   "metadata": {},
   "source": [
    "## Criando um aplicativo de pagamento utilizando o Padrão de Projeto State"
   ]
  },
  {
   "cell_type": "code",
   "execution_count": null,
   "metadata": {},
   "outputs": [],
   "source": [
    "class Order:\n",
    "    \"\"\" Context \"\"\"\n",
    "    def __init__(self) -> None:\n",
    "        self.state: OrderState = PaymentPending(self)\n",
    "\n",
    "\n",
    "\n",
    "class OrderState(ABC):\n",
    "    def __init__(self, order: Order):\n",
    "        self.order = order\n",
    "\n",
    "    @abstractmethod\n",
    "    def pending(self) -> None: pass\n",
    "\n",
    "    @abstractmethod\n",
    "    def approve(self) -> None: pass\n",
    "\n",
    "    @abstractmethod\n",
    "    def reject(self) -> None: pass\n",
    "\n",
    "\n",
    "class PaymentPending(OrderState):\n",
    "    def __init__(self, order: Order):\n",
    "        self.order = order\n",
    "\n",
    "        def pending(self) -> None: pass\n",
    "\n",
    "        def approve(self) -> None: pass\n",
    "\n",
    "        def reject(self) -> None: pass\n",
    "\n",
    "\n",
    "\n",
    "class PaymentApproved(OrderState):\n",
    "    def __init(self, order: Order):\n",
    "        self.order = order\n",
    "\n",
    "        def pending(self) -> None: pass\n",
    "\n",
    "        def approve(self) -> None: pass\n",
    "\n",
    "        def reject(self) -> None: pass"
   ]
  }
 ],
 "metadata": {
  "interpreter": {
   "hash": "112989f40982219f9c2133127490be09f86560db102a13a350eb86b01002b443"
  },
  "kernelspec": {
   "display_name": "Python 3.9.7 ('base')",
   "language": "python",
   "name": "python3"
  },
  "language_info": {
   "codemirror_mode": {
    "name": "ipython",
    "version": 3
   },
   "file_extension": ".py",
   "mimetype": "text/x-python",
   "name": "python",
   "nbconvert_exporter": "python",
   "pygments_lexer": "ipython3",
   "version": "3.9.7"
  },
  "orig_nbformat": 4
 },
 "nbformat": 4,
 "nbformat_minor": 2
}
