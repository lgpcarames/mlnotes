{
 "cells": [
  {
   "cell_type": "markdown",
   "metadata": {},
   "source": [
    "# Iterator\n",
    "Iterator é um padrão comportamental que tem a intenção de fornecer um meio de acessar, sequencialmente, os elementos de um objeto agregado sem expor sua representação subjacente.\n",
    "\n",
    "- Uma coleção deve fornecer um meio de acessar seus elementos sem expor sua estrutura interna.\n",
    "\n",
    "- Uma coleção pode ter maneiras e percursos diferentes para expor seus elementos.\n",
    "\n",
    "- Você deve separar a complexidade dos algoritmos de iteração da coleção em si.\n",
    "\n",
    "A ideia principal do padrão é retirar a responsabilidade de acesso e percurso de uma coleção, delegando tais tarefas para um objeto iterador."
   ]
  },
  {
   "cell_type": "code",
   "execution_count": 4,
   "metadata": {},
   "outputs": [],
   "source": [
    "from collections.abc import Iterator, Iterable\n",
    "from typing import List, Any\n",
    "\n",
    "class MyIterator(Iterator):\n",
    "    def __init__(self, collection: List[Any]) -> None:\n",
    "        self._collection = collection\n",
    "        self._index = 0\n",
    "\n",
    "    def __next__(self):\n",
    "        try:\n",
    "            item = self._collection[self._index]\n",
    "            self._index += 1\n",
    "            return item\n",
    "        except IndexError:\n",
    "            raise StopIteration\n",
    "\n",
    "\n",
    "\n",
    "class MyList(Iterable):\n",
    "    def __init__(self) -> None:\n",
    "        self._items: List[Any] = []\n",
    "        # self._my_iterator = MyIterator(self._items)  # mesmo comportamento do Python\n",
    "\n",
    "\n",
    "    def add(self, value: Any) -> None:\n",
    "        self._items.append(value)\n",
    "\n",
    "    def __iter__(self) -> Iterator:\n",
    "        return MyIterator(self._items)\n",
    "        # return self._my_iterator # Mesmo comportamento do Python\n",
    "\n",
    "    def __str__(self) -> str:\n",
    "        return f'{self.__class__.__name__}{self._items}'"
   ]
  },
  {
   "cell_type": "code",
   "execution_count": 5,
   "metadata": {},
   "outputs": [
    {
     "name": "stdout",
     "output_type": "stream",
     "text": [
      "MyList['Luiz', 'Maria', 'João']\n",
      "Luiz\n",
      "Maria\n",
      "João\n"
     ]
    }
   ],
   "source": [
    "mylist = MyList()\n",
    "\n",
    "mylist.add('Luiz')\n",
    "mylist.add('Maria')\n",
    "mylist.add('João')\n",
    "\n",
    "print(mylist)\n",
    "\n",
    "\n",
    "for value in mylist:\n",
    "    print(value)"
   ]
  }
 ],
 "metadata": {
  "interpreter": {
   "hash": "112989f40982219f9c2133127490be09f86560db102a13a350eb86b01002b443"
  },
  "kernelspec": {
   "display_name": "Python 3.9.7 ('base')",
   "language": "python",
   "name": "python3"
  },
  "language_info": {
   "codemirror_mode": {
    "name": "ipython",
    "version": 3
   },
   "file_extension": ".py",
   "mimetype": "text/x-python",
   "name": "python",
   "nbconvert_exporter": "python",
   "pygments_lexer": "ipython3",
   "version": "3.9.7"
  },
  "orig_nbformat": 4
 },
 "nbformat": 4,
 "nbformat_minor": 2
}
