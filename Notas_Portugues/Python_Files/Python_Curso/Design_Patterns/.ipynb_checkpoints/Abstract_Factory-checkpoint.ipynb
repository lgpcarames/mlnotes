{
 "cells": [
  {
   "cell_type": "markdown",
   "id": "b2a281ba",
   "metadata": {},
   "source": [
    "# Abstract Factory"
   ]
  },
  {
   "cell_type": "markdown",
   "id": "9f330f78",
   "metadata": {},
   "source": [
    "**Abstract Factory** é um padrão de criação que fornece uma interface para criar famílias de objetos relacionados ou dependentes sem especificar suas classes concretas. Geralmente Abstract Factory conta com um ou mais Factory Methods para criar seus objetos.\n",
    "\n",
    "Uma diferença importante entre Factory Method e Abstract Factory é que o Factory Method usa herança, enquanto Abstract Factory usa a composição.\n",
    "\n",
    "Princípio: programe para interfaces, não para implementações."
   ]
  },
  {
   "cell_type": "markdown",
   "id": "711abc34",
   "metadata": {},
   "source": [
    "No primeiro momento, criamos uma maneira de abstrair veículos a serem utilizados pela nossa empresa, podendo utilizá-los de uma maneira desacoplada.\n",
    "\n",
    "Num segundo momento, a nossa empresa cresceu tanto ao ponto de que ela deveria servir mais de uma região, logo, precisamos abstraí-la também, criando a empresa na zona norte e outra na zona sul. Porém, nessa aplicação, um problema persistiu. Os veículos a serem utilizados na zona norte e na zona sul eram escolhidos compartilhando a mesma classe concreta, o que é um grande problema em termos de desacoplamento das aplicações do projeto. Isso porque pode ser que em algum momento, por exemplo, um cliente possa solicitar um carro popular na zona sul e este ser solicitado na zona norte, pois a classe que responde a solicitação é a mesma em ambas as empresas.\n",
    "\n",
    "Outra coisa, é que todas as classes de veículos possuem, aparentemente, os mesmos preços. O que talvez não seja interessante pois se ambos possuem o mesmo preço, pode ser que não compensaria possuir uma frota popular, pois provavelmente a grande maioria dos clientes iriam solicitar uma frota de luxo, porém, diferenciando o preço, podemos fazer um ajuste na oferta e demanda do serviço, isso é, fazer com que a taxa para utilizar os veículos populares seja menor do que a utilização de veículos de luxo. Isso permitiria que clientes que queiram pagar um pouco menos por uma corrida possam utilizar um serviço mais em conta, enquanto que clientes que queiram utilizar veículos de luxo possam desfrutar desse serviço com a possibilidade de uma maior disponibilidade do que teria no primeiro cenário.\n",
    "\n",
    "A proposta para solucionar este problema é, portanto, abstrair os veículos populares e de luxo."
   ]
  },
  {
   "cell_type": "code",
   "execution_count": 2,
   "id": "d650f1f2",
   "metadata": {},
   "outputs": [],
   "source": [
    "from abc import ABC, abstractmethod"
   ]
  },
  {
   "cell_type": "code",
   "execution_count": 14,
   "id": "f553cb86",
   "metadata": {},
   "outputs": [],
   "source": [
    "class VeiculoLuxo(ABC):\n",
    "    @abstractmethod\n",
    "    def buscar_cliente(self) -> None: pass\n",
    "    \n",
    "class VeiculoPopular(ABC):\n",
    "    @abstractmethod\n",
    "    def buscar_cliente(self) -> None: pass\n",
    "    \n",
    "class CarroLuxoZN(VeiculoLuxo):\n",
    "    def buscar_cliente(self) -> None:\n",
    "        print('Carro de luxo ZN está buscando cliente...')\n",
    "\n",
    "class CarroPopularZN(VeiculoPopular):\n",
    "    def buscar_cliente(self) -> None:\n",
    "        print('Carro popular ZN está buscando cliente...')\n",
    "        \n",
    "class MotoLuxoZN(VeiculoLuxo):\n",
    "    def buscar_cliente(self) -> None:\n",
    "        print('Moto de Luxo ZN está buscando cliente....')\n",
    "        \n",
    "        \n",
    "class MotoPopularZN(VeiculoPopular):\n",
    "    def buscar_cliente(self) -> None:\n",
    "        print('Moto popular ZN está buscando cliente...')\n",
    "        \n",
    "        \n",
    "class CarroLuxoZS(VeiculoLuxo):\n",
    "    def buscar_cliente(self) -> None:\n",
    "        print('Carro de Luxo ZS está buscando cliente...')\n",
    "        \n",
    "class CarroPopularZS(VeiculoPopular):\n",
    "    def buscar_cliente(self) -> None:\n",
    "        print('Carro Popular ZS está buscando cliente...')\n",
    "        \n",
    "class MotoLuxoZS(VeiculoLuxo):\n",
    "    def buscar_cliente(self) -> None:\n",
    "        print('Moto de Luxo ZS está buscando cliente')\n",
    "        \n",
    "class MotoPopularZS(VeiculoPopular):\n",
    "    def buscar_cliente(self) -> None:\n",
    "        print('Moto Popular ZS está buscando cliente')"
   ]
  },
  {
   "cell_type": "markdown",
   "id": "a0597338",
   "metadata": {},
   "source": [
    "Em vez de utilizarmos a solução anterior na factory de chamar as classes abstratar a partir de um if-else statement, iremos realizar uma outra estratégia. Podemos ter um método para obter cada veículo"
   ]
  },
  {
   "cell_type": "code",
   "execution_count": 15,
   "id": "7bc26a96",
   "metadata": {},
   "outputs": [],
   "source": [
    "class VeiculoFactory(ABC):\n",
    "    @staticmethod\n",
    "    @abstractmethod\n",
    "    def get_carro_luxo() -> VeiculoLuxo: pass\n",
    "    \n",
    "    @staticmethod\n",
    "    @abstractmethod\n",
    "    def get_carro_popular() -> VeiculoPopular: pass\n",
    "    \n",
    "    @staticmethod\n",
    "    @abstractmethod\n",
    "    def get_moto_luxo() -> VeiculoLuxo: pass\n",
    "    \n",
    "    @staticmethod\n",
    "    @abstractmethod\n",
    "    def get_moto_popular() -> VeiculoPopular: pass\n",
    "    "
   ]
  },
  {
   "cell_type": "code",
   "execution_count": 16,
   "id": "2190c2a4",
   "metadata": {},
   "outputs": [],
   "source": [
    "class ZonaNorteVeiculoFactory(VeiculoFactory):\n",
    "    @staticmethod\n",
    "    def get_carro_luxo() -> VeiculoLuxo:\n",
    "        return CarroLuxoZN()\n",
    "    \n",
    "    @staticmethod\n",
    "    def get_carro_popular() -> VeiculoPopular:\n",
    "        return CarroPopularZN()\n",
    "    \n",
    "    @staticmethod\n",
    "    def get_moto_luxo() -> VeiculoLuxo:\n",
    "        return MotoLuxoZN()\n",
    "    \n",
    "    @staticmethod\n",
    "    def get_moto_popular() -> VeiculoPopular:\n",
    "        return MotoPopularZN()\n",
    "    \n",
    "    \n",
    "    \n",
    "class ZonaSulVeiculoFactory(VeiculoFactory):\n",
    "    @staticmethod\n",
    "    def get_carro_luxo() -> VeiculoLuxo:\n",
    "        return CarroLuxoZS()\n",
    "    \n",
    "    @staticmethod\n",
    "    def get_carro_popular() -> VeiculoPopular:\n",
    "        return CarroPopularZS()\n",
    "    \n",
    "    @staticmethod\n",
    "    def get_moto_luxo() -> VeiculoLuxo:\n",
    "        return MotoLuxoZS()\n",
    "    \n",
    "    @staticmethod\n",
    "    def get_moto_popular() -> VeiculoPopular:\n",
    "        return MotoPopularZS()\n",
    "    "
   ]
  },
  {
   "cell_type": "markdown",
   "id": "d6497350",
   "metadata": {},
   "source": [
    "Vamos criar a classe filial"
   ]
  },
  {
   "cell_type": "code",
   "execution_count": 17,
   "id": "ea9ab2f5",
   "metadata": {},
   "outputs": [],
   "source": [
    "class Cliente:\n",
    "    def busca_clientes(self):\n",
    "        for factory in [ZonaNorteVeiculoFactory(), ZonaSulVeiculoFactory()]:\n",
    "            carro_popular = factory.get_carro_popular()\n",
    "            carro_popular.buscar_cliente()\n",
    "            \n",
    "            carro_luxo = factory.get_carro_luxo()\n",
    "            carro_luxo.buscar_cliente()\n",
    "            \n",
    "            moto_popular = factory.get_moto_popular()\n",
    "            moto_popular.buscar_cliente()\n",
    "            \n",
    "            moto_luxo = factory.get_moto_luxo()\n",
    "            moto_luxo.buscar_cliente()\n",
    "        "
   ]
  },
  {
   "cell_type": "code",
   "execution_count": 18,
   "id": "80ccf204",
   "metadata": {},
   "outputs": [
    {
     "name": "stdout",
     "output_type": "stream",
     "text": [
      "Carro popular ZN está buscando cliente...\n",
      "Carro de luxo ZN está buscando cliente...\n",
      "Moto popular ZN está buscando cliente...\n",
      "Moto de Luxo ZN está buscando cliente....\n",
      "Carro Popular ZS está buscando cliente...\n",
      "Carro de Luxo ZS está buscando cliente...\n",
      "Moto Popular ZS está buscando cliente\n",
      "Moto de Luxo ZS está buscando cliente\n"
     ]
    }
   ],
   "source": [
    "# Código Cliente\n",
    "cliente = Cliente()\n",
    "cliente.busca_clientes()"
   ]
  }
 ],
 "metadata": {
  "kernelspec": {
   "display_name": "Python 3 (ipykernel)",
   "language": "python",
   "name": "python3"
  },
  "language_info": {
   "codemirror_mode": {
    "name": "ipython",
    "version": 3
   },
   "file_extension": ".py",
   "mimetype": "text/x-python",
   "name": "python",
   "nbconvert_exporter": "python",
   "pygments_lexer": "ipython3",
   "version": "3.9.7"
  }
 },
 "nbformat": 4,
 "nbformat_minor": 5
}
