{
 "cells": [
  {
   "cell_type": "markdown",
   "id": "f4f67e55",
   "metadata": {},
   "source": [
    "# Builder (Criação)"
   ]
  },
  {
   "cell_type": "markdown",
   "id": "f5a63ad7",
   "metadata": {},
   "source": [
    "Builder é um padrão de criação que tem a intenção de separar a construção de um objeto complexo da sua representação, de modo que o mesmo processo de construção possa criar diferentes representações.\n",
    "\n",
    "Builder te dá a possibilidade de criar objetos passo-a-passo e isso já é possível no Python sem este padrão.\n",
    "\n",
    "Geralmente o builder aceita o encadeamento de métodos (method chaining)."
   ]
  },
  {
   "cell_type": "code",
   "execution_count": 5,
   "id": "63fc2008",
   "metadata": {},
   "outputs": [],
   "source": [
    "from abc import ABC, abstractmethod"
   ]
  },
  {
   "cell_type": "code",
   "execution_count": 17,
   "id": "d588a11a",
   "metadata": {},
   "outputs": [],
   "source": [
    "class StringReprMixin:\n",
    "    def __str__(self):\n",
    "        params = ', '.join(\n",
    "            [f'{k}={v}' for k, v in self.__dict__.items()]\n",
    "        )\n",
    "        return f'{self.__class__.__name__}({params})'\n",
    "    def __repr__(self):\n",
    "        return self.__str__()\n",
    "\n",
    "class User(StringReprMixin):\n",
    "    def __init__(self):\n",
    "        self.firstname = None\n",
    "        self.lastname = None\n",
    "        self.age = None\n",
    "        self.phone_numbers = []\n",
    "        self.addresses = []"
   ]
  },
  {
   "cell_type": "code",
   "execution_count": 12,
   "id": "069d228e",
   "metadata": {},
   "outputs": [],
   "source": [
    "class IUserBuilder(ABC):\n",
    "    @property\n",
    "    @abstractmethod\n",
    "    def result(self): pass\n",
    "    \n",
    "    \n",
    "    @abstractmethod\n",
    "    def add_firstname(self, firstname): pass\n",
    "    \n",
    "    @abstractmethod\n",
    "    def add_lastname(self, lastname): pass\n",
    "    \n",
    "    @abstractmethod\n",
    "    def add_age(self, age): pass\n",
    "    \n",
    "    @abstractmethod\n",
    "    def add_phone(self, phone): pass\n",
    "    \n",
    "    @abstractmethod\n",
    "    def add_address(self, address): pass"
   ]
  },
  {
   "cell_type": "code",
   "execution_count": 13,
   "id": "527c7d9b",
   "metadata": {},
   "outputs": [],
   "source": [
    "class UserBuilder(IUserBuilder):\n",
    "    \n",
    "    def __init__(self):\n",
    "        self.reset()\n",
    "\n",
    "    def reset(self):\n",
    "        self._result = User()\n",
    "\n",
    "    \n",
    "    @property\n",
    "    def result(self):\n",
    "        return_data = self._result\n",
    "        self.reset()\n",
    "        return return_data\n",
    "    \n",
    "    def add_firstname(self, firstname):\n",
    "        self._result.firstname = firstname\n",
    "    \n",
    "    def add_lastname(self, lastname):\n",
    "        self._result.lastname = lastname\n",
    "    \n",
    "    def add_age(self, age):\n",
    "        self._result.age = age\n",
    "    \n",
    "    def add_phone(self, phone):\n",
    "        self._result.phone_number.append(phone)\n",
    "    \n",
    "    def add_address(self, address):\n",
    "        self._result.addresses.append(address)"
   ]
  },
  {
   "cell_type": "code",
   "execution_count": 14,
   "id": "ac5b8d31",
   "metadata": {},
   "outputs": [],
   "source": [
    "class UserDirector:\n",
    "    def __init__(self, builder: UserBuilder):\n",
    "        self._builder = builder\n",
    "        \n",
    "    def with_age(self, firstname, lastname, age):\n",
    "        self._builder.add_firstname(firstname)\n",
    "        self._builder.add_lastname(lastname)\n",
    "        self._builder.add_age(age)\n",
    "        return self._builder.result\n",
    "    "
   ]
  },
  {
   "cell_type": "code",
   "execution_count": 18,
   "id": "90d76179",
   "metadata": {},
   "outputs": [
    {
     "name": "stdout",
     "output_type": "stream",
     "text": [
      "User(firstname=Lucas, lastname=Carames, age=26, phone_numbers=[], addresses=[])\n"
     ]
    }
   ],
   "source": [
    "user_builder = UserBuilder()\n",
    "\n",
    "user_director = UserDirector(user_builder)\n",
    "\n",
    "\n",
    "user1 = user_director.with_age('Lucas', 'Carames', 26)\n",
    "\n",
    "print(user1)"
   ]
  }
 ],
 "metadata": {
  "kernelspec": {
   "display_name": "Python 3 (ipykernel)",
   "language": "python",
   "name": "python3"
  },
  "language_info": {
   "codemirror_mode": {
    "name": "ipython",
    "version": 3
   },
   "file_extension": ".py",
   "mimetype": "text/x-python",
   "name": "python",
   "nbconvert_exporter": "python",
   "pygments_lexer": "ipython3",
   "version": "3.9.7"
  }
 },
 "nbformat": 4,
 "nbformat_minor": 5
}
