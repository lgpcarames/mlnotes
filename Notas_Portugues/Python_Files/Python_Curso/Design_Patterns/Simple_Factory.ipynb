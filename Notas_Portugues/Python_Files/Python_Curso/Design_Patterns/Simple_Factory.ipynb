{
 "cells": [
  {
   "cell_type": "markdown",
   "id": "d32f0616",
   "metadata": {},
   "source": [
    "# Simple Factory"
   ]
  },
  {
   "cell_type": "markdown",
   "id": "c8aa3036",
   "metadata": {},
   "source": [
    "Na programação orientada a objetos (POO), o termos factory (fábrica) refere-se a uma classe ou método que é responsável por criar objetos.\n",
    "\n",
    "\n",
    "Vantagens:\n",
    "- Permitem criar um sistema com baixo acoplamento entre classes porque ocultam as classes que criam os objetos do código cliente;\n",
    "- Facillitam a adição de novas classes ao código, porque o cliente não conhece e nem utiliza a implementação da classe (utiliza o factory);\n",
    "- Podem facilitar o processo de \"cache\" ou criação de \"singletons\" porque a fábrica pode retornar um objeto já criado para o cliente, ao invés de criar novos objetos sempre que o cliente precisar.\n",
    "\n",
    "Desvantagens:\n",
    "- Podem introduzir muitas classes no código.\n",
    "\n",
    "Vamos ver 2 tipos de factory da GoF: Factory Method e Abstract Factory.\n",
    "\n",
    "Nessa aula:\n",
    "Simple Factory <- Uma espécie de Factory Method parametrizado;\n",
    "Simple Factory pode não ser considerado um padrão de projeto por si só;\n",
    "Simple Factory pode quebrar princípios do SOLID"
   ]
  },
  {
   "cell_type": "markdown",
   "id": "8c0749fb",
   "metadata": {},
   "source": [
    "## Problema:\n",
    "Imaginemos que temos um aplicativo em que um cliente pode solicitar um carro, ou um táxi, a partir deste.\n",
    "\n",
    "Podemos imaginar que o cliente possa chamar um carro de luxo, ou um carro popular, logo, teríamos que ter algum tipo de veículo que o cliente possa chamar. Com isso, vamos criar uma classe Veículo, para abarcar todas essas informações. Mas como queremos que essa classe generalize um conceito na minha solução, que seria  os tipos de veículos que possam ser acessados, então instanciaremos a classe como uma classe abstrata"
   ]
  },
  {
   "cell_type": "code",
   "execution_count": 4,
   "id": "ce895068",
   "metadata": {},
   "outputs": [],
   "source": [
    "from abc import ABC, abstractmethod"
   ]
  },
  {
   "cell_type": "code",
   "execution_count": 5,
   "id": "7d4ae15c",
   "metadata": {},
   "outputs": [],
   "source": [
    "class Veiculo(ABC):\n",
    "    pass\n",
    "    # o que eu quero que todo o veículo faça no meu sistema?\n",
    "        # eu quero que o meu veículo busque o cliente.\n",
    "    @abstractmethod\n",
    "    def buscar_cliente(self) -> None: pass\n",
    "    # pronto, temos o nosso contrato."
   ]
  },
  {
   "cell_type": "markdown",
   "id": "c0bfec81",
   "metadata": {},
   "source": [
    "Agora queremos especializar a nossa classe abstrata, com isso"
   ]
  },
  {
   "cell_type": "code",
   "execution_count": 9,
   "id": "f3731bd2",
   "metadata": {},
   "outputs": [],
   "source": [
    "class CarroLuxo(Veiculo):\n",
    "    def buscar_cliente(self) -> None:\n",
    "        print('Carro de luxo está buscando o cliente...')"
   ]
  },
  {
   "cell_type": "raw",
   "id": "f2cacd6a",
   "metadata": {},
   "source": [
    "Pronto, agora criaremos mais uma opção de veículo no nosso sistema"
   ]
  },
  {
   "cell_type": "code",
   "execution_count": 13,
   "id": "192e5594",
   "metadata": {},
   "outputs": [],
   "source": [
    "class CarroPopular(Veiculo):\n",
    "    def buscar_cliente(self) -> None:\n",
    "        print('Carro popular está buscando o cliente...')"
   ]
  },
  {
   "cell_type": "code",
   "execution_count": 21,
   "id": "c13813f1",
   "metadata": {},
   "outputs": [],
   "source": [
    "class MotoLuxo(Veiculo):\n",
    "    def buscar_cliente(self) -> None:\n",
    "        print('Moto de luxo está buscando o cliente...')"
   ]
  },
  {
   "cell_type": "code",
   "execution_count": 22,
   "id": "533a37e9",
   "metadata": {},
   "outputs": [],
   "source": [
    "class MotoPopular(Veiculo):\n",
    "    def buscar_cliente(self) -> None:\n",
    "        print('Moto popular está buscando o cliente...')"
   ]
  },
  {
   "cell_type": "markdown",
   "id": "efc44c7c",
   "metadata": {},
   "source": [
    "Como fazemos parar criar uma simple factory a partir do ponto em que paramos?\n",
    "Iremos criar uma nova classe chamada _VeiculoFactory_ que irá possuir uma factory method que irá criar os objetos necessários para o bom funcionamento do meu sistema"
   ]
  },
  {
   "cell_type": "code",
   "execution_count": 23,
   "id": "59dac476",
   "metadata": {},
   "outputs": [],
   "source": [
    "class VeiculoFactory:\n",
    "    @staticmethod\n",
    "    def get_carro(tipo: str) -> Veiculo:\n",
    "        if tipo == 'luxo':\n",
    "            return CarroLuxo()\n",
    "        if tipo == 'popular':\n",
    "            return CarroPopular()\n",
    "        if tipo == 'moto':\n",
    "            return MotoPopular()\n",
    "        if tipo == 'moto_luxo':\n",
    "            return MotoLuxo()\n",
    "        assert 0, 'Veiculo não existe.'"
   ]
  },
  {
   "cell_type": "code",
   "execution_count": 25,
   "id": "fc783a05",
   "metadata": {},
   "outputs": [
    {
     "name": "stdout",
     "output_type": "stream",
     "text": [
      "Moto popular está buscando o cliente...\n",
      "Carro de luxo está buscando o cliente...\n",
      "Moto popular está buscando o cliente...\n",
      "Moto popular está buscando o cliente...\n",
      "Carro de luxo está buscando o cliente...\n",
      "Carro de luxo está buscando o cliente...\n",
      "Moto de luxo está buscando o cliente...\n",
      "Carro de luxo está buscando o cliente...\n",
      "Moto de luxo está buscando o cliente...\n",
      "Moto de luxo está buscando o cliente...\n",
      "Carro popular está buscando o cliente...\n",
      "Moto popular está buscando o cliente...\n",
      "Carro de luxo está buscando o cliente...\n",
      "Carro de luxo está buscando o cliente...\n",
      "Moto de luxo está buscando o cliente...\n",
      "Moto popular está buscando o cliente...\n",
      "Moto popular está buscando o cliente...\n",
      "Moto popular está buscando o cliente...\n",
      "Moto popular está buscando o cliente...\n",
      "Moto de luxo está buscando o cliente...\n"
     ]
    }
   ],
   "source": [
    "# ___CÓDIGO DO CLIENTE___\n",
    "from random import choice\n",
    "carros_disponiveis = ['luxo','popular', 'moto', 'moto_luxo']\n",
    "\n",
    "for i in range(20):\n",
    "    carro = VeiculoFactory.get_carro(choice(carros_disponiveis))\n",
    "    carro.buscar_cliente()\n",
    "    "
   ]
  }
 ],
 "metadata": {
  "kernelspec": {
   "display_name": "Python 3 (ipykernel)",
   "language": "python",
   "name": "python3"
  },
  "language_info": {
   "codemirror_mode": {
    "name": "ipython",
    "version": 3
   },
   "file_extension": ".py",
   "mimetype": "text/x-python",
   "name": "python",
   "nbconvert_exporter": "python",
   "pygments_lexer": "ipython3",
   "version": "3.9.7"
  }
 },
 "nbformat": 4,
 "nbformat_minor": 5
}
