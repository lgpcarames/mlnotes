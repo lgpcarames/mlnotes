{
 "cells": [
  {
   "cell_type": "markdown",
   "id": "e1245bf2",
   "metadata": {},
   "source": [
    "Especificar os tipos de objetos a serem criados\n",
    "usando uma instância-protótipo e criar novos objetos\n",
    "pela cópia desse protótipo.\n",
    "\n",
    "___________________________________\n",
    "Quais objetos são copiados com o sinal de atribuição?\n",
    "Objetos são **copiados** quando estes possuem **valores imutáveis**, como:\n",
    "bool, int, float, tuple, str.\n",
    "\n",
    "Quando os objetos possuem **valores mutáveis** é atribuído uma referência ao endereço de memória do objeto em questão. Tais objetos são:\n",
    "list, set, dict, class (o usuário pode alterar pela configuração da classe)"
   ]
  },
  {
   "cell_type": "code",
   "execution_count": 4,
   "id": "6d6ce8d2",
   "metadata": {},
   "outputs": [],
   "source": [
    "from typing import List\n",
    "from copy import deepcopy\n",
    "\n",
    "class StringReprMixin:\n",
    "    def __str__(self):\n",
    "        params = ', '.join(\n",
    "        [f\"{k}={v}\" for k, v in self.__dict__.items()]\n",
    "        )\n",
    "        return f'{self.__class__.__name__}({params})'\n",
    "    \n",
    "    def __repr__(self):\n",
    "        return self.__str__()\n",
    "    \n",
    "class Address(StringReprMixin):\n",
    "    def __init__(self, street: str, number: str) -> None:\n",
    "        self.street = street\n",
    "        self.number = number\n",
    "\n",
    "class Person(StringReprMixin):\n",
    "    def __init__(self, firstname: str, lastname: str) -> None:\n",
    "        self.firstname = firstname\n",
    "        self.lastname = lastname\n",
    "        self.addresses: List[Address] = []\n",
    "            \n",
    "    def add_address(self, address: Address) -> None:\n",
    "        self.addresses.append(address)\n",
    "        \n",
    "    # Criando um método para clonar a classe\n",
    "    def clone(self) -> Person:\n",
    "        return deepcopy(self)\n",
    "\n",
    "        "
   ]
  },
  {
   "cell_type": "code",
   "execution_count": 5,
   "id": "0d0aa987",
   "metadata": {},
   "outputs": [
    {
     "name": "stdout",
     "output_type": "stream",
     "text": [
      "Person(firstname=Lucas, lastname=Carames, addresses=[Address(street=Av. Brasil, number=250A)])\n",
      "Person(firstname=Virginia, lastname=Carames, addresses=[Address(street=Av. Brasil, number=250A)])\n"
     ]
    }
   ],
   "source": [
    "lucas = Person('Lucas', 'Carames')\n",
    "endereco_lucas = Address('Av. Brasil', '250A')\n",
    "\n",
    "lucas.add_address(endereco_lucas)\n",
    "\n",
    "lucas_esposa = lucas.clone()\n",
    "lucas_esposa.firstname = \"Virginia\"\n",
    "\n",
    "print(lucas)\n",
    "print(lucas_esposa)"
   ]
  },
  {
   "cell_type": "markdown",
   "id": "1e8c2341",
   "metadata": {},
   "source": [
    "Caso queiramos criar uma outra classe com outra pessoa com o mesmo sobrenome e endereço, podemos utilizar o padrão prototype para copiar o objeto"
   ]
  }
 ],
 "metadata": {
  "kernelspec": {
   "display_name": "Python 3 (ipykernel)",
   "language": "python",
   "name": "python3"
  },
  "language_info": {
   "codemirror_mode": {
    "name": "ipython",
    "version": 3
   },
   "file_extension": ".py",
   "mimetype": "text/x-python",
   "name": "python",
   "nbconvert_exporter": "python",
   "pygments_lexer": "ipython3",
   "version": "3.9.7"
  }
 },
 "nbformat": 4,
 "nbformat_minor": 5
}
