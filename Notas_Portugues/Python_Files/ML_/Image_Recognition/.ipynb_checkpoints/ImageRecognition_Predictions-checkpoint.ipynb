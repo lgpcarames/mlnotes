{
 "cells": [
  {
   "cell_type": "code",
   "execution_count": 2,
   "id": "0ad42c49",
   "metadata": {},
   "outputs": [],
   "source": [
    "from keras.models import model_from_json\n",
    "from pathlib import Path\n",
    "from keras.preprocessing import image\n",
    "import numpy as np\n",
    "from keras.applications import vgg16"
   ]
  },
  {
   "cell_type": "code",
   "execution_count": 18,
   "id": "5609fdff",
   "metadata": {},
   "outputs": [
    {
     "name": "stdout",
     "output_type": "stream",
     "text": [
      "Likelihood that this image contains a dog: 100%\n"
     ]
    }
   ],
   "source": [
    "# Load the json file that contains the model's structure\n",
    "f = Path(\"model_structure.json\")\n",
    "model_structure = f.read_text()\n",
    "\n",
    "# Recreate the Keras model object from the json data\n",
    "model = model_from_json(model_structure)\n",
    "\n",
    "# Re-load the model's trained weights\n",
    "model.load_weights(\"model_weights.h5\")\n",
    "\n",
    "# Load an image file to test, resizing it to 64x64 pixels\n",
    "img = image.load_img(\"./ex_files/Ch05/dog.png\", target_size=(64, 64))\n",
    "\n",
    "# Convert the image to a numpy array\n",
    "image_array = image.img_to_array(img)\n",
    "\n",
    "# Add a forth dimension to the image\n",
    "images = np.expand_dims(image_array, axis=0)\n",
    "\n",
    "# Normalize the data\n",
    "images = vgg16.preprocess_input(images)\n",
    "\n",
    "features_extraction_model = vgg16.VGG16(weights='imagenet',\n",
    "                                        include_top=False,\n",
    "                                        input_shape=(64, 64, 3))\n",
    "\n",
    "\n",
    "# Given the extracted feature, make a final prediction using our own model\n",
    "features = features_extraction_model.predict(images)\n",
    "\n",
    "results = model.predict(features)\n",
    "\n",
    "\n",
    "#\n",
    "single_results = results[0][0]\n",
    "\n",
    "# Print the result\n",
    "print(\"Likelihood that this image contains a dog: {}%\".format(int(single_results*100)))\n",
    "\n"
   ]
  },
  {
   "cell_type": "code",
   "execution_count": 14,
   "id": "2fd1e3bf",
   "metadata": {},
   "outputs": [
    {
     "data": {
      "text/plain": [
       "array([[[[108.17037 ,   0.      ,   0.      , ...,   0.      ,\n",
       "            0.      ,   0.      ],\n",
       "         [105.38891 ,   0.      ,  14.247058, ...,   0.      ,\n",
       "            0.      ,   0.      ]],\n",
       "\n",
       "        [[ 33.137337,   0.      ,  17.846079, ...,  15.803007,\n",
       "            0.      ,   0.      ],\n",
       "         [  0.      ,   0.      ,  40.131058, ...,   0.      ,\n",
       "            0.      ,   0.      ]]]], dtype=float32)"
      ]
     },
     "execution_count": 14,
     "metadata": {},
     "output_type": "execute_result"
    }
   ],
   "source": [
    "features"
   ]
  }
 ],
 "metadata": {
  "kernelspec": {
   "display_name": "Python 3 (ipykernel)",
   "language": "python",
   "name": "python3"
  },
  "language_info": {
   "codemirror_mode": {
    "name": "ipython",
    "version": 3
   },
   "file_extension": ".py",
   "mimetype": "text/x-python",
   "name": "python",
   "nbconvert_exporter": "python",
   "pygments_lexer": "ipython3",
   "version": "3.9.7"
  }
 },
 "nbformat": 4,
 "nbformat_minor": 5
}
