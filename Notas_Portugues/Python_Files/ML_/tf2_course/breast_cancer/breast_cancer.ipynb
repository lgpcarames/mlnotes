{
 "cells": [
  {
   "cell_type": "markdown",
   "metadata": {},
   "source": [
    "# Breast Cancer Classification"
   ]
  },
  {
   "cell_type": "code",
   "execution_count": 2,
   "metadata": {},
   "outputs": [],
   "source": [
    "# Importando o tensorflow\n",
    "\n",
    "import tensorflow as tf"
   ]
  },
  {
   "cell_type": "code",
   "execution_count": 15,
   "metadata": {},
   "outputs": [],
   "source": [
    "# Importando a base de dados\n",
    "from sklearn.datasets import load_breast_cancer\n",
    "import pandas as pd\n",
    "import numpy as np"
   ]
  },
  {
   "cell_type": "code",
   "execution_count": 4,
   "metadata": {},
   "outputs": [],
   "source": [
    "# Carregando a base de dados\n",
    "data = load_breast_cancer()"
   ]
  },
  {
   "cell_type": "code",
   "execution_count": 5,
   "metadata": {},
   "outputs": [
    {
     "data": {
      "text/plain": [
       "Index(['mean radius', 'mean texture', 'mean perimeter', 'mean area',\n",
       "       'mean smoothness', 'mean compactness', 'mean concavity',\n",
       "       'mean concave points', 'mean symmetry', 'mean fractal dimension',\n",
       "       'radius error', 'texture error', 'perimeter error', 'area error',\n",
       "       'smoothness error', 'compactness error', 'concavity error',\n",
       "       'concave points error', 'symmetry error', 'fractal dimension error',\n",
       "       'worst radius', 'worst texture', 'worst perimeter', 'worst area',\n",
       "       'worst smoothness', 'worst compactness', 'worst concavity',\n",
       "       'worst concave points', 'worst symmetry', 'worst fractal dimension'],\n",
       "      dtype='object')"
      ]
     },
     "execution_count": 5,
     "metadata": {},
     "output_type": "execute_result"
    }
   ],
   "source": [
    "data_frame = pd.DataFrame(data.data, columns=data.feature_names)\n",
    "data_frame.columns"
   ]
  },
  {
   "cell_type": "markdown",
   "metadata": {},
   "source": [
    "Podemos observar pela relação das colunas da base de dados acima, que o método utilizado para transformar essa base de dados em um objeto do tipo pandas dataframe, acabamos por perder a informação da variável target, sendo que esta está armazenada no atributo de mesmo nome, que pode ser reobtido, na forma de um pandas dataframe, com o comando abaixo:"
   ]
  },
  {
   "cell_type": "code",
   "execution_count": 6,
   "metadata": {},
   "outputs": [
    {
     "data": {
      "text/html": [
       "<div>\n",
       "<style scoped>\n",
       "    .dataframe tbody tr th:only-of-type {\n",
       "        vertical-align: middle;\n",
       "    }\n",
       "\n",
       "    .dataframe tbody tr th {\n",
       "        vertical-align: top;\n",
       "    }\n",
       "\n",
       "    .dataframe thead th {\n",
       "        text-align: right;\n",
       "    }\n",
       "</style>\n",
       "<table border=\"1\" class=\"dataframe\">\n",
       "  <thead>\n",
       "    <tr style=\"text-align: right;\">\n",
       "      <th></th>\n",
       "      <th>target</th>\n",
       "    </tr>\n",
       "  </thead>\n",
       "  <tbody>\n",
       "    <tr>\n",
       "      <th>0</th>\n",
       "      <td>0</td>\n",
       "    </tr>\n",
       "    <tr>\n",
       "      <th>1</th>\n",
       "      <td>0</td>\n",
       "    </tr>\n",
       "    <tr>\n",
       "      <th>2</th>\n",
       "      <td>0</td>\n",
       "    </tr>\n",
       "    <tr>\n",
       "      <th>3</th>\n",
       "      <td>0</td>\n",
       "    </tr>\n",
       "    <tr>\n",
       "      <th>4</th>\n",
       "      <td>0</td>\n",
       "    </tr>\n",
       "    <tr>\n",
       "      <th>...</th>\n",
       "      <td>...</td>\n",
       "    </tr>\n",
       "    <tr>\n",
       "      <th>564</th>\n",
       "      <td>0</td>\n",
       "    </tr>\n",
       "    <tr>\n",
       "      <th>565</th>\n",
       "      <td>0</td>\n",
       "    </tr>\n",
       "    <tr>\n",
       "      <th>566</th>\n",
       "      <td>0</td>\n",
       "    </tr>\n",
       "    <tr>\n",
       "      <th>567</th>\n",
       "      <td>0</td>\n",
       "    </tr>\n",
       "    <tr>\n",
       "      <th>568</th>\n",
       "      <td>1</td>\n",
       "    </tr>\n",
       "  </tbody>\n",
       "</table>\n",
       "<p>569 rows × 1 columns</p>\n",
       "</div>"
      ],
      "text/plain": [
       "     target\n",
       "0         0\n",
       "1         0\n",
       "2         0\n",
       "3         0\n",
       "4         0\n",
       "..      ...\n",
       "564       0\n",
       "565       0\n",
       "566       0\n",
       "567       0\n",
       "568       1\n",
       "\n",
       "[569 rows x 1 columns]"
      ]
     },
     "execution_count": 6,
     "metadata": {},
     "output_type": "execute_result"
    }
   ],
   "source": [
    "df_targets = pd.DataFrame(data.target, columns=['target'])\n",
    "df_targets"
   ]
  },
  {
   "cell_type": "markdown",
   "metadata": {},
   "source": [
    "Da mesma maneira, perdemos informação do que o valor das variáveis alvo significam, podemos reobter essa informação chamando o atributo target_names, que é um array de strings, com o nome das classes alvo."
   ]
  },
  {
   "cell_type": "code",
   "execution_count": 7,
   "metadata": {},
   "outputs": [
    {
     "data": {
      "text/plain": [
       "array(['malignant', 'benign'], dtype='<U9')"
      ]
     },
     "execution_count": 7,
     "metadata": {},
     "output_type": "execute_result"
    }
   ],
   "source": [
    "data.target_names"
   ]
  },
  {
   "cell_type": "markdown",
   "metadata": {},
   "source": [
    "Logo,\n",
    "- 0 -> malignant\n",
    "- 1 -> benign"
   ]
  },
  {
   "cell_type": "markdown",
   "metadata": {},
   "source": [
    "Podemos também checar se há valores faltantes ou necessários para serem tratados por hora, utilizando simplemente o código abaixo:"
   ]
  },
  {
   "cell_type": "code",
   "execution_count": 8,
   "metadata": {},
   "outputs": [
    {
     "data": {
      "text/plain": [
       "mean radius                0\n",
       "mean texture               0\n",
       "mean perimeter             0\n",
       "mean area                  0\n",
       "mean smoothness            0\n",
       "mean compactness           0\n",
       "mean concavity             0\n",
       "mean concave points        0\n",
       "mean symmetry              0\n",
       "mean fractal dimension     0\n",
       "radius error               0\n",
       "texture error              0\n",
       "perimeter error            0\n",
       "area error                 0\n",
       "smoothness error           0\n",
       "compactness error          0\n",
       "concavity error            0\n",
       "concave points error       0\n",
       "symmetry error             0\n",
       "fractal dimension error    0\n",
       "worst radius               0\n",
       "worst texture              0\n",
       "worst perimeter            0\n",
       "worst area                 0\n",
       "worst smoothness           0\n",
       "worst compactness          0\n",
       "worst concavity            0\n",
       "worst concave points       0\n",
       "worst symmetry             0\n",
       "worst fractal dimension    0\n",
       "dtype: int64"
      ]
     },
     "execution_count": 8,
     "metadata": {},
     "output_type": "execute_result"
    }
   ],
   "source": [
    "data_frame.isnull().sum()"
   ]
  },
  {
   "cell_type": "markdown",
   "metadata": {},
   "source": [
    "Não há valores faltantes, mas há valores que necessecitarão de serem reescalados."
   ]
  },
  {
   "cell_type": "code",
   "execution_count": 9,
   "metadata": {},
   "outputs": [],
   "source": [
    "from sklearn.preprocessing import StandardScaler\n",
    "from sklearn.model_selection import train_test_split\n",
    "\n",
    "x_train, x_test, y_train, y_test = train_test_split(data_frame, df_targets, test_size=0.33, random_state=13)\n",
    "N, D = x_train.shape"
   ]
  },
  {
   "cell_type": "code",
   "execution_count": 10,
   "metadata": {},
   "outputs": [],
   "source": [
    "# Normalizando os dados\n",
    "scaler = StandardScaler()\n",
    "x_train = scaler.fit_transform(x_train)\n",
    "x_test = scaler.transform(x_test)"
   ]
  },
  {
   "cell_type": "code",
   "execution_count": 11,
   "metadata": {},
   "outputs": [
    {
     "name": "stderr",
     "output_type": "stream",
     "text": [
      "2022-04-16 11:47:48.377229: W tensorflow/stream_executor/platform/default/dso_loader.cc:64] Could not load dynamic library 'libcuda.so.1'; dlerror: libcuda.so.1: cannot open shared object file: No such file or directory\n",
      "2022-04-16 11:47:48.390721: W tensorflow/stream_executor/cuda/cuda_driver.cc:269] failed call to cuInit: UNKNOWN ERROR (303)\n",
      "2022-04-16 11:47:48.391186: I tensorflow/stream_executor/cuda/cuda_diagnostics.cc:156] kernel driver does not appear to be running on this host (lucas-Inspiron-5566): /proc/driver/nvidia/version does not exist\n",
      "2022-04-16 11:47:48.415760: I tensorflow/core/platform/cpu_feature_guard.cc:151] This TensorFlow binary is optimized with oneAPI Deep Neural Network Library (oneDNN) to use the following CPU instructions in performance-critical operations:  AVX2 FMA\n",
      "To enable them in other operations, rebuild TensorFlow with the appropriate compiler flags.\n"
     ]
    },
    {
     "name": "stdout",
     "output_type": "stream",
     "text": [
      "Epoch 1/100\n",
      "12/12 [==============================] - 1s 64ms/step - loss: 0.4325 - accuracy: 0.8320 - val_loss: 0.4140 - val_accuracy: 0.8457\n",
      "Epoch 2/100\n",
      "12/12 [==============================] - 0s 15ms/step - loss: 0.3987 - accuracy: 0.8583 - val_loss: 0.3832 - val_accuracy: 0.8511\n",
      "Epoch 3/100\n",
      "12/12 [==============================] - 0s 26ms/step - loss: 0.3702 - accuracy: 0.8819 - val_loss: 0.3564 - val_accuracy: 0.8883\n",
      "Epoch 4/100\n",
      "12/12 [==============================] - 0s 13ms/step - loss: 0.3457 - accuracy: 0.8924 - val_loss: 0.3336 - val_accuracy: 0.8936\n",
      "Epoch 5/100\n",
      "12/12 [==============================] - 0s 8ms/step - loss: 0.3246 - accuracy: 0.8976 - val_loss: 0.3140 - val_accuracy: 0.9043\n",
      "Epoch 6/100\n",
      "12/12 [==============================] - 0s 12ms/step - loss: 0.3070 - accuracy: 0.9108 - val_loss: 0.2965 - val_accuracy: 0.9043\n",
      "Epoch 7/100\n",
      "12/12 [==============================] - 0s 25ms/step - loss: 0.2913 - accuracy: 0.9160 - val_loss: 0.2813 - val_accuracy: 0.9202\n",
      "Epoch 8/100\n",
      "12/12 [==============================] - 0s 15ms/step - loss: 0.2775 - accuracy: 0.9186 - val_loss: 0.2677 - val_accuracy: 0.9255\n",
      "Epoch 9/100\n",
      "12/12 [==============================] - 0s 18ms/step - loss: 0.2659 - accuracy: 0.9239 - val_loss: 0.2551 - val_accuracy: 0.9309\n",
      "Epoch 10/100\n",
      "12/12 [==============================] - 0s 9ms/step - loss: 0.2547 - accuracy: 0.9239 - val_loss: 0.2441 - val_accuracy: 0.9309\n",
      "Epoch 11/100\n",
      "12/12 [==============================] - 0s 10ms/step - loss: 0.2449 - accuracy: 0.9239 - val_loss: 0.2341 - val_accuracy: 0.9362\n",
      "Epoch 12/100\n",
      "12/12 [==============================] - 0s 12ms/step - loss: 0.2362 - accuracy: 0.9239 - val_loss: 0.2250 - val_accuracy: 0.9362\n",
      "Epoch 13/100\n",
      "12/12 [==============================] - 0s 14ms/step - loss: 0.2282 - accuracy: 0.9239 - val_loss: 0.2168 - val_accuracy: 0.9362\n",
      "Epoch 14/100\n",
      "12/12 [==============================] - 0s 12ms/step - loss: 0.2209 - accuracy: 0.9291 - val_loss: 0.2094 - val_accuracy: 0.9468\n",
      "Epoch 15/100\n",
      "12/12 [==============================] - 0s 7ms/step - loss: 0.2144 - accuracy: 0.9370 - val_loss: 0.2023 - val_accuracy: 0.9468\n",
      "Epoch 16/100\n",
      "12/12 [==============================] - 0s 9ms/step - loss: 0.2081 - accuracy: 0.9370 - val_loss: 0.1959 - val_accuracy: 0.9468\n",
      "Epoch 17/100\n",
      "12/12 [==============================] - 0s 8ms/step - loss: 0.2024 - accuracy: 0.9370 - val_loss: 0.1900 - val_accuracy: 0.9468\n",
      "Epoch 18/100\n",
      "12/12 [==============================] - 0s 6ms/step - loss: 0.1973 - accuracy: 0.9370 - val_loss: 0.1845 - val_accuracy: 0.9468\n",
      "Epoch 19/100\n",
      "12/12 [==============================] - 0s 8ms/step - loss: 0.1924 - accuracy: 0.9396 - val_loss: 0.1793 - val_accuracy: 0.9468\n",
      "Epoch 20/100\n",
      "12/12 [==============================] - 0s 9ms/step - loss: 0.1879 - accuracy: 0.9423 - val_loss: 0.1745 - val_accuracy: 0.9468\n",
      "Epoch 21/100\n",
      "12/12 [==============================] - 0s 6ms/step - loss: 0.1837 - accuracy: 0.9449 - val_loss: 0.1700 - val_accuracy: 0.9468\n",
      "Epoch 22/100\n",
      "12/12 [==============================] - 0s 5ms/step - loss: 0.1796 - accuracy: 0.9449 - val_loss: 0.1659 - val_accuracy: 0.9574\n",
      "Epoch 23/100\n",
      "12/12 [==============================] - 0s 6ms/step - loss: 0.1761 - accuracy: 0.9475 - val_loss: 0.1619 - val_accuracy: 0.9574\n",
      "Epoch 24/100\n",
      "12/12 [==============================] - 0s 6ms/step - loss: 0.1726 - accuracy: 0.9475 - val_loss: 0.1582 - val_accuracy: 0.9574\n",
      "Epoch 25/100\n",
      "12/12 [==============================] - 0s 8ms/step - loss: 0.1692 - accuracy: 0.9475 - val_loss: 0.1548 - val_accuracy: 0.9574\n",
      "Epoch 26/100\n",
      "12/12 [==============================] - 0s 9ms/step - loss: 0.1662 - accuracy: 0.9475 - val_loss: 0.1514 - val_accuracy: 0.9574\n",
      "Epoch 27/100\n",
      "12/12 [==============================] - 0s 7ms/step - loss: 0.1632 - accuracy: 0.9475 - val_loss: 0.1483 - val_accuracy: 0.9628\n",
      "Epoch 28/100\n",
      "12/12 [==============================] - 0s 7ms/step - loss: 0.1605 - accuracy: 0.9475 - val_loss: 0.1454 - val_accuracy: 0.9628\n",
      "Epoch 29/100\n",
      "12/12 [==============================] - 0s 9ms/step - loss: 0.1579 - accuracy: 0.9475 - val_loss: 0.1426 - val_accuracy: 0.9681\n",
      "Epoch 30/100\n",
      "12/12 [==============================] - 0s 7ms/step - loss: 0.1552 - accuracy: 0.9501 - val_loss: 0.1400 - val_accuracy: 0.9734\n",
      "Epoch 31/100\n",
      "12/12 [==============================] - 0s 7ms/step - loss: 0.1530 - accuracy: 0.9501 - val_loss: 0.1374 - val_accuracy: 0.9734\n",
      "Epoch 32/100\n",
      "12/12 [==============================] - 0s 8ms/step - loss: 0.1507 - accuracy: 0.9501 - val_loss: 0.1351 - val_accuracy: 0.9787\n",
      "Epoch 33/100\n",
      "12/12 [==============================] - 0s 7ms/step - loss: 0.1484 - accuracy: 0.9528 - val_loss: 0.1328 - val_accuracy: 0.9787\n",
      "Epoch 34/100\n",
      "12/12 [==============================] - 0s 5ms/step - loss: 0.1464 - accuracy: 0.9528 - val_loss: 0.1307 - val_accuracy: 0.9787\n",
      "Epoch 35/100\n",
      "12/12 [==============================] - 0s 7ms/step - loss: 0.1444 - accuracy: 0.9528 - val_loss: 0.1286 - val_accuracy: 0.9787\n",
      "Epoch 36/100\n",
      "12/12 [==============================] - 0s 10ms/step - loss: 0.1425 - accuracy: 0.9580 - val_loss: 0.1266 - val_accuracy: 0.9787\n",
      "Epoch 37/100\n",
      "12/12 [==============================] - 0s 10ms/step - loss: 0.1406 - accuracy: 0.9606 - val_loss: 0.1247 - val_accuracy: 0.9787\n",
      "Epoch 38/100\n",
      "12/12 [==============================] - 0s 7ms/step - loss: 0.1389 - accuracy: 0.9606 - val_loss: 0.1229 - val_accuracy: 0.9787\n",
      "Epoch 39/100\n",
      "12/12 [==============================] - 0s 9ms/step - loss: 0.1371 - accuracy: 0.9606 - val_loss: 0.1213 - val_accuracy: 0.9787\n",
      "Epoch 40/100\n",
      "12/12 [==============================] - 0s 9ms/step - loss: 0.1355 - accuracy: 0.9606 - val_loss: 0.1196 - val_accuracy: 0.9840\n",
      "Epoch 41/100\n",
      "12/12 [==============================] - 0s 7ms/step - loss: 0.1339 - accuracy: 0.9606 - val_loss: 0.1180 - val_accuracy: 0.9840\n",
      "Epoch 42/100\n",
      "12/12 [==============================] - 0s 9ms/step - loss: 0.1325 - accuracy: 0.9606 - val_loss: 0.1165 - val_accuracy: 0.9840\n",
      "Epoch 43/100\n",
      "12/12 [==============================] - 0s 11ms/step - loss: 0.1309 - accuracy: 0.9606 - val_loss: 0.1151 - val_accuracy: 0.9840\n",
      "Epoch 44/100\n",
      "12/12 [==============================] - 0s 11ms/step - loss: 0.1296 - accuracy: 0.9633 - val_loss: 0.1136 - val_accuracy: 0.9840\n",
      "Epoch 45/100\n",
      "12/12 [==============================] - 0s 13ms/step - loss: 0.1281 - accuracy: 0.9659 - val_loss: 0.1123 - val_accuracy: 0.9840\n",
      "Epoch 46/100\n",
      "12/12 [==============================] - 0s 10ms/step - loss: 0.1268 - accuracy: 0.9659 - val_loss: 0.1111 - val_accuracy: 0.9840\n",
      "Epoch 47/100\n",
      "12/12 [==============================] - 0s 11ms/step - loss: 0.1256 - accuracy: 0.9685 - val_loss: 0.1098 - val_accuracy: 0.9840\n",
      "Epoch 48/100\n",
      "12/12 [==============================] - 0s 9ms/step - loss: 0.1244 - accuracy: 0.9685 - val_loss: 0.1086 - val_accuracy: 0.9840\n",
      "Epoch 49/100\n",
      "12/12 [==============================] - 0s 11ms/step - loss: 0.1231 - accuracy: 0.9685 - val_loss: 0.1075 - val_accuracy: 0.9840\n",
      "Epoch 50/100\n",
      "12/12 [==============================] - 0s 8ms/step - loss: 0.1220 - accuracy: 0.9685 - val_loss: 0.1064 - val_accuracy: 0.9840\n",
      "Epoch 51/100\n",
      "12/12 [==============================] - 0s 9ms/step - loss: 0.1208 - accuracy: 0.9685 - val_loss: 0.1053 - val_accuracy: 0.9840\n",
      "Epoch 52/100\n",
      "12/12 [==============================] - 0s 8ms/step - loss: 0.1197 - accuracy: 0.9711 - val_loss: 0.1043 - val_accuracy: 0.9840\n",
      "Epoch 53/100\n",
      "12/12 [==============================] - 0s 12ms/step - loss: 0.1187 - accuracy: 0.9711 - val_loss: 0.1033 - val_accuracy: 0.9840\n",
      "Epoch 54/100\n",
      "12/12 [==============================] - 0s 9ms/step - loss: 0.1177 - accuracy: 0.9711 - val_loss: 0.1023 - val_accuracy: 0.9840\n",
      "Epoch 55/100\n",
      "12/12 [==============================] - 0s 6ms/step - loss: 0.1166 - accuracy: 0.9738 - val_loss: 0.1014 - val_accuracy: 0.9840\n",
      "Epoch 56/100\n",
      "12/12 [==============================] - 0s 9ms/step - loss: 0.1157 - accuracy: 0.9764 - val_loss: 0.1004 - val_accuracy: 0.9840\n",
      "Epoch 57/100\n",
      "12/12 [==============================] - 0s 11ms/step - loss: 0.1146 - accuracy: 0.9764 - val_loss: 0.0997 - val_accuracy: 0.9840\n",
      "Epoch 58/100\n",
      "12/12 [==============================] - 0s 10ms/step - loss: 0.1138 - accuracy: 0.9764 - val_loss: 0.0989 - val_accuracy: 0.9840\n",
      "Epoch 59/100\n",
      "12/12 [==============================] - 0s 10ms/step - loss: 0.1128 - accuracy: 0.9764 - val_loss: 0.0980 - val_accuracy: 0.9840\n",
      "Epoch 60/100\n",
      "12/12 [==============================] - 0s 13ms/step - loss: 0.1120 - accuracy: 0.9764 - val_loss: 0.0972 - val_accuracy: 0.9840\n",
      "Epoch 61/100\n",
      "12/12 [==============================] - 0s 8ms/step - loss: 0.1111 - accuracy: 0.9764 - val_loss: 0.0964 - val_accuracy: 0.9840\n",
      "Epoch 62/100\n",
      "12/12 [==============================] - 0s 8ms/step - loss: 0.1102 - accuracy: 0.9764 - val_loss: 0.0957 - val_accuracy: 0.9840\n",
      "Epoch 63/100\n",
      "12/12 [==============================] - 0s 10ms/step - loss: 0.1094 - accuracy: 0.9764 - val_loss: 0.0949 - val_accuracy: 0.9840\n",
      "Epoch 64/100\n",
      "12/12 [==============================] - 0s 8ms/step - loss: 0.1086 - accuracy: 0.9764 - val_loss: 0.0942 - val_accuracy: 0.9840\n",
      "Epoch 65/100\n",
      "12/12 [==============================] - 0s 11ms/step - loss: 0.1079 - accuracy: 0.9764 - val_loss: 0.0936 - val_accuracy: 0.9894\n",
      "Epoch 66/100\n",
      "12/12 [==============================] - 0s 10ms/step - loss: 0.1071 - accuracy: 0.9764 - val_loss: 0.0929 - val_accuracy: 0.9894\n",
      "Epoch 67/100\n",
      "12/12 [==============================] - 0s 10ms/step - loss: 0.1064 - accuracy: 0.9764 - val_loss: 0.0923 - val_accuracy: 0.9894\n",
      "Epoch 68/100\n",
      "12/12 [==============================] - 0s 13ms/step - loss: 0.1056 - accuracy: 0.9764 - val_loss: 0.0916 - val_accuracy: 0.9894\n",
      "Epoch 69/100\n",
      "12/12 [==============================] - 0s 11ms/step - loss: 0.1049 - accuracy: 0.9764 - val_loss: 0.0911 - val_accuracy: 0.9894\n",
      "Epoch 70/100\n",
      "12/12 [==============================] - 0s 13ms/step - loss: 0.1042 - accuracy: 0.9764 - val_loss: 0.0905 - val_accuracy: 0.9894\n",
      "Epoch 71/100\n",
      "12/12 [==============================] - 0s 10ms/step - loss: 0.1035 - accuracy: 0.9764 - val_loss: 0.0899 - val_accuracy: 0.9894\n",
      "Epoch 72/100\n",
      "12/12 [==============================] - 0s 8ms/step - loss: 0.1029 - accuracy: 0.9764 - val_loss: 0.0893 - val_accuracy: 0.9894\n",
      "Epoch 73/100\n",
      "12/12 [==============================] - 0s 14ms/step - loss: 0.1022 - accuracy: 0.9764 - val_loss: 0.0888 - val_accuracy: 0.9894\n",
      "Epoch 74/100\n",
      "12/12 [==============================] - 0s 8ms/step - loss: 0.1016 - accuracy: 0.9764 - val_loss: 0.0882 - val_accuracy: 0.9894\n",
      "Epoch 75/100\n",
      "12/12 [==============================] - 0s 8ms/step - loss: 0.1010 - accuracy: 0.9764 - val_loss: 0.0877 - val_accuracy: 0.9894\n",
      "Epoch 76/100\n",
      "12/12 [==============================] - 0s 15ms/step - loss: 0.1004 - accuracy: 0.9764 - val_loss: 0.0873 - val_accuracy: 0.9894\n",
      "Epoch 77/100\n",
      "12/12 [==============================] - 0s 11ms/step - loss: 0.0997 - accuracy: 0.9764 - val_loss: 0.0868 - val_accuracy: 0.9894\n",
      "Epoch 78/100\n",
      "12/12 [==============================] - 0s 9ms/step - loss: 0.0992 - accuracy: 0.9764 - val_loss: 0.0862 - val_accuracy: 0.9894\n",
      "Epoch 79/100\n",
      "12/12 [==============================] - 0s 6ms/step - loss: 0.0986 - accuracy: 0.9790 - val_loss: 0.0857 - val_accuracy: 0.9894\n",
      "Epoch 80/100\n",
      "12/12 [==============================] - 0s 6ms/step - loss: 0.0981 - accuracy: 0.9790 - val_loss: 0.0852 - val_accuracy: 0.9894\n",
      "Epoch 81/100\n",
      "12/12 [==============================] - 0s 8ms/step - loss: 0.0975 - accuracy: 0.9790 - val_loss: 0.0849 - val_accuracy: 0.9894\n",
      "Epoch 82/100\n",
      "12/12 [==============================] - 0s 7ms/step - loss: 0.0969 - accuracy: 0.9790 - val_loss: 0.0844 - val_accuracy: 0.9894\n",
      "Epoch 83/100\n",
      "12/12 [==============================] - 0s 9ms/step - loss: 0.0965 - accuracy: 0.9790 - val_loss: 0.0840 - val_accuracy: 0.9894\n",
      "Epoch 84/100\n",
      "12/12 [==============================] - 0s 12ms/step - loss: 0.0959 - accuracy: 0.9790 - val_loss: 0.0836 - val_accuracy: 0.9840\n",
      "Epoch 85/100\n",
      "12/12 [==============================] - 0s 7ms/step - loss: 0.0954 - accuracy: 0.9790 - val_loss: 0.0832 - val_accuracy: 0.9840\n",
      "Epoch 86/100\n",
      "12/12 [==============================] - 0s 15ms/step - loss: 0.0949 - accuracy: 0.9790 - val_loss: 0.0828 - val_accuracy: 0.9840\n",
      "Epoch 87/100\n",
      "12/12 [==============================] - 0s 14ms/step - loss: 0.0944 - accuracy: 0.9790 - val_loss: 0.0824 - val_accuracy: 0.9840\n",
      "Epoch 88/100\n",
      "12/12 [==============================] - 0s 12ms/step - loss: 0.0939 - accuracy: 0.9790 - val_loss: 0.0820 - val_accuracy: 0.9840\n",
      "Epoch 89/100\n",
      "12/12 [==============================] - 0s 10ms/step - loss: 0.0934 - accuracy: 0.9790 - val_loss: 0.0817 - val_accuracy: 0.9840\n",
      "Epoch 90/100\n",
      "12/12 [==============================] - 0s 9ms/step - loss: 0.0930 - accuracy: 0.9790 - val_loss: 0.0814 - val_accuracy: 0.9840\n",
      "Epoch 91/100\n",
      "12/12 [==============================] - 0s 14ms/step - loss: 0.0925 - accuracy: 0.9790 - val_loss: 0.0810 - val_accuracy: 0.9840\n",
      "Epoch 92/100\n",
      "12/12 [==============================] - 0s 16ms/step - loss: 0.0921 - accuracy: 0.9790 - val_loss: 0.0807 - val_accuracy: 0.9840\n",
      "Epoch 93/100\n",
      "12/12 [==============================] - 0s 11ms/step - loss: 0.0917 - accuracy: 0.9790 - val_loss: 0.0802 - val_accuracy: 0.9840\n",
      "Epoch 94/100\n",
      "12/12 [==============================] - 0s 9ms/step - loss: 0.0912 - accuracy: 0.9790 - val_loss: 0.0799 - val_accuracy: 0.9840\n",
      "Epoch 95/100\n",
      "12/12 [==============================] - 0s 5ms/step - loss: 0.0908 - accuracy: 0.9790 - val_loss: 0.0796 - val_accuracy: 0.9840\n",
      "Epoch 96/100\n",
      "12/12 [==============================] - 0s 6ms/step - loss: 0.0904 - accuracy: 0.9790 - val_loss: 0.0793 - val_accuracy: 0.9840\n",
      "Epoch 97/100\n",
      "12/12 [==============================] - 0s 7ms/step - loss: 0.0900 - accuracy: 0.9790 - val_loss: 0.0789 - val_accuracy: 0.9840\n",
      "Epoch 98/100\n",
      "12/12 [==============================] - 0s 5ms/step - loss: 0.0896 - accuracy: 0.9790 - val_loss: 0.0787 - val_accuracy: 0.9840\n",
      "Epoch 99/100\n",
      "12/12 [==============================] - 0s 5ms/step - loss: 0.0891 - accuracy: 0.9790 - val_loss: 0.0785 - val_accuracy: 0.9840\n",
      "Epoch 100/100\n",
      "12/12 [==============================] - 0s 5ms/step - loss: 0.0888 - accuracy: 0.9790 - val_loss: 0.0781 - val_accuracy: 0.9840\n",
      "12/12 [==============================] - 0s 2ms/step - loss: 0.0885 - accuracy: 0.9790\n",
      "Pontuação do treino: [0.08849169313907623, 0.9790025949478149]\n",
      "6/6 [==============================] - 0s 2ms/step - loss: 0.0781 - accuracy: 0.9840\n",
      "Pontuação do teste: [0.07806858420372009, 0.9840425252914429]\n"
     ]
    }
   ],
   "source": [
    "# Agora vamos criar o modelo usando o Tensorflow\n",
    "model = tf.keras.Sequential(\n",
    "    [\n",
    "        tf.keras.layers.Input(shape=(D,)),\n",
    "        tf.keras.layers.Dense(1, activation='sigmoid')\n",
    "    ]\n",
    ")\n",
    "\n",
    "model.compile(optimizer='adam',\n",
    "              loss='binary_crossentropy',\n",
    "              metrics=['accuracy'])\n",
    "\n",
    "# treinando o modelo\n",
    "r = model.fit(x_train, y_train, validation_data=(x_test, y_test), epochs=100)\n",
    "\n",
    "# Avaliando o modelo\n",
    "print(\"Pontuação do treino:\", model.evaluate(x_train, y_train))\n",
    "print(\"Pontuação do teste:\", model.evaluate(x_test, y_test))"
   ]
  },
  {
   "cell_type": "code",
   "execution_count": 12,
   "metadata": {},
   "outputs": [
    {
     "data": {
      "image/png": "[encoded data removed]",
      "text/plain": [
       "<Figure size 640x480 with 1 Axes>"
      ]
     },
     "metadata": {},
     "output_type": "display_data"
    }
   ],
   "source": [
    "# Plotando o que o modelo aprendeu\n",
    "import matplotlib.pyplot as plt\n",
    "plt.style.use('classic')\n",
    "plt.plot(r.history['loss'], label='loss')\n",
    "plt.plot(r.history['val_loss'], label='val_loss')\n",
    "plt.legend()\n",
    "plt.show()"
   ]
  },
  {
   "cell_type": "code",
   "execution_count": 13,
   "metadata": {},
   "outputs": [
    {
     "data": {
      "image/png": "[encoded data removed]",
      "text/plain": [
       "<Figure size 640x480 with 1 Axes>"
      ]
     },
     "metadata": {},
     "output_type": "display_data"
    }
   ],
   "source": [
    "# Plotando também a acurácia\n",
    "plt.plot(r.history['accuracy'], label='accuracy')\n",
    "plt.plot(r.history['val_accuracy'], label='val_accuracy')\n",
    "plt.legend()\n",
    "plt.show()"
   ]
  },
  {
   "cell_type": "markdown",
   "metadata": {},
   "source": [
    "## Parte 2: Realizando Previsões\n",
    "Aqui realizaremos algumas previsões utilizando o modelo construído acima."
   ]
  },
  {
   "cell_type": "code",
   "execution_count": 14,
   "metadata": {},
   "outputs": [
    {
     "name": "stdout",
     "output_type": "stream",
     "text": [
      "[[4.60843980e-01]\n",
      " [9.80764031e-01]\n",
      " [9.93614793e-01]\n",
      " [3.10014963e-01]\n",
      " [9.93485391e-01]\n",
      " [6.28234148e-02]\n",
      " [9.58879113e-01]\n",
      " [9.94370043e-01]\n",
      " [9.85605836e-01]\n",
      " [8.50825071e-01]\n",
      " [9.97465730e-01]\n",
      " [9.42520142e-01]\n",
      " [9.99358892e-01]\n",
      " [1.79290771e-04]\n",
      " [2.68973112e-02]\n",
      " [9.92445111e-01]\n",
      " [9.92566109e-01]\n",
      " [9.91326809e-01]\n",
      " [9.98417675e-01]\n",
      " [1.00840971e-05]\n",
      " [9.13287282e-01]\n",
      " [8.29059660e-01]\n",
      " [4.13536429e-02]\n",
      " [9.96533871e-01]\n",
      " [9.93752360e-01]\n",
      " [2.26978213e-01]\n",
      " [8.78468931e-01]\n",
      " [3.65297794e-02]\n",
      " [9.92708445e-01]\n",
      " [4.05007601e-03]\n",
      " [7.66206026e-01]\n",
      " [1.34465098e-03]\n",
      " [9.96546268e-01]\n",
      " [9.81110573e-01]\n",
      " [2.80201435e-04]\n",
      " [7.04468727e-01]\n",
      " [9.47043598e-01]\n",
      " [9.99496043e-01]\n",
      " [7.17565835e-01]\n",
      " [4.79151100e-01]\n",
      " [9.87986922e-01]\n",
      " [1.08448565e-02]\n",
      " [9.72566187e-01]\n",
      " [8.98579419e-01]\n",
      " [9.58926916e-01]\n",
      " [8.93055737e-01]\n",
      " [9.99083102e-01]\n",
      " [9.77482200e-01]\n",
      " [7.72641838e-01]\n",
      " [9.95548129e-01]\n",
      " [9.71686244e-02]\n",
      " [4.32193279e-03]\n",
      " [4.68866674e-05]\n",
      " [9.81114864e-01]\n",
      " [9.72563863e-01]\n",
      " [5.97774982e-04]\n",
      " [9.79126453e-01]\n",
      " [1.28230453e-03]\n",
      " [1.42232180e-01]\n",
      " [9.94694829e-01]\n",
      " [9.68079090e-01]\n",
      " [8.45551133e-01]\n",
      " [9.44376111e-01]\n",
      " [2.30339756e-05]\n",
      " [9.97620583e-01]\n",
      " [9.73700225e-01]\n",
      " [9.97018099e-01]\n",
      " [9.98866737e-01]\n",
      " [9.97897625e-01]\n",
      " [3.68701547e-01]\n",
      " [6.61510624e-09]\n",
      " [9.06128883e-01]\n",
      " [9.95922923e-01]\n",
      " [9.57918525e-01]\n",
      " [3.59532237e-03]\n",
      " [9.66346860e-01]\n",
      " [1.36256218e-03]\n",
      " [9.99994993e-01]\n",
      " [9.98056769e-01]\n",
      " [6.28272971e-08]\n",
      " [9.55675125e-01]\n",
      " [9.99373913e-01]\n",
      " [7.90510416e-01]\n",
      " [9.99804258e-01]\n",
      " [9.92899239e-01]\n",
      " [1.89453363e-04]\n",
      " [2.68968940e-03]\n",
      " [6.14312828e-01]\n",
      " [9.83883142e-01]\n",
      " [9.99893427e-01]\n",
      " [9.95143771e-01]\n",
      " [5.76710701e-03]\n",
      " [9.94634748e-01]\n",
      " [9.99959111e-01]\n",
      " [9.95234489e-01]\n",
      " [9.97510076e-01]\n",
      " [9.99357939e-01]\n",
      " [9.72526908e-01]\n",
      " [4.15385365e-02]\n",
      " [8.35723281e-02]\n",
      " [9.87312675e-01]\n",
      " [6.47969842e-01]\n",
      " [9.97792304e-01]\n",
      " [9.98693228e-01]\n",
      " [9.62599993e-01]\n",
      " [6.84512436e-01]\n",
      " [8.11971366e-01]\n",
      " [1.52600855e-01]\n",
      " [1.64580941e-02]\n",
      " [2.23278999e-02]\n",
      " [9.65167940e-01]\n",
      " [5.51024426e-09]\n",
      " [7.21259117e-02]\n",
      " [9.10278022e-01]\n",
      " [1.96795464e-01]\n",
      " [9.98669446e-01]\n",
      " [4.51007485e-03]\n",
      " [9.93628144e-01]\n",
      " [9.76277828e-01]\n",
      " [9.98651862e-01]\n",
      " [8.65173042e-02]\n",
      " [9.97644246e-01]\n",
      " [2.81491876e-03]\n",
      " [9.04272497e-01]\n",
      " [9.90191102e-01]\n",
      " [2.49191403e-01]\n",
      " [9.99249697e-01]\n",
      " [2.17646360e-04]\n",
      " [9.97720003e-01]\n",
      " [9.99911427e-01]\n",
      " [9.25958157e-01]\n",
      " [9.99002993e-01]\n",
      " [1.12167407e-04]\n",
      " [8.64218712e-01]\n",
      " [9.06310306e-05]\n",
      " [4.84017432e-02]\n",
      " [9.89092112e-01]\n",
      " [1.49510402e-06]\n",
      " [3.07603478e-02]\n",
      " [4.10667062e-03]\n",
      " [9.96642590e-01]\n",
      " [9.99052048e-01]\n",
      " [3.40729952e-04]\n",
      " [9.95340943e-01]\n",
      " [9.90647793e-01]\n",
      " [9.99312401e-01]\n",
      " [9.63342130e-01]\n",
      " [9.97472644e-01]\n",
      " [4.45560217e-02]\n",
      " [9.94571805e-01]\n",
      " [9.75982785e-01]\n",
      " [3.95222344e-07]\n",
      " [9.99046087e-01]\n",
      " [9.78640795e-01]\n",
      " [8.87597620e-01]\n",
      " [9.48373377e-01]\n",
      " [9.61711407e-01]\n",
      " [8.89298797e-01]\n",
      " [5.81651926e-04]\n",
      " [9.64410901e-01]\n",
      " [9.99372721e-01]\n",
      " [9.99192715e-01]\n",
      " [7.13377893e-02]\n",
      " [5.66765666e-03]\n",
      " [1.33641362e-02]\n",
      " [9.97368455e-01]\n",
      " [9.89991248e-01]\n",
      " [9.90983248e-01]\n",
      " [9.95684147e-01]\n",
      " [9.99916673e-01]\n",
      " [9.41882253e-01]\n",
      " [7.79747605e-01]\n",
      " [1.18182434e-05]\n",
      " [1.70701742e-03]\n",
      " [8.14032197e-01]\n",
      " [3.90288142e-06]\n",
      " [9.99272168e-01]\n",
      " [9.77717280e-01]\n",
      " [9.99656975e-01]\n",
      " [9.97592449e-01]\n",
      " [9.75763559e-01]\n",
      " [9.85999763e-01]\n",
      " [1.07923150e-03]\n",
      " [8.18257570e-01]\n",
      " [6.53108835e-01]\n",
      " [9.93579268e-01]\n",
      " [9.97714818e-01]\n",
      " [9.99614894e-01]]\n"
     ]
    }
   ],
   "source": [
    "P = model.predict(x_test)\n",
    "print(P) # Estas são as saídas da função sigmoid, interpretadas como probabilidades"
   ]
  },
  {
   "cell_type": "code",
   "execution_count": 18,
   "metadata": {},
   "outputs": [
    {
     "name": "stdout",
     "output_type": "stream",
     "text": [
      "[0. 1. 1. 0. 1. 0. 1. 1. 1. 1. 1. 1. 1. 0. 0. 1. 1. 1. 1. 0. 1. 1. 0. 1.\n",
      " 1. 0. 1. 0. 1. 0. 1. 0. 1. 1. 0. 1. 1. 1. 1. 0. 1. 0. 1. 1. 1. 1. 1. 1.\n",
      " 1. 1. 0. 0. 0. 1. 1. 0. 1. 0. 0. 1. 1. 1. 1. 0. 1. 1. 1. 1. 1. 0. 0. 1.\n",
      " 1. 1. 0. 1. 0. 1. 1. 0. 1. 1. 1. 1. 1. 0. 0. 1. 1. 1. 1. 0. 1. 1. 1. 1.\n",
      " 1. 1. 0. 0. 1. 1. 1. 1. 1. 1. 1. 0. 0. 0. 1. 0. 0. 1. 0. 1. 0. 1. 1. 1.\n",
      " 0. 1. 0. 1. 1. 0. 1. 0. 1. 1. 1. 1. 0. 1. 0. 0. 1. 0. 0. 0. 1. 1. 0. 1.\n",
      " 1. 1. 1. 1. 0. 1. 1. 0. 1. 1. 1. 1. 1. 1. 0. 1. 1. 1. 0. 0. 0. 1. 1. 1.\n",
      " 1. 1. 1. 1. 0. 0. 1. 0. 1. 1. 1. 1. 1. 1. 0. 1. 1. 1. 1. 1.]\n"
     ]
    }
   ],
   "source": [
    "P = np.round(P).flatten()\n",
    "print(P)"
   ]
  },
  {
   "cell_type": "code",
   "execution_count": 26,
   "metadata": {},
   "outputs": [
    {
     "name": "stdout",
     "output_type": "stream",
     "text": [
      "Calculando manualmente a acurácia: 0.9840425531914894\n",
      "6/6 [==============================] - 0s 7ms/step - loss: 0.0781 - accuracy: 0.9840\n",
      "Avaliando a saída:  [0.07806858420372009, 0.9840425252914429]\n"
     ]
    }
   ],
   "source": [
    "print(\"Calculando manualmente a acurácia:\", np.mean(P == y_test['target'].values))\n",
    "print(\"Avaliando a saída: \", model.evaluate(x_test, y_test))"
   ]
  },
  {
   "cell_type": "markdown",
   "metadata": {},
   "source": [
    "## Parte 3: Salvando e Carregando um Modelo"
   ]
  },
  {
   "cell_type": "code",
   "execution_count": 27,
   "metadata": {},
   "outputs": [],
   "source": [
    "# Vamos salvar o nosso modelo em um arquivo\n",
    "model.save('breast_cancer_model.h5')"
   ]
  },
  {
   "cell_type": "markdown",
   "metadata": {},
   "source": [
    "Vamos carregar o modelo e confirmar se ele ainda funciona."
   ]
  },
  {
   "cell_type": "code",
   "execution_count": 28,
   "metadata": {},
   "outputs": [
    {
     "name": "stdout",
     "output_type": "stream",
     "text": [
      "[<keras.layers.core.dense.Dense object at 0x7fb66153abe0>]\n",
      "6/6 [==============================] - 0s 1ms/step - loss: 0.0781 - accuracy: 0.9840\n"
     ]
    },
    {
     "data": {
      "text/plain": [
       "[0.07806858420372009, 0.9840425252914429]"
      ]
     },
     "execution_count": 28,
     "metadata": {},
     "output_type": "execute_result"
    }
   ],
   "source": [
    "model = tf.keras.models.load_model('breast_cancer_model.h5')\n",
    "print(model.layers)\n",
    "model.evaluate(x_test, y_test)"
   ]
  }
 ],
 "metadata": {
  "interpreter": {
   "hash": "112989f40982219f9c2133127490be09f86560db102a13a350eb86b01002b443"
  },
  "kernelspec": {
   "display_name": "Python 3.9.7 ('base')",
   "language": "python",
   "name": "python3"
  },
  "language_info": {
   "codemirror_mode": {
    "name": "ipython",
    "version": 3
   },
   "file_extension": ".py",
   "mimetype": "text/x-python",
   "name": "python",
   "nbconvert_exporter": "python",
   "pygments_lexer": "ipython3",
   "version": "3.9.7"
  },
  "orig_nbformat": 4
 },
 "nbformat": 4,
 "nbformat_minor": 2
}
