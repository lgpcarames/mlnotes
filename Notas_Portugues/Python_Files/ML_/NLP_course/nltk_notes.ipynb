{
 "cells": [
  {
   "cell_type": "code",
   "execution_count": 1,
   "metadata": {},
   "outputs": [
    {
     "name": "stdout",
     "output_type": "stream",
     "text": [
      "showing info https://raw.githubusercontent.com/nltk/nltk_data/gh-pages/index.xml\n",
      "showing info https://raw.githubusercontent.com/nltk/nltk_data/gh-pages/index.xml\n"
     ]
    },
    {
     "name": "stderr",
     "output_type": "stream",
     "text": [
      "Exception in thread Thread-6:\n",
      "Traceback (most recent call last):\n",
      "  File \"/home/lucas/anaconda3/lib/python3.9/threading.py\", line 973, in _bootstrap_inner\n",
      "    self.run()\n",
      "  File \"/home/lucas/anaconda3/lib/python3.9/site-packages/nltk/downloader.py\", line 2104, in run\n",
      "    for msg in self.data_server.incr_download(self.items):\n",
      "  File \"/home/lucas/anaconda3/lib/python3.9/site-packages/nltk/downloader.py\", line 624, in incr_download\n",
      "    yield from self._download_list(info_or_id, download_dir, force)\n",
      "  File \"/home/lucas/anaconda3/lib/python3.9/site-packages/nltk/downloader.py\", line 667, in _download_list\n",
      "    for msg in self.incr_download(item, download_dir, force):\n",
      "  File \"/home/lucas/anaconda3/lib/python3.9/site-packages/nltk/downloader.py\", line 637, in incr_download\n",
      "    yield from self.incr_download(info.children, download_dir, force)\n",
      "  File \"/home/lucas/anaconda3/lib/python3.9/site-packages/nltk/downloader.py\", line 624, in incr_download\n",
      "    yield from self._download_list(info_or_id, download_dir, force)\n",
      "  File \"/home/lucas/anaconda3/lib/python3.9/site-packages/nltk/downloader.py\", line 667, in _download_list\n",
      "    for msg in self.incr_download(item, download_dir, force):\n",
      "  File \"/home/lucas/anaconda3/lib/python3.9/site-packages/nltk/downloader.py\", line 642, in incr_download\n",
      "    yield from self._download_package(info, download_dir, force)\n",
      "  File \"/home/lucas/anaconda3/lib/python3.9/site-packages/nltk/downloader.py\", line 699, in _download_package\n",
      "    os.makedirs(download_dir)\n",
      "  File \"/home/lucas/anaconda3/lib/python3.9/os.py\", line 225, in makedirs\n",
      "    mkdir(name, mode)\n",
      "OSError: [Errno 30] Read-only file system: '/media/lucas/Linux1/Programas/nltk_data'\n"
     ]
    },
    {
     "data": {
      "text/plain": [
       "True"
      ]
     },
     "execution_count": 1,
     "metadata": {},
     "output_type": "execute_result"
    }
   ],
   "source": [
    "import nltk\n",
    "nltk.download()"
   ]
  }
 ],
 "metadata": {
  "interpreter": {
   "hash": "112989f40982219f9c2133127490be09f86560db102a13a350eb86b01002b443"
  },
  "kernelspec": {
   "display_name": "Python 3.9.7 ('base')",
   "language": "python",
   "name": "python3"
  },
  "language_info": {
   "codemirror_mode": {
    "name": "ipython",
    "version": 3
   },
   "file_extension": ".py",
   "mimetype": "text/x-python",
   "name": "python",
   "nbconvert_exporter": "python",
   "pygments_lexer": "ipython3",
   "version": "3.9.7"
  },
  "orig_nbformat": 4
 },
 "nbformat": 4,
 "nbformat_minor": 2
}
