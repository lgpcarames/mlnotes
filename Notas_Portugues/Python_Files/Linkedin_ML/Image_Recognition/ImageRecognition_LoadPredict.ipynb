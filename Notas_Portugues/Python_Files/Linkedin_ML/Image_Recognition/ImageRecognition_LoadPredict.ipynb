{
 "cells": [
  {
   "cell_type": "code",
   "execution_count": 2,
   "id": "05b7002e",
   "metadata": {},
   "outputs": [],
   "source": [
    "from keras.models import model_from_json\n",
    "from pathlib import Path\n",
    "from keras.preprocessing import image\n",
    "import numpy as np"
   ]
  },
  {
   "cell_type": "code",
   "execution_count": 8,
   "id": "472b4298",
   "metadata": {},
   "outputs": [
    {
     "name": "stdout",
     "output_type": "stream",
     "text": [
      "This image is a Car - Likelihood: 0.966224\n"
     ]
    }
   ],
   "source": [
    "# These are the CIFAR10 class labels from the training data\n",
    "class_labels = [\n",
    "    \"Plane\",\n",
    "    \"Car\",\n",
    "    \"Bird\",\n",
    "    \"Cat\",\n",
    "    \"Deer\",\n",
    "    \"Dog\",\n",
    "    \"Frog\",\n",
    "    \"Horse\",\n",
    "    \"Boat\",\n",
    "    \"Truck\"\n",
    "]\n",
    "\n",
    "# Load the json file that contains the model's structure\n",
    "f = Path(\"model_structure.json\")\n",
    "model_structure = f.read_text()\n",
    "\n",
    "# Recreate the Keras model object from the json data\n",
    "model = model_from_json(model_structure)\n",
    "\n",
    "# Re-load the model's trained weights\n",
    "model.load_weights(\"model_weights.h5\")\n",
    "\n",
    "# Load an image file to test\n",
    "img = image.load_img(\"./ex_files/Ch04/car.png\",\n",
    "                     target_size=(32, 32)\n",
    "                    )\n",
    "\n",
    "# Convert the image to a numpy array\n",
    "image_to_test = image.img_to_array(img) / 255\n",
    "\n",
    "# Add a fourth dimension to the image\n",
    "list_of_images = np.expand_dims(image_to_test, axis=0)\n",
    "\n",
    "# make a prediction using the model\n",
    "results = model.predict(list_of_images)\n",
    "\n",
    "# Since we are only testing one image, we only need to check the first result\n",
    "single_result = results[0]\n",
    "\n",
    "# We will get a likelihood score for all 10 possible classes.\n",
    "most_likely_class_index = int(np.argmax(single_result))\n",
    "class_likelihood = single_result[most_likely_class_index]\n",
    "\n",
    "# Get the name of the most likely class\n",
    "class_label = class_labels[most_likely_class_index]\n",
    "\n",
    "\n",
    "# Print the result\n",
    "print(\"This image is a {} - Likelihood: {:2f}\".format(class_label, class_likelihood))"
   ]
  }
 ],
 "metadata": {
  "kernelspec": {
   "display_name": "Python 3 (ipykernel)",
   "language": "python",
   "name": "python3"
  },
  "language_info": {
   "codemirror_mode": {
    "name": "ipython",
    "version": 3
   },
   "file_extension": ".py",
   "mimetype": "text/x-python",
   "name": "python",
   "nbconvert_exporter": "python",
   "pygments_lexer": "ipython3",
   "version": "3.9.7"
  }
 },
 "nbformat": 4,
 "nbformat_minor": 5
}
