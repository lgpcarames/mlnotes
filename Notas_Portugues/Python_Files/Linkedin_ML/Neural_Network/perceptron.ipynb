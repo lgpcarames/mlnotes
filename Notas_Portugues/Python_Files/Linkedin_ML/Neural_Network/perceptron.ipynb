{
 "cells": [
  {
   "cell_type": "markdown",
   "metadata": {},
   "source": [
    "# Challenger Finish Perceptron"
   ]
  },
  {
   "cell_type": "code",
   "execution_count": 7,
   "metadata": {},
   "outputs": [],
   "source": [
    "from typing import List\n",
    "import numpy as np\n",
    "\n",
    "class Perceptron:\n",
    "    \n",
    "    def __init__(self, inputs: int, bias=1.0) -> None:\n",
    "        self.bias = bias\n",
    "        self.weights = (np.random.rand(inputs+1) * 2)-1\n",
    "\n",
    "    def run(self, x: float) -> float:\n",
    "        sum_ = np.dot(np.append(x, self.bias), self.weights)\n",
    "        return self.sigmoid(sum_)\n",
    "\n",
    "\n",
    "    def set_weights(self, w_init: List[float]) -> np.ndarray:\n",
    "        self.weights = np.array(w_init)\n",
    "\n",
    "    def sigmoid(self, x: float):\n",
    "        return 1 / (1 + np.exp(-x))"
   ]
  },
  {
   "cell_type": "code",
   "execution_count": 11,
   "metadata": {},
   "outputs": [
    {
     "name": "stdout",
     "output_type": "stream",
     "text": [
      "Gate:\n",
      "0 0 = 0.0000003059\n",
      "0 1 = 0.0066928509\n",
      "1 0 = 0.0066928509\n",
      "1 1 = 0.9933071491\n"
     ]
    }
   ],
   "source": [
    "neuron = Perceptron(inputs=2)\n",
    "neuron.set_weights([10, 10, -15])\n",
    "\n",
    "print(\"Gate:\")\n",
    "print(\"0 0 = {0:.10f}\".format(neuron.run([0, 0])))\n",
    "print(\"0 1 = {0:.10f}\".format(neuron.run([0, 1])))\n",
    "print(\"1 0 = {0:.10f}\".format(neuron.run([1, 0])))\n",
    "print(\"1 1 = {0:.10f}\".format(neuron.run([1, 1])))"
   ]
  },
  {
   "cell_type": "code",
   "execution_count": null,
   "metadata": {},
   "outputs": [],
   "source": []
  }
 ],
 "metadata": {
  "interpreter": {
   "hash": "112989f40982219f9c2133127490be09f86560db102a13a350eb86b01002b443"
  },
  "kernelspec": {
   "display_name": "Python 3.9.7 ('base')",
   "language": "python",
   "name": "python3"
  },
  "language_info": {
   "codemirror_mode": {
    "name": "ipython",
    "version": 3
   },
   "file_extension": ".py",
   "mimetype": "text/x-python",
   "name": "python",
   "nbconvert_exporter": "python",
   "pygments_lexer": "ipython3",
   "version": "3.9.7"
  },
  "orig_nbformat": 4
 },
 "nbformat": 4,
 "nbformat_minor": 2
}
