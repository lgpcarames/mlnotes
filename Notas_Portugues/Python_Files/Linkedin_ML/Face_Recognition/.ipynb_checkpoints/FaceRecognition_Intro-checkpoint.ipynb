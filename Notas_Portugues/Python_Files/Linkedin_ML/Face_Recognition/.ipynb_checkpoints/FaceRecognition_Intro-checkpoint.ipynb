{
 "cells": [
  {
   "cell_type": "markdown",
   "id": "3c524c99",
   "metadata": {},
   "source": [
    "# DeepLearning: Face Recognition\n",
    "\n",
    "## Intro"
   ]
  },
  {
   "cell_type": "code",
   "execution_count": 5,
   "id": "c25cceec",
   "metadata": {},
   "outputs": [
    {
     "name": "stdout",
     "output_type": "stream",
     "text": [
      "Collecting face_recognition\n",
      "  Using cached face_recognition-1.3.0-py2.py3-none-any.whl (15 kB)\n",
      "Requirement already satisfied: numpy in /home/lucas/anaconda3/lib/python3.9/site-packages (from face_recognition) (1.21.2)\n",
      "Requirement already satisfied: Click>=6.0 in /home/lucas/anaconda3/lib/python3.9/site-packages (from face_recognition) (8.0.4)\n",
      "Requirement already satisfied: Pillow in /home/lucas/anaconda3/lib/python3.9/site-packages (from face_recognition) (9.0.1)\n",
      "Requirement already satisfied: face-recognition-models>=0.3.0 in /home/lucas/anaconda3/lib/python3.9/site-packages (from face_recognition) (0.3.0)\n",
      "Requirement already satisfied: dlib>=19.7 in /home/lucas/anaconda3/lib/python3.9/site-packages (from face_recognition) (19.23.1)\n",
      "Installing collected packages: face-recognition\n",
      "Successfully installed face-recognition-1.3.0\n"
     ]
    }
   ],
   "source": [
    "!pip3 install face_recognition"
   ]
  },
  {
   "cell_type": "code",
   "execution_count": 4,
   "id": "23bbd6a9",
   "metadata": {},
   "outputs": [],
   "source": [
    "import dlib"
   ]
  },
  {
   "cell_type": "code",
   "execution_count": 26,
   "id": "18655617",
   "metadata": {},
   "outputs": [],
   "source": [
    "import PIL.Image\n",
    "import PIL.ImageDraw\n",
    "import face_recognition\n",
    "import os"
   ]
  },
  {
   "cell_type": "code",
   "execution_count": 27,
   "id": "d92c3df9",
   "metadata": {},
   "outputs": [
    {
     "data": {
      "text/plain": [
       "'/home/lucas/Documentos/Python_Files/Linkedin_ML/Face_Recognition'"
      ]
     },
     "execution_count": 27,
     "metadata": {},
     "output_type": "execute_result"
    }
   ],
   "source": [
    "os.getcwd()"
   ]
  },
  {
   "cell_type": "code",
   "execution_count": 30,
   "id": "2956013b",
   "metadata": {},
   "outputs": [
    {
     "name": "stdout",
     "output_type": "stream",
     "text": [
      "I found 6 face(s) in this photography.\n",
      "A face is located at pixel location Top: 163, Left: 497,          Bottom: 271, Right: 605\n",
      "A face is located at pixel location Top: 186, Left: 275,          Bottom: 275, Right: 364\n",
      "A face is located at pixel location Top: 211, Left: 67,          Bottom: 319, Right: 175\n",
      "A face is located at pixel location Top: 295, Left: 653,          Bottom: 402, Right: 760\n",
      "A face is located at pixel location Top: 271, Left: 366,          Bottom: 378, Right: 474\n",
      "A face is located at pixel location Top: 152, Left: 724,          Bottom: 259, Right: 832\n"
     ]
    }
   ],
   "source": [
    "# Load the jpg file into a numpy array\n",
    "image = face_recognition.load_image_file(\"./ex_files/Ch03/people.jpg\")\n",
    "# Find all the faces in the image\n",
    "face_locations = face_recognition.face_locations(image)\n",
    "\n",
    "number_of_faces = len(face_locations)\n",
    "\n",
    "print(\"I found {} face(s) in this photography.\".format(number_of_faces))\n",
    "\n",
    "\n",
    "# load the image into a Python Image Library object\n",
    "pil_image = PIL.Image.fromarray(image)\n",
    "\n",
    "for face_location in face_locations:\n",
    "    top, right, bottom, left = face_location\n",
    "    print(\"A face is located at pixel location Top: {}, Left: {},\\\n",
    "          Bottom: {}, Right: {}\".format(top, left, bottom, right))\n",
    "    \n",
    "    # Let's draw a box around the face\n",
    "    draw = PIL.ImageDraw.Draw(pil_image)\n",
    "    draw.rectangle([left, top, right, bottom], outline=\"red\")\n",
    "    \n",
    "    \n",
    "# Display the image\n",
    "pil_image.show()\n",
    "    \n"
   ]
  },
  {
   "cell_type": "code",
   "execution_count": null,
   "id": "c9ac7d71",
   "metadata": {},
   "outputs": [],
   "source": []
  }
 ],
 "metadata": {
  "kernelspec": {
   "display_name": "Python 3 (ipykernel)",
   "language": "python",
   "name": "python3"
  },
  "language_info": {
   "codemirror_mode": {
    "name": "ipython",
    "version": 3
   },
   "file_extension": ".py",
   "mimetype": "text/x-python",
   "name": "python",
   "nbconvert_exporter": "python",
   "pygments_lexer": "ipython3",
   "version": "3.9.7"
  }
 },
 "nbformat": 4,
 "nbformat_minor": 5
}
