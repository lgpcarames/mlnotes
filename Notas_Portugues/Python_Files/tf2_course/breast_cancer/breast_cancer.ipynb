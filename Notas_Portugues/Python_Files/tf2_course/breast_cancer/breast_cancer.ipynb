{
 "cells": [
  {
   "cell_type": "markdown",
   "metadata": {},
   "source": [
    "# Breast Cancer Classification"
   ]
  },
  {
   "cell_type": "code",
   "execution_count": 2,
   "metadata": {},
   "outputs": [],
   "source": [
    "# Importando o tensorflow\n",
    "\n",
    "import tensorflow as tf"
   ]
  },
  {
   "cell_type": "code",
   "execution_count": 7,
   "metadata": {},
   "outputs": [],
   "source": [
    "# Importando a base de dados\n",
    "from sklearn.datasets import load_breast_cancer\n",
    "import pandas as pd"
   ]
  },
  {
   "cell_type": "code",
   "execution_count": 4,
   "metadata": {},
   "outputs": [],
   "source": [
    "# Carregando a base de dados\n",
    "data = load_breast_cancer()"
   ]
  },
  {
   "cell_type": "code",
   "execution_count": 17,
   "metadata": {},
   "outputs": [
    {
     "data": {
      "text/plain": [
       "Index(['mean radius', 'mean texture', 'mean perimeter', 'mean area',\n",
       "       'mean smoothness', 'mean compactness', 'mean concavity',\n",
       "       'mean concave points', 'mean symmetry', 'mean fractal dimension',\n",
       "       'radius error', 'texture error', 'perimeter error', 'area error',\n",
       "       'smoothness error', 'compactness error', 'concavity error',\n",
       "       'concave points error', 'symmetry error', 'fractal dimension error',\n",
       "       'worst radius', 'worst texture', 'worst perimeter', 'worst area',\n",
       "       'worst smoothness', 'worst compactness', 'worst concavity',\n",
       "       'worst concave points', 'worst symmetry', 'worst fractal dimension'],\n",
       "      dtype='object')"
      ]
     },
     "execution_count": 17,
     "metadata": {},
     "output_type": "execute_result"
    }
   ],
   "source": [
    "data_frame = pd.DataFrame(data.data, columns=data.feature_names)\n",
    "data_frame.columns"
   ]
  },
  {
   "cell_type": "markdown",
   "metadata": {},
   "source": [
    "Podemos observar pela relação das colunas da base de dados acima, que o método utilizado para transformar essa base de dados em um objeto do tipo pandas dataframe, acabamos por perder a informação da variável target, sendo que esta está armazenada no atributo de mesmo nome, que pode ser reobtido, na forma de um pandas dataframe, com o comando abaixo:"
   ]
  },
  {
   "cell_type": "code",
   "execution_count": 18,
   "metadata": {},
   "outputs": [
    {
     "data": {
      "text/html": [
       "<div>\n",
       "<style scoped>\n",
       "    .dataframe tbody tr th:only-of-type {\n",
       "        vertical-align: middle;\n",
       "    }\n",
       "\n",
       "    .dataframe tbody tr th {\n",
       "        vertical-align: top;\n",
       "    }\n",
       "\n",
       "    .dataframe thead th {\n",
       "        text-align: right;\n",
       "    }\n",
       "</style>\n",
       "<table border=\"1\" class=\"dataframe\">\n",
       "  <thead>\n",
       "    <tr style=\"text-align: right;\">\n",
       "      <th></th>\n",
       "      <th>target</th>\n",
       "    </tr>\n",
       "  </thead>\n",
       "  <tbody>\n",
       "    <tr>\n",
       "      <th>0</th>\n",
       "      <td>0</td>\n",
       "    </tr>\n",
       "    <tr>\n",
       "      <th>1</th>\n",
       "      <td>0</td>\n",
       "    </tr>\n",
       "    <tr>\n",
       "      <th>2</th>\n",
       "      <td>0</td>\n",
       "    </tr>\n",
       "    <tr>\n",
       "      <th>3</th>\n",
       "      <td>0</td>\n",
       "    </tr>\n",
       "    <tr>\n",
       "      <th>4</th>\n",
       "      <td>0</td>\n",
       "    </tr>\n",
       "    <tr>\n",
       "      <th>...</th>\n",
       "      <td>...</td>\n",
       "    </tr>\n",
       "    <tr>\n",
       "      <th>564</th>\n",
       "      <td>0</td>\n",
       "    </tr>\n",
       "    <tr>\n",
       "      <th>565</th>\n",
       "      <td>0</td>\n",
       "    </tr>\n",
       "    <tr>\n",
       "      <th>566</th>\n",
       "      <td>0</td>\n",
       "    </tr>\n",
       "    <tr>\n",
       "      <th>567</th>\n",
       "      <td>0</td>\n",
       "    </tr>\n",
       "    <tr>\n",
       "      <th>568</th>\n",
       "      <td>1</td>\n",
       "    </tr>\n",
       "  </tbody>\n",
       "</table>\n",
       "<p>569 rows × 1 columns</p>\n",
       "</div>"
      ],
      "text/plain": [
       "     target\n",
       "0         0\n",
       "1         0\n",
       "2         0\n",
       "3         0\n",
       "4         0\n",
       "..      ...\n",
       "564       0\n",
       "565       0\n",
       "566       0\n",
       "567       0\n",
       "568       1\n",
       "\n",
       "[569 rows x 1 columns]"
      ]
     },
     "execution_count": 18,
     "metadata": {},
     "output_type": "execute_result"
    }
   ],
   "source": [
    "df_targets = pd.DataFrame(data.target, columns=['target'])\n",
    "df_targets"
   ]
  },
  {
   "cell_type": "markdown",
   "metadata": {},
   "source": [
    "Da mesma maneira, perdemos informação do que o valor das variáveis alvo significam, podemos reobter essa informação chamando o atributo target_names, que é um array de strings, com o nome das classes alvo."
   ]
  },
  {
   "cell_type": "code",
   "execution_count": 19,
   "metadata": {},
   "outputs": [
    {
     "data": {
      "text/plain": [
       "array(['malignant', 'benign'], dtype='<U9')"
      ]
     },
     "execution_count": 19,
     "metadata": {},
     "output_type": "execute_result"
    }
   ],
   "source": [
    "data.target_names"
   ]
  },
  {
   "cell_type": "markdown",
   "metadata": {},
   "source": [
    "Logo,\n",
    "- 0 -> malignant\n",
    "- 1 -> benign"
   ]
  },
  {
   "cell_type": "markdown",
   "metadata": {},
   "source": [
    "Podemos também checar se há valores faltantes ou necessários para serem tratados por hora, utilizando simplemente o código abaixo:"
   ]
  },
  {
   "cell_type": "code",
   "execution_count": 21,
   "metadata": {},
   "outputs": [
    {
     "data": {
      "text/plain": [
       "mean radius                0\n",
       "mean texture               0\n",
       "mean perimeter             0\n",
       "mean area                  0\n",
       "mean smoothness            0\n",
       "mean compactness           0\n",
       "mean concavity             0\n",
       "mean concave points        0\n",
       "mean symmetry              0\n",
       "mean fractal dimension     0\n",
       "radius error               0\n",
       "texture error              0\n",
       "perimeter error            0\n",
       "area error                 0\n",
       "smoothness error           0\n",
       "compactness error          0\n",
       "concavity error            0\n",
       "concave points error       0\n",
       "symmetry error             0\n",
       "fractal dimension error    0\n",
       "worst radius               0\n",
       "worst texture              0\n",
       "worst perimeter            0\n",
       "worst area                 0\n",
       "worst smoothness           0\n",
       "worst compactness          0\n",
       "worst concavity            0\n",
       "worst concave points       0\n",
       "worst symmetry             0\n",
       "worst fractal dimension    0\n",
       "dtype: int64"
      ]
     },
     "execution_count": 21,
     "metadata": {},
     "output_type": "execute_result"
    }
   ],
   "source": [
    "data_frame.isnull().sum()"
   ]
  },
  {
   "cell_type": "markdown",
   "metadata": {},
   "source": [
    "Não há valores faltantes, mas há valores que necessecitarão de serem reescalados."
   ]
  },
  {
   "cell_type": "code",
   "execution_count": 22,
   "metadata": {},
   "outputs": [],
   "source": [
    "from sklearn.preprocessing import StandardScaler\n",
    "from sklearn.model_selection import train_test_split\n",
    "\n",
    "x_train, x_test, y_train, y_test = train_test_split(data_frame, df_targets, test_size=0.33, random_state=13)\n",
    "N, D = x_train.shape"
   ]
  },
  {
   "cell_type": "code",
   "execution_count": 23,
   "metadata": {},
   "outputs": [],
   "source": [
    "# Normalizando os dados\n",
    "scaler = StandardScaler()\n",
    "x_train = scaler.fit_transform(x_train)\n",
    "x_test = scaler.transform(x_test)"
   ]
  },
  {
   "cell_type": "code",
   "execution_count": 24,
   "metadata": {},
   "outputs": [
    {
     "name": "stderr",
     "output_type": "stream",
     "text": [
      "2022-04-15 20:56:59.149788: W tensorflow/stream_executor/platform/default/dso_loader.cc:64] Could not load dynamic library 'libcuda.so.1'; dlerror: libcuda.so.1: cannot open shared object file: No such file or directory\n",
      "2022-04-15 20:56:59.150358: W tensorflow/stream_executor/cuda/cuda_driver.cc:269] failed call to cuInit: UNKNOWN ERROR (303)\n",
      "2022-04-15 20:56:59.150574: I tensorflow/stream_executor/cuda/cuda_diagnostics.cc:156] kernel driver does not appear to be running on this host (lucas-Inspiron-5566): /proc/driver/nvidia/version does not exist\n",
      "2022-04-15 20:56:59.155397: I tensorflow/core/platform/cpu_feature_guard.cc:151] This TensorFlow binary is optimized with oneAPI Deep Neural Network Library (oneDNN) to use the following CPU instructions in performance-critical operations:  AVX2 FMA\n",
      "To enable them in other operations, rebuild TensorFlow with the appropriate compiler flags.\n"
     ]
    },
    {
     "name": "stdout",
     "output_type": "stream",
     "text": [
      "Epoch 1/100\n",
      "12/12 [==============================] - 1s 20ms/step - loss: 0.9073 - accuracy: 0.4304 - val_loss: 0.8590 - val_accuracy: 0.4202\n",
      "Epoch 2/100\n",
      "12/12 [==============================] - 0s 6ms/step - loss: 0.8167 - accuracy: 0.4856 - val_loss: 0.7760 - val_accuracy: 0.4681\n",
      "Epoch 3/100\n",
      "12/12 [==============================] - 0s 5ms/step - loss: 0.7370 - accuracy: 0.5459 - val_loss: 0.7035 - val_accuracy: 0.5319\n",
      "Epoch 4/100\n",
      "12/12 [==============================] - 0s 5ms/step - loss: 0.6687 - accuracy: 0.6037 - val_loss: 0.6413 - val_accuracy: 0.5745\n",
      "Epoch 5/100\n",
      "12/12 [==============================] - 0s 5ms/step - loss: 0.6099 - accuracy: 0.6667 - val_loss: 0.5895 - val_accuracy: 0.6543\n",
      "Epoch 6/100\n",
      "12/12 [==============================] - 0s 5ms/step - loss: 0.5605 - accuracy: 0.7060 - val_loss: 0.5458 - val_accuracy: 0.6968\n",
      "Epoch 7/100\n",
      "12/12 [==============================] - 0s 5ms/step - loss: 0.5189 - accuracy: 0.7454 - val_loss: 0.5088 - val_accuracy: 0.7287\n",
      "Epoch 8/100\n",
      "12/12 [==============================] - 0s 5ms/step - loss: 0.4841 - accuracy: 0.7874 - val_loss: 0.4770 - val_accuracy: 0.7926\n",
      "Epoch 9/100\n",
      "12/12 [==============================] - 0s 5ms/step - loss: 0.4537 - accuracy: 0.8084 - val_loss: 0.4501 - val_accuracy: 0.8085\n",
      "Epoch 10/100\n",
      "12/12 [==============================] - 0s 6ms/step - loss: 0.4284 - accuracy: 0.8320 - val_loss: 0.4263 - val_accuracy: 0.8245\n",
      "Epoch 11/100\n",
      "12/12 [==============================] - 0s 5ms/step - loss: 0.4063 - accuracy: 0.8451 - val_loss: 0.4053 - val_accuracy: 0.8351\n",
      "Epoch 12/100\n",
      "12/12 [==============================] - 0s 6ms/step - loss: 0.3868 - accuracy: 0.8609 - val_loss: 0.3870 - val_accuracy: 0.8617\n",
      "Epoch 13/100\n",
      "12/12 [==============================] - 0s 6ms/step - loss: 0.3697 - accuracy: 0.8661 - val_loss: 0.3707 - val_accuracy: 0.8723\n",
      "Epoch 14/100\n",
      "12/12 [==============================] - 0s 6ms/step - loss: 0.3546 - accuracy: 0.8740 - val_loss: 0.3558 - val_accuracy: 0.8723\n",
      "Epoch 15/100\n",
      "12/12 [==============================] - 0s 6ms/step - loss: 0.3408 - accuracy: 0.8845 - val_loss: 0.3425 - val_accuracy: 0.8777\n",
      "Epoch 16/100\n",
      "12/12 [==============================] - 0s 6ms/step - loss: 0.3288 - accuracy: 0.8950 - val_loss: 0.3303 - val_accuracy: 0.8936\n",
      "Epoch 17/100\n",
      "12/12 [==============================] - 0s 6ms/step - loss: 0.3178 - accuracy: 0.9029 - val_loss: 0.3191 - val_accuracy: 0.8989\n",
      "Epoch 18/100\n",
      "12/12 [==============================] - 0s 7ms/step - loss: 0.3074 - accuracy: 0.9055 - val_loss: 0.3084 - val_accuracy: 0.8989\n",
      "Epoch 19/100\n",
      "12/12 [==============================] - 0s 5ms/step - loss: 0.2981 - accuracy: 0.9081 - val_loss: 0.2989 - val_accuracy: 0.8989\n",
      "Epoch 20/100\n",
      "12/12 [==============================] - 0s 4ms/step - loss: 0.2895 - accuracy: 0.9108 - val_loss: 0.2897 - val_accuracy: 0.8989\n",
      "Epoch 21/100\n",
      "12/12 [==============================] - 0s 5ms/step - loss: 0.2814 - accuracy: 0.9160 - val_loss: 0.2815 - val_accuracy: 0.9043\n",
      "Epoch 22/100\n",
      "12/12 [==============================] - 0s 5ms/step - loss: 0.2740 - accuracy: 0.9160 - val_loss: 0.2736 - val_accuracy: 0.9149\n",
      "Epoch 23/100\n",
      "12/12 [==============================] - 0s 5ms/step - loss: 0.2672 - accuracy: 0.9160 - val_loss: 0.2661 - val_accuracy: 0.9096\n",
      "Epoch 24/100\n",
      "12/12 [==============================] - 0s 6ms/step - loss: 0.2606 - accuracy: 0.9186 - val_loss: 0.2594 - val_accuracy: 0.9096\n",
      "Epoch 25/100\n",
      "12/12 [==============================] - 0s 7ms/step - loss: 0.2546 - accuracy: 0.9186 - val_loss: 0.2526 - val_accuracy: 0.9096\n",
      "Epoch 26/100\n",
      "12/12 [==============================] - 0s 6ms/step - loss: 0.2490 - accuracy: 0.9213 - val_loss: 0.2461 - val_accuracy: 0.9096\n",
      "Epoch 27/100\n",
      "12/12 [==============================] - 0s 6ms/step - loss: 0.2433 - accuracy: 0.9239 - val_loss: 0.2404 - val_accuracy: 0.9096\n",
      "Epoch 28/100\n",
      "12/12 [==============================] - 0s 4ms/step - loss: 0.2382 - accuracy: 0.9239 - val_loss: 0.2347 - val_accuracy: 0.9096\n",
      "Epoch 29/100\n",
      "12/12 [==============================] - 0s 4ms/step - loss: 0.2335 - accuracy: 0.9239 - val_loss: 0.2292 - val_accuracy: 0.9096\n",
      "Epoch 30/100\n",
      "12/12 [==============================] - 0s 4ms/step - loss: 0.2288 - accuracy: 0.9239 - val_loss: 0.2240 - val_accuracy: 0.9202\n",
      "Epoch 31/100\n",
      "12/12 [==============================] - 0s 5ms/step - loss: 0.2244 - accuracy: 0.9239 - val_loss: 0.2191 - val_accuracy: 0.9202\n",
      "Epoch 32/100\n",
      "12/12 [==============================] - 0s 5ms/step - loss: 0.2203 - accuracy: 0.9239 - val_loss: 0.2144 - val_accuracy: 0.9202\n",
      "Epoch 33/100\n",
      "12/12 [==============================] - 0s 5ms/step - loss: 0.2163 - accuracy: 0.9291 - val_loss: 0.2099 - val_accuracy: 0.9202\n",
      "Epoch 34/100\n",
      "12/12 [==============================] - 0s 5ms/step - loss: 0.2125 - accuracy: 0.9291 - val_loss: 0.2057 - val_accuracy: 0.9255\n",
      "Epoch 35/100\n",
      "12/12 [==============================] - 0s 6ms/step - loss: 0.2089 - accuracy: 0.9291 - val_loss: 0.2015 - val_accuracy: 0.9255\n",
      "Epoch 36/100\n",
      "12/12 [==============================] - 0s 5ms/step - loss: 0.2054 - accuracy: 0.9291 - val_loss: 0.1976 - val_accuracy: 0.9362\n",
      "Epoch 37/100\n",
      "12/12 [==============================] - 0s 4ms/step - loss: 0.2020 - accuracy: 0.9318 - val_loss: 0.1938 - val_accuracy: 0.9415\n",
      "Epoch 38/100\n",
      "12/12 [==============================] - 0s 4ms/step - loss: 0.1988 - accuracy: 0.9318 - val_loss: 0.1903 - val_accuracy: 0.9415\n",
      "Epoch 39/100\n",
      "12/12 [==============================] - 0s 5ms/step - loss: 0.1958 - accuracy: 0.9318 - val_loss: 0.1867 - val_accuracy: 0.9415\n",
      "Epoch 40/100\n",
      "12/12 [==============================] - 0s 5ms/step - loss: 0.1928 - accuracy: 0.9344 - val_loss: 0.1834 - val_accuracy: 0.9415\n",
      "Epoch 41/100\n",
      "12/12 [==============================] - 0s 5ms/step - loss: 0.1900 - accuracy: 0.9344 - val_loss: 0.1801 - val_accuracy: 0.9415\n",
      "Epoch 42/100\n",
      "12/12 [==============================] - 0s 4ms/step - loss: 0.1872 - accuracy: 0.9370 - val_loss: 0.1771 - val_accuracy: 0.9415\n",
      "Epoch 43/100\n",
      "12/12 [==============================] - 0s 4ms/step - loss: 0.1845 - accuracy: 0.9396 - val_loss: 0.1741 - val_accuracy: 0.9415\n",
      "Epoch 44/100\n",
      "12/12 [==============================] - 0s 5ms/step - loss: 0.1820 - accuracy: 0.9396 - val_loss: 0.1712 - val_accuracy: 0.9415\n",
      "Epoch 45/100\n",
      "12/12 [==============================] - 0s 5ms/step - loss: 0.1795 - accuracy: 0.9396 - val_loss: 0.1684 - val_accuracy: 0.9468\n",
      "Epoch 46/100\n",
      "12/12 [==============================] - 0s 5ms/step - loss: 0.1772 - accuracy: 0.9396 - val_loss: 0.1657 - val_accuracy: 0.9468\n",
      "Epoch 47/100\n",
      "12/12 [==============================] - 0s 4ms/step - loss: 0.1749 - accuracy: 0.9396 - val_loss: 0.1631 - val_accuracy: 0.9521\n",
      "Epoch 48/100\n",
      "12/12 [==============================] - 0s 4ms/step - loss: 0.1728 - accuracy: 0.9396 - val_loss: 0.1605 - val_accuracy: 0.9521\n",
      "Epoch 49/100\n",
      "12/12 [==============================] - 0s 4ms/step - loss: 0.1705 - accuracy: 0.9396 - val_loss: 0.1581 - val_accuracy: 0.9574\n",
      "Epoch 50/100\n",
      "12/12 [==============================] - 0s 5ms/step - loss: 0.1684 - accuracy: 0.9396 - val_loss: 0.1558 - val_accuracy: 0.9574\n",
      "Epoch 51/100\n",
      "12/12 [==============================] - 0s 4ms/step - loss: 0.1664 - accuracy: 0.9396 - val_loss: 0.1536 - val_accuracy: 0.9628\n",
      "Epoch 52/100\n",
      "12/12 [==============================] - 0s 7ms/step - loss: 0.1645 - accuracy: 0.9423 - val_loss: 0.1514 - val_accuracy: 0.9628\n",
      "Epoch 53/100\n",
      "12/12 [==============================] - 0s 4ms/step - loss: 0.1626 - accuracy: 0.9423 - val_loss: 0.1493 - val_accuracy: 0.9681\n",
      "Epoch 54/100\n",
      "12/12 [==============================] - 0s 4ms/step - loss: 0.1609 - accuracy: 0.9423 - val_loss: 0.1472 - val_accuracy: 0.9681\n",
      "Epoch 55/100\n",
      "12/12 [==============================] - 0s 4ms/step - loss: 0.1589 - accuracy: 0.9423 - val_loss: 0.1454 - val_accuracy: 0.9840\n",
      "Epoch 56/100\n",
      "12/12 [==============================] - 0s 5ms/step - loss: 0.1574 - accuracy: 0.9423 - val_loss: 0.1434 - val_accuracy: 0.9840\n",
      "Epoch 57/100\n",
      "12/12 [==============================] - 0s 5ms/step - loss: 0.1557 - accuracy: 0.9423 - val_loss: 0.1417 - val_accuracy: 0.9840\n",
      "Epoch 58/100\n",
      "12/12 [==============================] - 0s 4ms/step - loss: 0.1541 - accuracy: 0.9449 - val_loss: 0.1399 - val_accuracy: 0.9840\n",
      "Epoch 59/100\n",
      "12/12 [==============================] - 0s 4ms/step - loss: 0.1525 - accuracy: 0.9449 - val_loss: 0.1383 - val_accuracy: 0.9840\n",
      "Epoch 60/100\n",
      "12/12 [==============================] - 0s 4ms/step - loss: 0.1510 - accuracy: 0.9475 - val_loss: 0.1366 - val_accuracy: 0.9840\n",
      "Epoch 61/100\n",
      "12/12 [==============================] - 0s 6ms/step - loss: 0.1496 - accuracy: 0.9475 - val_loss: 0.1350 - val_accuracy: 0.9840\n",
      "Epoch 62/100\n",
      "12/12 [==============================] - 0s 5ms/step - loss: 0.1482 - accuracy: 0.9475 - val_loss: 0.1335 - val_accuracy: 0.9894\n",
      "Epoch 63/100\n",
      "12/12 [==============================] - 0s 5ms/step - loss: 0.1467 - accuracy: 0.9475 - val_loss: 0.1321 - val_accuracy: 0.9894\n",
      "Epoch 64/100\n",
      "12/12 [==============================] - 0s 8ms/step - loss: 0.1455 - accuracy: 0.9501 - val_loss: 0.1305 - val_accuracy: 0.9894\n",
      "Epoch 65/100\n",
      "12/12 [==============================] - 0s 8ms/step - loss: 0.1441 - accuracy: 0.9501 - val_loss: 0.1291 - val_accuracy: 0.9894\n",
      "Epoch 66/100\n",
      "12/12 [==============================] - 0s 6ms/step - loss: 0.1428 - accuracy: 0.9528 - val_loss: 0.1278 - val_accuracy: 0.9894\n",
      "Epoch 67/100\n",
      "12/12 [==============================] - 0s 5ms/step - loss: 0.1416 - accuracy: 0.9528 - val_loss: 0.1265 - val_accuracy: 0.9894\n",
      "Epoch 68/100\n",
      "12/12 [==============================] - 0s 4ms/step - loss: 0.1405 - accuracy: 0.9528 - val_loss: 0.1252 - val_accuracy: 0.9894\n",
      "Epoch 69/100\n",
      "12/12 [==============================] - 0s 4ms/step - loss: 0.1393 - accuracy: 0.9554 - val_loss: 0.1240 - val_accuracy: 0.9894\n",
      "Epoch 70/100\n",
      "12/12 [==============================] - 0s 4ms/step - loss: 0.1382 - accuracy: 0.9554 - val_loss: 0.1227 - val_accuracy: 0.9894\n",
      "Epoch 71/100\n",
      "12/12 [==============================] - 0s 4ms/step - loss: 0.1371 - accuracy: 0.9554 - val_loss: 0.1216 - val_accuracy: 0.9894\n",
      "Epoch 72/100\n",
      "12/12 [==============================] - 0s 5ms/step - loss: 0.1360 - accuracy: 0.9580 - val_loss: 0.1204 - val_accuracy: 0.9894\n",
      "Epoch 73/100\n",
      "12/12 [==============================] - 0s 6ms/step - loss: 0.1350 - accuracy: 0.9580 - val_loss: 0.1194 - val_accuracy: 0.9894\n",
      "Epoch 74/100\n",
      "12/12 [==============================] - 0s 5ms/step - loss: 0.1339 - accuracy: 0.9580 - val_loss: 0.1184 - val_accuracy: 0.9894\n",
      "Epoch 75/100\n",
      "12/12 [==============================] - 0s 5ms/step - loss: 0.1329 - accuracy: 0.9580 - val_loss: 0.1173 - val_accuracy: 0.9894\n",
      "Epoch 76/100\n",
      "12/12 [==============================] - 0s 4ms/step - loss: 0.1320 - accuracy: 0.9580 - val_loss: 0.1162 - val_accuracy: 0.9894\n",
      "Epoch 77/100\n",
      "12/12 [==============================] - 0s 4ms/step - loss: 0.1311 - accuracy: 0.9606 - val_loss: 0.1152 - val_accuracy: 0.9894\n",
      "Epoch 78/100\n",
      "12/12 [==============================] - 0s 4ms/step - loss: 0.1301 - accuracy: 0.9659 - val_loss: 0.1142 - val_accuracy: 0.9894\n",
      "Epoch 79/100\n",
      "12/12 [==============================] - 0s 4ms/step - loss: 0.1292 - accuracy: 0.9659 - val_loss: 0.1133 - val_accuracy: 0.9894\n",
      "Epoch 80/100\n",
      "12/12 [==============================] - 0s 4ms/step - loss: 0.1283 - accuracy: 0.9659 - val_loss: 0.1124 - val_accuracy: 0.9894\n",
      "Epoch 81/100\n",
      "12/12 [==============================] - 0s 4ms/step - loss: 0.1275 - accuracy: 0.9659 - val_loss: 0.1116 - val_accuracy: 0.9894\n",
      "Epoch 82/100\n",
      "12/12 [==============================] - 0s 5ms/step - loss: 0.1266 - accuracy: 0.9659 - val_loss: 0.1107 - val_accuracy: 0.9894\n",
      "Epoch 83/100\n",
      "12/12 [==============================] - 0s 4ms/step - loss: 0.1258 - accuracy: 0.9659 - val_loss: 0.1099 - val_accuracy: 0.9894\n",
      "Epoch 84/100\n",
      "12/12 [==============================] - 0s 4ms/step - loss: 0.1250 - accuracy: 0.9659 - val_loss: 0.1090 - val_accuracy: 0.9894\n",
      "Epoch 85/100\n",
      "12/12 [==============================] - 0s 4ms/step - loss: 0.1242 - accuracy: 0.9659 - val_loss: 0.1082 - val_accuracy: 0.9894\n",
      "Epoch 86/100\n",
      "12/12 [==============================] - 0s 5ms/step - loss: 0.1234 - accuracy: 0.9659 - val_loss: 0.1074 - val_accuracy: 0.9894\n",
      "Epoch 87/100\n",
      "12/12 [==============================] - 0s 4ms/step - loss: 0.1227 - accuracy: 0.9659 - val_loss: 0.1067 - val_accuracy: 0.9894\n",
      "Epoch 88/100\n",
      "12/12 [==============================] - 0s 5ms/step - loss: 0.1219 - accuracy: 0.9659 - val_loss: 0.1059 - val_accuracy: 0.9894\n",
      "Epoch 89/100\n",
      "12/12 [==============================] - 0s 5ms/step - loss: 0.1212 - accuracy: 0.9659 - val_loss: 0.1052 - val_accuracy: 0.9894\n",
      "Epoch 90/100\n",
      "12/12 [==============================] - 0s 4ms/step - loss: 0.1205 - accuracy: 0.9685 - val_loss: 0.1044 - val_accuracy: 0.9894\n",
      "Epoch 91/100\n",
      "12/12 [==============================] - 0s 4ms/step - loss: 0.1198 - accuracy: 0.9685 - val_loss: 0.1038 - val_accuracy: 0.9894\n",
      "Epoch 92/100\n",
      "12/12 [==============================] - 0s 5ms/step - loss: 0.1191 - accuracy: 0.9685 - val_loss: 0.1030 - val_accuracy: 0.9894\n",
      "Epoch 93/100\n",
      "12/12 [==============================] - 0s 7ms/step - loss: 0.1185 - accuracy: 0.9685 - val_loss: 0.1024 - val_accuracy: 0.9894\n",
      "Epoch 94/100\n",
      "12/12 [==============================] - 0s 5ms/step - loss: 0.1178 - accuracy: 0.9685 - val_loss: 0.1018 - val_accuracy: 0.9894\n",
      "Epoch 95/100\n",
      "12/12 [==============================] - 0s 4ms/step - loss: 0.1172 - accuracy: 0.9685 - val_loss: 0.1012 - val_accuracy: 0.9894\n",
      "Epoch 96/100\n",
      "12/12 [==============================] - 0s 4ms/step - loss: 0.1165 - accuracy: 0.9685 - val_loss: 0.1005 - val_accuracy: 0.9894\n",
      "Epoch 97/100\n",
      "12/12 [==============================] - 0s 4ms/step - loss: 0.1159 - accuracy: 0.9685 - val_loss: 0.1000 - val_accuracy: 0.9894\n",
      "Epoch 98/100\n",
      "12/12 [==============================] - 0s 4ms/step - loss: 0.1153 - accuracy: 0.9685 - val_loss: 0.0993 - val_accuracy: 0.9894\n",
      "Epoch 99/100\n",
      "12/12 [==============================] - 0s 4ms/step - loss: 0.1147 - accuracy: 0.9685 - val_loss: 0.0988 - val_accuracy: 0.9894\n",
      "Epoch 100/100\n",
      "12/12 [==============================] - 0s 4ms/step - loss: 0.1141 - accuracy: 0.9685 - val_loss: 0.0982 - val_accuracy: 0.9894\n",
      "12/12 [==============================] - 0s 2ms/step - loss: 0.1138 - accuracy: 0.9685\n",
      "Pontuação do treino: [0.113750159740448, 0.9685039520263672]\n",
      "6/6 [==============================] - 0s 2ms/step - loss: 0.0982 - accuracy: 0.9894\n",
      "Pontuação do teste: [0.09822218120098114, 0.9893617033958435]\n"
     ]
    }
   ],
   "source": [
    "# Agora vamos criar o modelo usando o Tensorflow\n",
    "model = tf.keras.Sequential(\n",
    "    [\n",
    "        tf.keras.layers.Input(shape=(D,)),\n",
    "        tf.keras.layers.Dense(1, activation='sigmoid')\n",
    "    ]\n",
    ")\n",
    "\n",
    "model.compile(optimizer='adam',\n",
    "              loss='binary_crossentropy',\n",
    "              metrics=['accuracy'])\n",
    "\n",
    "# treinando o modelo\n",
    "r = model.fit(x_train, y_train, validation_data=(x_test, y_test), epochs=100)\n",
    "\n",
    "# Avaliando o modelo\n",
    "print(\"Pontuação do treino:\", model.evaluate(x_train, y_train))\n",
    "print(\"Pontuação do teste:\", model.evaluate(x_test, y_test))"
   ]
  },
  {
   "cell_type": "code",
   "execution_count": 27,
   "metadata": {},
   "outputs": [
    {
     "data": {
      "image/png": "[encoded data removed]",
      "text/plain": [
       "<Figure size 640x480 with 1 Axes>"
      ]
     },
     "metadata": {},
     "output_type": "display_data"
    }
   ],
   "source": [
    "# Plotando o que o modelo aprendeu\n",
    "import matplotlib.pyplot as plt\n",
    "plt.style.use('classic')\n",
    "plt.plot(r.history['loss'], label='loss')\n",
    "plt.plot(r.history['val_loss'], label='val_loss')\n",
    "plt.legend()\n",
    "plt.show()"
   ]
  },
  {
   "cell_type": "code",
   "execution_count": 28,
   "metadata": {},
   "outputs": [
    {
     "data": {
      "image/png": "[encoded data removed]",
      "text/plain": [
       "<Figure size 640x480 with 1 Axes>"
      ]
     },
     "metadata": {},
     "output_type": "display_data"
    }
   ],
   "source": [
    "# Plotando também a acurácia\n",
    "plt.plot(r.history['accuracy'], label='accuracy')\n",
    "plt.plot(r.history['val_accuracy'], label='val_accuracy')\n",
    "plt.legend()\n",
    "plt.show()"
   ]
  }
 ],
 "metadata": {
  "interpreter": {
   "hash": "112989f40982219f9c2133127490be09f86560db102a13a350eb86b01002b443"
  },
  "kernelspec": {
   "display_name": "Python 3.9.7 ('base')",
   "language": "python",
   "name": "python3"
  },
  "language_info": {
   "codemirror_mode": {
    "name": "ipython",
    "version": 3
   },
   "file_extension": ".py",
   "mimetype": "text/x-python",
   "name": "python",
   "nbconvert_exporter": "python",
   "pygments_lexer": "ipython3",
   "version": "3.9.7"
  },
  "orig_nbformat": 4
 },
 "nbformat": 4,
 "nbformat_minor": 2
}
