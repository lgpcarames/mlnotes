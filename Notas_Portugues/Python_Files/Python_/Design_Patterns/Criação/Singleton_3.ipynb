{
 "cells": [
  {
   "cell_type": "markdown",
   "id": "026e7699",
   "metadata": {},
   "source": [
    "# Singleton 3\n",
    "\n",
    "Utilizando uma metaclasse"
   ]
  },
  {
   "cell_type": "code",
   "execution_count": 2,
   "id": "65a318f8",
   "metadata": {},
   "outputs": [
    {
     "name": "stdout",
     "output_type": "stream",
     "text": [
      "CALL é executado\n",
      "NEW é executado primeiro\n",
      "INIT é executado\n",
      "Call chamado Luiz 4\n",
      "Luiz\n"
     ]
    }
   ],
   "source": [
    "class Meta(type):\n",
    "    def __call__(cls, *args, **kwargs):\n",
    "        print('CALL é executado')\n",
    "        return super().__call__(*args, **kwargs)\n",
    "    \n",
    "    \n",
    "class Pessoa(metaclass=Meta):\n",
    "    def __new__(cls, *args, **kwargs):\n",
    "        print('NEW é executado primeiro')\n",
    "        return super().__new__(cls)\n",
    "    \n",
    "    def __init__(self, nome):\n",
    "        print('INIT é executado')\n",
    "        self.nome = nome\n",
    "    \n",
    "    def __call__(self, x, y):\n",
    "        print('Call chamado', self.nome, x+y)\n",
    "        \n",
    "        \n",
    "        \n",
    "p1 = Pessoa('Luiz')\n",
    "p1(2,2)\n",
    "print(p1.nome)"
   ]
  },
  {
   "cell_type": "markdown",
   "id": "27faacc4",
   "metadata": {},
   "source": [
    "Numa metaclass, o método call é chamado antes do construtor da classe instanciada. Isso pode ser utilizado como uma maneira de criar singletons\n"
   ]
  },
  {
   "cell_type": "code",
   "execution_count": 4,
   "id": "30b39d70",
   "metadata": {},
   "outputs": [],
   "source": [
    "class Singleton(type):\n",
    "    _instances: dict = {}\n",
    "    \n",
    "    def __call__(cls, *args, **kwargs):\n",
    "        if cls not in cls._instances:\n",
    "            cls._instances[cls] = super().__call__(*args, **kwargs)\n",
    "        return cls._instances[cls]\n",
    "    \n",
    "    \n",
    "class AppSettings(metaclass=Singleton):\n",
    "    def __init__(self):\n",
    "        self.tema = 'Tema escuro'\n",
    "        self.font = '18px'"
   ]
  },
  {
   "cell_type": "code",
   "execution_count": 5,
   "id": "ef1b4ba3",
   "metadata": {},
   "outputs": [
    {
     "name": "stdout",
     "output_type": "stream",
     "text": [
      "Tema claro\n",
      "Tema claro\n",
      "Tema claro\n"
     ]
    }
   ],
   "source": [
    "as1 = AppSettings()\n",
    "as1.tema = 'Tema claro'\n",
    "print(as1.tema)\n",
    "\n",
    "\n",
    "as2 = AppSettings()\n",
    "print(as1.tema)\n",
    "print(as2.tema)"
   ]
  }
 ],
 "metadata": {
  "kernelspec": {
   "display_name": "Python 3 (ipykernel)",
   "language": "python",
   "name": "python3"
  },
  "language_info": {
   "codemirror_mode": {
    "name": "ipython",
    "version": 3
   },
   "file_extension": ".py",
   "mimetype": "text/x-python",
   "name": "python",
   "nbconvert_exporter": "python",
   "pygments_lexer": "ipython3",
   "version": "3.9.7"
  }
 },
 "nbformat": 4,
 "nbformat_minor": 5
}
