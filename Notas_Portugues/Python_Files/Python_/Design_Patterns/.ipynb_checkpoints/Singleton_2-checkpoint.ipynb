{
 "cells": [
  {
   "cell_type": "markdown",
   "id": "2d141385",
   "metadata": {},
   "source": [
    "# Singleton 2\n",
    "Para lidar com o problema apresentado na primeira aula, podemos utilizar a função de um decorador"
   ]
  },
  {
   "cell_type": "code",
   "execution_count": 17,
   "id": "bc584c1b",
   "metadata": {},
   "outputs": [],
   "source": [
    "def singleton(the_class):\n",
    "    instances = {}\n",
    "    def get_class(*args, **kwargs):\n",
    "        if the_class not in instances:\n",
    "            instances[the_class] = the_class(*args, **kwargs)\n",
    "        return instances[the_class]\n",
    "    return get_class"
   ]
  },
  {
   "cell_type": "code",
   "execution_count": 18,
   "id": "1d057584",
   "metadata": {},
   "outputs": [],
   "source": [
    "@singleton\n",
    "class AppSettings:\n",
    "#     _instance = None\n",
    "    \n",
    "#     def __new__(cls, *args, **kwargs):\n",
    "#         if not cls._instance:\n",
    "#             cls._instance = super().__new__(cls, *args, **kwargs)\n",
    "#         return cls._instance\n",
    "    \n",
    "    def __init__(self):\n",
    "        self.tema = 'Tema Escuro'\n",
    "        self.font = '18px'"
   ]
  },
  {
   "cell_type": "code",
   "execution_count": 19,
   "id": "5656cd2d",
   "metadata": {},
   "outputs": [
    {
     "name": "stdout",
     "output_type": "stream",
     "text": [
      "Tema Claro\n",
      "Tema Claro\n",
      "<__main__.AppSettings object at 0x7f547a419df0> <__main__.AppSettings object at 0x7f547a419df0>\n"
     ]
    }
   ],
   "source": [
    "as1 = AppSettings()\n",
    "as1.tema = 'Tema Claro'\n",
    "print(as1.tema)\n",
    "\n",
    "as2 = AppSettings()\n",
    "print(as1.tema)\n",
    "\n",
    "print(as1, as2)"
   ]
  }
 ],
 "metadata": {
  "kernelspec": {
   "display_name": "Python 3 (ipykernel)",
   "language": "python",
   "name": "python3"
  },
  "language_info": {
   "codemirror_mode": {
    "name": "ipython",
    "version": 3
   },
   "file_extension": ".py",
   "mimetype": "text/x-python",
   "name": "python",
   "nbconvert_exporter": "python",
   "pygments_lexer": "ipython3",
   "version": "3.9.7"
  }
 },
 "nbformat": 4,
 "nbformat_minor": 5
}
