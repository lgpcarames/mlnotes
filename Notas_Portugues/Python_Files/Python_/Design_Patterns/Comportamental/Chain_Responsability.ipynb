{
 "cells": [
  {
   "cell_type": "markdown",
   "metadata": {},
   "source": [
    "# Chain of Responsability (COR)\n",
    "É um padrão comportamental que tem a intenção de evitar o acoplamento do remetente de uma solicitação ao seu receptor, ao dar a mais de um objeto a oportunidade de tratar a solicitação. Encadear os objetos receptores passando a solicitação ao longo da cadeia até que um objeto a trate."
   ]
  },
  {
   "cell_type": "markdown",
   "metadata": {},
   "source": [
    "## Implementando com funções"
   ]
  },
  {
   "cell_type": "code",
   "execution_count": 1,
   "metadata": {},
   "outputs": [],
   "source": [
    "from __future__ import annotations\n",
    "\n",
    "def handler_ABC(letter: str) -> str:\n",
    "    letters = ['A', 'B', 'C']\n",
    "\n",
    "    if letter in letters:\n",
    "        return f'handler_abc: conseguiu tratar o valor da {letter}'\n",
    "    return handler_DEF(letter)\n",
    "\n",
    "\n",
    "def handler_DEF(letter: str) -> str:\n",
    "    letters = ['D', 'E', 'F']\n",
    "\n",
    "    if letter in letters:\n",
    "        return f'handler_def: conseguiu tratar o valor da {letter}'\n",
    "    return handler_unsolved(letter)\n",
    "\n",
    "\n",
    "def handler_unsolved(letter: str) -> str:\n",
    "    return f'handler_unsolved: não conseguiu tratar o valor da {letter}'"
   ]
  },
  {
   "cell_type": "code",
   "execution_count": 9,
   "metadata": {},
   "outputs": [
    {
     "name": "stdout",
     "output_type": "stream",
     "text": [
      "handler_def: conseguiu tratar o valor da D\n"
     ]
    }
   ],
   "source": [
    "print(handler_ABC('D'))"
   ]
  },
  {
   "cell_type": "markdown",
   "metadata": {},
   "source": [
    "## Implementando o Padrão de Projeto"
   ]
  },
  {
   "cell_type": "code",
   "execution_count": 14,
   "metadata": {},
   "outputs": [],
   "source": [
    "from abc import ABC, abstractmethod\n",
    "\n",
    "class Handler(ABC):\n",
    "    def __init__(self) -> None:\n",
    "        self.sucessor: Handler\n",
    "\n",
    "    @abstractmethod\n",
    "    def handle(self, letter: str) -> str: pass\n",
    "\n",
    "class HandlerABC(Handler):\n",
    "    def __init__(self, sucessor: Handler) -> None:\n",
    "        self.letters = ['A', 'B', 'C']\n",
    "        self.sucessor = sucessor\n",
    "\n",
    "    def handle(self, letter: str) -> str:\n",
    "        if letter in self.letters:\n",
    "            return f'HandlerABC: conseguiu tratar o valor da {letter}'\n",
    "        \n",
    "        return self.sucessor.handle(letter)\n",
    "\n",
    "\n",
    "class HandlerDEF(Handler):\n",
    "    def __init__(self, sucessor: Handler) -> None:\n",
    "        self.letters = ['D', 'E', 'F']\n",
    "        self.sucessor = sucessor\n",
    "\n",
    "    def handle(self, letter: str) -> str:\n",
    "        if letter in self.letters:\n",
    "            return f'HandlerDEF: conseguiu tratar o valor da {letter}'\n",
    "        return self.sucessor.handle(letter)\n",
    "\n",
    "\n",
    "class HandlerUnsolved(Handler):\n",
    "    def handle(self, letter: str) -> str:\n",
    "        return f'HandlerUnsolved: não conseguiu tratar o valor da {letter}'"
   ]
  },
  {
   "cell_type": "code",
   "execution_count": 18,
   "metadata": {},
   "outputs": [
    {
     "name": "stdout",
     "output_type": "stream",
     "text": [
      "HandlerABC: conseguiu tratar o valor da A\n",
      "HandlerABC: conseguiu tratar o valor da B\n",
      "HandlerABC: conseguiu tratar o valor da C\n",
      "\n",
      "HandlerDEF: conseguiu tratar o valor da D\n",
      "HandlerDEF: conseguiu tratar o valor da E\n",
      "HandlerDEF: conseguiu tratar o valor da F\n",
      "\n",
      "HandlerUnsolved: não conseguiu tratar o valor da G\n",
      "HandlerUnsolved: não conseguiu tratar o valor da H\n",
      "HandlerUnsolved: não conseguiu tratar o valor da I\n"
     ]
    }
   ],
   "source": [
    "handler_unsolved = HandlerUnsolved()\n",
    "\n",
    "handler_def = HandlerDEF(handler_unsolved)\n",
    "\n",
    "handler_abc = HandlerABC(handler_def)\n",
    "\n",
    "\n",
    "print(handler_abc.handle('A'))\n",
    "print(handler_abc.handle('B'))\n",
    "print(handler_abc.handle('C'))\n",
    "\n",
    "print()\n",
    "\n",
    "print(handler_abc.handle('D'))\n",
    "print(handler_abc.handle('E'))\n",
    "print(handler_abc.handle('F'))\n",
    "\n",
    "print()\n",
    "\n",
    "print(handler_abc.handle('G'))\n",
    "print(handler_abc.handle('H'))\n",
    "print(handler_abc.handle('I'))"
   ]
  }
 ],
 "metadata": {
  "interpreter": {
   "hash": "112989f40982219f9c2133127490be09f86560db102a13a350eb86b01002b443"
  },
  "kernelspec": {
   "display_name": "Python 3.9.7 ('base')",
   "language": "python",
   "name": "python3"
  },
  "language_info": {
   "codemirror_mode": {
    "name": "ipython",
    "version": 3
   },
   "file_extension": ".py",
   "mimetype": "text/x-python",
   "name": "python",
   "nbconvert_exporter": "python",
   "pygments_lexer": "ipython3",
   "version": "3.9.7"
  },
  "orig_nbformat": 4
 },
 "nbformat": 4,
 "nbformat_minor": 2
}
