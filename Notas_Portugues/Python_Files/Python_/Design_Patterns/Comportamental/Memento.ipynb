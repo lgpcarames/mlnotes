{
 "cells": [
  {
   "cell_type": "markdown",
   "metadata": {},
   "source": [
    "# Memento\n",
    "Memento é um padrão de projeto comportamental que tem a intenção de permitir que você salve e restaure um estado anterior de um objeto originator sem revelar os detallhes da sua implementação e sem violar o encapsulamento.\n",
    "\n",
    "Originator é o objeto que deseja salvar seu estado.\n",
    "Memento é usado para salvar o estado do Originator.\n",
    "Caretaker é usado para armazenar mementos.\n",
    "Caretaker também é usado com o padrão command."
   ]
  },
  {
   "cell_type": "code",
   "execution_count": 5,
   "metadata": {},
   "outputs": [],
   "source": [
    "from __future__ import annotations\n",
    "from typing import Dict, List\n",
    "from copy import deepcopy\n",
    "\n",
    "class Memento:\n",
    "    def __init__(self, state: Dict) -> None:\n",
    "        self._state: Dict\n",
    "        super().__setattr__('_state', state)\n",
    "\n",
    "    def get_state(self) -> Dict:\n",
    "        return self._state\n",
    "\n",
    "    def __setattr__(self, name, value):\n",
    "        raise AttributeError('Memento is immutable')\n",
    "\n",
    "\n",
    "class ImageEditor:\n",
    "    def __init__(self, name: str, width: int, height: int) -> None:\n",
    "        self.name = name\n",
    "        self.width = width\n",
    "        self.height = height\n",
    "\n",
    "    def save_state(self) -> Memento:\n",
    "        return Memento(deepcopy(self.__dict__))\n",
    "\n",
    "    def restore(self, memento: Memento) -> None:\n",
    "        self.__dict__ = memento.get_state()\n",
    "\n",
    "    def __str__(self) -> str:\n",
    "        return f'{self.__class__.__name__}({self.__dict__})'\n",
    "\n",
    "class Caretaker:\n",
    "    def __init__(self, originator: ImageEditor):\n",
    "        self._originator = originator\n",
    "        self._mementos: List[Memento] = []\n",
    "\n",
    "    \n",
    "    def backup(self) -> None:\n",
    "        self._mementos.append(self._originator.save_state())\n",
    "\n",
    "\n",
    "    def restore(self) -> None:\n",
    "        if not self._mementos:\n",
    "            return\n",
    "        self._originator.restore(self._mementos.pop())"
   ]
  },
  {
   "cell_type": "code",
   "execution_count": 16,
   "metadata": {},
   "outputs": [
    {
     "name": "stdout",
     "output_type": "stream",
     "text": [
      "ImageEditor({'name': 'Foto_4.jpg', 'width': 444, 'height': 444})\n",
      "\n",
      "ImageEditor({'name': 'Foto_3.jpg', 'width': 333, 'height': 333})\n",
      "ImageEditor({'name': 'Foto_2.jpg', 'width': 222, 'height': 222})\n",
      "ImageEditor({'name': 'Foto_1.jpg', 'width': 111, 'height': 111})\n",
      "ImageEditor({'name': 'Foto_1.jpg', 'width': 111, 'height': 111})\n",
      "ImageEditor({'name': 'Foto_1.jpg', 'width': 111, 'height': 111})\n"
     ]
    }
   ],
   "source": [
    "img = ImageEditor('Foto_1.jpg', 111, 111)\n",
    "\n",
    "caretaker = Caretaker(img)\n",
    "\n",
    "caretaker.backup()\n",
    "\n",
    "img.name = 'Foto_2.jpg'\n",
    "img.width = 222\n",
    "img.height = 222\n",
    "caretaker.backup()\n",
    "\n",
    "\n",
    "img.name = 'Foto_3.jpg'\n",
    "img.width = 333\n",
    "img.height = 333\n",
    "caretaker.backup()\n",
    "\n",
    "img.name = 'Foto_4.jpg'\n",
    "img.width = 444\n",
    "img.height = 444\n",
    "# caretaker.backup()\n",
    "\n",
    "print(img)\n",
    "\n",
    "print()\n",
    "\n",
    "caretaker.restore()\n",
    "\n",
    "print(img)\n",
    "\n",
    "caretaker.restore()\n",
    "\n",
    "print(img)\n",
    "\n",
    "caretaker.restore()\n",
    "\n",
    "print(img)\n",
    "\n",
    "caretaker.restore()\n",
    "\n",
    "print(img)\n",
    "\n",
    "caretaker.restore()\n",
    "\n",
    "print(img)\n",
    "\n"
   ]
  }
 ],
 "metadata": {
  "interpreter": {
   "hash": "112989f40982219f9c2133127490be09f86560db102a13a350eb86b01002b443"
  },
  "kernelspec": {
   "display_name": "Python 3.9.7 ('base')",
   "language": "python",
   "name": "python3"
  },
  "language_info": {
   "codemirror_mode": {
    "name": "ipython",
    "version": 3
   },
   "file_extension": ".py",
   "mimetype": "text/x-python",
   "name": "python",
   "nbconvert_exporter": "python",
   "pygments_lexer": "ipython3",
   "version": "3.9.7"
  },
  "orig_nbformat": 4
 },
 "nbformat": 4,
 "nbformat_minor": 2
}
