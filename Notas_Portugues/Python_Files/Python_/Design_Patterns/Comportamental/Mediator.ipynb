{
 "cells": [
  {
   "cell_type": "markdown",
   "metadata": {},
   "source": [
    "# Mediator\n",
    "Mediator é um padrão de projeto comportamental que tem a intenção de definir um objeto que encapsula a forma como um conjunto de objetos interage. O mediator promove o baixo acoplamento ao evitar que os objetos se refiram uns aos outros explicitamente e permite varias suas interações independentemente."
   ]
  },
  {
   "cell_type": "code",
   "execution_count": 8,
   "metadata": {},
   "outputs": [],
   "source": [
    "from abc import ABC, abstractmethod\n",
    "from __future__ import annotations\n",
    "from typing import List\n",
    "\n",
    "class Colleague(ABC):\n",
    "    def __init__(self):\n",
    "        self.name: str\n",
    "\n",
    "    @abstractmethod\n",
    "    def broadcast(self, msg: str) -> None: pass\n",
    "\n",
    "    @abstractmethod\n",
    "    def direct(self, msg: str) -> None: pass\n",
    "\n",
    "\n",
    "class Person(Colleague):\n",
    "    def __init__(self, name: str, mediator: Mediator) -> None:\n",
    "        self.name = name\n",
    "        self.mediator = mediator\n",
    "\n",
    "\n",
    "    def broadcast(self, msg: str) -> None:\n",
    "        self.mediator.broadcast(self, msg)\n",
    "\n",
    "\n",
    "    def send_direct(self, receiver: str, msg: str) -> None:\n",
    "        self.mediator.direct(self, receiver, msg)\n",
    "\n",
    "    def direct(self, msg: str) -> None:\n",
    "        print(msg)\n",
    "\n",
    "\n",
    "\n",
    "class Mediator(ABC):\n",
    "    @abstractmethod\n",
    "    def broadcast(self, person: Colleague, msg: str) -> None: pass\n",
    "\n",
    "\n",
    "    @abstractmethod\n",
    "    def direct(self, sender: Colleague, receiver: str, msg: str) -> None: pass\n",
    "\n",
    "\n",
    "class ChatRoom(Mediator):\n",
    "    def __init__(self) -> None:\n",
    "        self.colleagues: List[Colleague] = []\n",
    "\n",
    "\n",
    "    def is_colleague(self, colleague: Colleague) -> bool:\n",
    "        return colleague in self.colleagues\n",
    "\n",
    "    def add(self, colleague: Colleague) -> None:\n",
    "        if not self.is_colleague(colleague):\n",
    "            self.colleagues.append(colleague)\n",
    "\n",
    "    def remove(self, colleague: Colleague) -> None:\n",
    "        if self.is_colleague(colleague):\n",
    "            self.colleagues.remove(colleague)\n",
    "\n",
    "\n",
    "    def broadcast(self, colleague: Colleague, msg: str) -> None:\n",
    "        if not self.is_colleague(colleague):\n",
    "            return \n",
    "        \n",
    "        print(f'{colleague.name} disse: {msg}')\n",
    "\n",
    "\n",
    "    def direct(self, sender: Colleague, receiver: str, msg: str) -> None:\n",
    "        if not self.is_colleague(sender):\n",
    "            return\n",
    "        \n",
    "        receiver_obj: List[Colleague] = [\n",
    "            colleague for colleague in self.colleagues\n",
    "            if colleague.name == receiver\n",
    "        ]\n",
    "\n",
    "        if not receiver_obj:\n",
    "            return\n",
    "        \n",
    "        receiver_obj[0].direct(\n",
    "            f'{sender.name} para {receiver_obj[0].name}: {msg}'\n",
    "        )"
   ]
  },
  {
   "cell_type": "code",
   "execution_count": 12,
   "metadata": {},
   "outputs": [
    {
     "name": "stdout",
     "output_type": "stream",
     "text": [
      "João disse: Olá pessoas!\n",
      "Maria disse: Fala, Beleza?\n",
      "José disse: Eu não fui adicionado ao chat...\n",
      "Testando os Directs\n",
      "João para Maria: Oi Maria, tudo bem?\n",
      "Maria para João: Bem e você?\n"
     ]
    }
   ],
   "source": [
    "chat = ChatRoom()\n",
    "\n",
    "joao = Person('João', chat)\n",
    "maria = Person('Maria', chat)\n",
    "elis = Person('Elis', chat)\n",
    "jose = Person('José', chat)\n",
    "\n",
    "chat.add(joao)\n",
    "chat.add(maria)\n",
    "chat.add(elis)\n",
    "chat.add(jose)\n",
    "\n",
    "joao.broadcast('Olá pessoas!')\n",
    "maria.broadcast('Fala, Beleza?')\n",
    "\n",
    "jose.broadcast('Eu não fui adicionado ao chat...')\n",
    "\n",
    "print('Testando os Directs')\n",
    "\n",
    "joao.send_direct('Maria', 'Oi Maria, tudo bem?')\n",
    "\n",
    "maria.send_direct('João', 'Bem e você?')"
   ]
  }
 ],
 "metadata": {
  "interpreter": {
   "hash": "112989f40982219f9c2133127490be09f86560db102a13a350eb86b01002b443"
  },
  "kernelspec": {
   "display_name": "Python 3.9.7 ('base')",
   "language": "python",
   "name": "python3"
  },
  "language_info": {
   "codemirror_mode": {
    "name": "ipython",
    "version": 3
   },
   "file_extension": ".py",
   "mimetype": "text/x-python",
   "name": "python",
   "nbconvert_exporter": "python",
   "pygments_lexer": "ipython3",
   "version": "3.9.7"
  },
  "orig_nbformat": 4
 },
 "nbformat": 4,
 "nbformat_minor": 2
}
