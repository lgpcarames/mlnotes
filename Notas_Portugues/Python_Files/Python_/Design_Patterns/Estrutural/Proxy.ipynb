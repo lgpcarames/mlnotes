{
 "cells": [
  {
   "cell_type": "markdown",
   "metadata": {},
   "source": [
    "# Proxy\n",
    "O Proxy é um padrão de projeto estrutural que tem a intenção de fornecer um objeto substituto que atua como se fosse o objeto real que o código cliente gostaria de usar.\n",
    "O proxy receberá as solicitações e terá acontrole sobre como e quando repassar tais solicitações ao objeto real.\n",
    "\n",
    "Com base no modo como os proxies são usados, nós os classificamos como:\n",
    "\n",
    "- Proxy Virtual: controla o acesso a recursos que podem ser caros para criação ou utilização.\n",
    "- Proxy Remoto: controla o acesso a recursos que estão em servidores remotos.\n",
    "- Proxy de Proteção: controla o acesso a recursos que possam necessitar de autenticação ou permissão.\n",
    "- Proxy Inteligente: além de controlar acesso ao objeto real, também executa tarefas adicionais para saber quando e como executar determinadas ações.\n",
    "\n",
    "Proxies podem fazer várias coisas diferentes: criar logs, autenticar usuários, distribuir serviços, criar cache, criar e destruir objetos, adiar execuções e muito mais..."
   ]
  },
  {
   "cell_type": "code",
   "execution_count": 1,
   "metadata": {},
   "outputs": [],
   "source": [
    "from __future__ import annotations\n",
    "from abc import ABC, abstractmethod\n",
    "from time import sleep\n",
    "from typing import List, Dict\n",
    "\n",
    "\n",
    "class IUser(ABC): \n",
    "  \"\"\" Subject Interface \"\"\"\n",
    "  firstname: str\n",
    "  lastname: str\n",
    "\n",
    "  @abstractmethod\n",
    "  def get_addresses(self) -> List[Dict]: pass\n",
    "\n",
    "  @abstractmethod\n",
    "  def get_all_user_data(self) -> Dict: pass\n",
    "\n",
    "\n",
    "class RealUser(IUser):\n",
    "  \"\"\" Real Subject \"\"\"\n",
    "  def __init__(self, firstname: str, lastname: str) -> None:\n",
    "    sleep(2) # Simulando requisição\n",
    "    self.firstname = firstname\n",
    "    self.lastname = lastname\n",
    "\n",
    "  \n",
    "  def get_addresses(self) -> List[Dict]:\n",
    "    sleep(2) # Simulando requisição\n",
    "    return [{'rua': 'Av. Brasil' , 'numero': 500}]\n",
    "  \n",
    "  def get_all_user_data(self) -> Dict:\n",
    "    sleep(2) # Simulando requisição\n",
    "    return {'cpf': '111.111.111-11', 'rg': '7777777'}\n",
    "\n",
    "\n",
    "class UserProxy(IUser):\n",
    "  \"\"\" Proxy \"\"\"\n",
    "  def __init__(self, firstname: str, lastname: str) -> None:\n",
    "    self.firstname = firstname\n",
    "    self.lastname = lastname\n",
    "\n",
    "    # Estes objetos ainda não existem neste ponto do código\n",
    "    self._real_user : RealUser\n",
    "    self._cached_addresses : List[Dict]\n",
    "    self._all_user_data: Dict\n",
    "\n",
    "  def get_real_user(self) -> None:\n",
    "    if not hasattr(self, '_real_user'):\n",
    "      self._real_user = RealUser(self.firstname, self.lastname)\n",
    "\n",
    "  \n",
    "\n",
    "  def get_addresses(self) -> List[Dict]:\n",
    "    self.get_real_user()\n",
    "    if not hasattr(self, '_cached_addresses'):\n",
    "      self._cached_addresses = self._real_user.get_addresses()\n",
    "\n",
    "    return self._cached_addresses\n",
    "\n",
    "  def get_all_user_data(self) -> Dict:\n",
    "    self.get_real_user()\n",
    "\n",
    "    if not hasattr(self, '_all_user_data'):\n",
    "      self._all_user_data = self._real_user.get_all_user_data()\n",
    "\n",
    "    return self._all_user_data"
   ]
  },
  {
   "cell_type": "code",
   "execution_count": 3,
   "metadata": {},
   "outputs": [
    {
     "name": "stdout",
     "output_type": "stream",
     "text": [
      "Lucas\n",
      "Carames\n"
     ]
    }
   ],
   "source": [
    "user = UserProxy('Lucas', 'Carames')\n",
    "print(user.firstname)\n",
    "print(user.lastname)"
   ]
  },
  {
   "cell_type": "code",
   "execution_count": 5,
   "metadata": {},
   "outputs": [
    {
     "name": "stdout",
     "output_type": "stream",
     "text": [
      "{'cpf': '111.111.111-11', 'rg': '7777777'}\n",
      "[{'rua': 'Av. Brasil', 'numero': 500}]\n"
     ]
    }
   ],
   "source": [
    "# demora 6 segundos\n",
    "print(user.get_all_user_data())\n",
    "print(user.get_addresses())"
   ]
  },
  {
   "cell_type": "code",
   "execution_count": 6,
   "metadata": {},
   "outputs": [
    {
     "name": "stdout",
     "output_type": "stream",
     "text": [
      "Cached data:\n",
      "\n",
      "[{'rua': 'Av. Brasil', 'numero': 500}]\n",
      "[{'rua': 'Av. Brasil', 'numero': 500}]\n",
      "[{'rua': 'Av. Brasil', 'numero': 500}]\n",
      "[{'rua': 'Av. Brasil', 'numero': 500}]\n",
      "[{'rua': 'Av. Brasil', 'numero': 500}]\n",
      "[{'rua': 'Av. Brasil', 'numero': 500}]\n",
      "[{'rua': 'Av. Brasil', 'numero': 500}]\n",
      "[{'rua': 'Av. Brasil', 'numero': 500}]\n",
      "[{'rua': 'Av. Brasil', 'numero': 500}]\n",
      "[{'rua': 'Av. Brasil', 'numero': 500}]\n",
      "[{'rua': 'Av. Brasil', 'numero': 500}]\n",
      "[{'rua': 'Av. Brasil', 'numero': 500}]\n",
      "[{'rua': 'Av. Brasil', 'numero': 500}]\n",
      "[{'rua': 'Av. Brasil', 'numero': 500}]\n",
      "[{'rua': 'Av. Brasil', 'numero': 500}]\n",
      "[{'rua': 'Av. Brasil', 'numero': 500}]\n",
      "[{'rua': 'Av. Brasil', 'numero': 500}]\n",
      "[{'rua': 'Av. Brasil', 'numero': 500}]\n",
      "[{'rua': 'Av. Brasil', 'numero': 500}]\n",
      "[{'rua': 'Av. Brasil', 'numero': 500}]\n",
      "[{'rua': 'Av. Brasil', 'numero': 500}]\n",
      "[{'rua': 'Av. Brasil', 'numero': 500}]\n",
      "[{'rua': 'Av. Brasil', 'numero': 500}]\n",
      "[{'rua': 'Av. Brasil', 'numero': 500}]\n",
      "[{'rua': 'Av. Brasil', 'numero': 500}]\n",
      "[{'rua': 'Av. Brasil', 'numero': 500}]\n",
      "[{'rua': 'Av. Brasil', 'numero': 500}]\n",
      "[{'rua': 'Av. Brasil', 'numero': 500}]\n",
      "[{'rua': 'Av. Brasil', 'numero': 500}]\n",
      "[{'rua': 'Av. Brasil', 'numero': 500}]\n",
      "[{'rua': 'Av. Brasil', 'numero': 500}]\n",
      "[{'rua': 'Av. Brasil', 'numero': 500}]\n",
      "[{'rua': 'Av. Brasil', 'numero': 500}]\n",
      "[{'rua': 'Av. Brasil', 'numero': 500}]\n",
      "[{'rua': 'Av. Brasil', 'numero': 500}]\n",
      "[{'rua': 'Av. Brasil', 'numero': 500}]\n",
      "[{'rua': 'Av. Brasil', 'numero': 500}]\n",
      "[{'rua': 'Av. Brasil', 'numero': 500}]\n",
      "[{'rua': 'Av. Brasil', 'numero': 500}]\n",
      "[{'rua': 'Av. Brasil', 'numero': 500}]\n",
      "[{'rua': 'Av. Brasil', 'numero': 500}]\n",
      "[{'rua': 'Av. Brasil', 'numero': 500}]\n",
      "[{'rua': 'Av. Brasil', 'numero': 500}]\n",
      "[{'rua': 'Av. Brasil', 'numero': 500}]\n",
      "[{'rua': 'Av. Brasil', 'numero': 500}]\n",
      "[{'rua': 'Av. Brasil', 'numero': 500}]\n",
      "[{'rua': 'Av. Brasil', 'numero': 500}]\n",
      "[{'rua': 'Av. Brasil', 'numero': 500}]\n",
      "[{'rua': 'Av. Brasil', 'numero': 500}]\n",
      "[{'rua': 'Av. Brasil', 'numero': 500}]\n"
     ]
    }
   ],
   "source": [
    "# responde instantenamente\n",
    "\n",
    "print('Cached data:\\n')\n",
    "for i in range(50):\n",
    "  print(user.get_addresses())"
   ]
  }
 ],
 "metadata": {
  "interpreter": {
   "hash": "c99ec3b06bb2b7a9ce1cfef1038d6bd1f5e5eb8cf3fb3cc6612960f8106f6dac"
  },
  "kernelspec": {
   "display_name": "Python 3.8.5 ('base')",
   "language": "python",
   "name": "python3"
  },
  "language_info": {
   "codemirror_mode": {
    "name": "ipython",
    "version": 3
   },
   "file_extension": ".py",
   "mimetype": "text/x-python",
   "name": "python",
   "nbconvert_exporter": "python",
   "pygments_lexer": "ipython3",
   "version": "3.8.5"
  },
  "orig_nbformat": 4
 },
 "nbformat": 4,
 "nbformat_minor": 2
}
