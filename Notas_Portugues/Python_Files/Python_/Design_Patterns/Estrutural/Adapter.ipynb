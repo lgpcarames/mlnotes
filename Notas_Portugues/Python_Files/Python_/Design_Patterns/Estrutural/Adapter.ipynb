{
 "cells": [
  {
   "cell_type": "markdown",
   "metadata": {},
   "source": [
    "# Adapter\n",
    "Adapter é um padrão de projeto estrutural que tem a intenção de permitir que duas classes que seriam incompatíveis trabalhem em conjunto através de um \"adaptador\"."
   ]
  },
  {
   "cell_type": "code",
   "execution_count": 3,
   "metadata": {},
   "outputs": [],
   "source": [
    "from abc import ABC, abstractmethod"
   ]
  },
  {
   "cell_type": "code",
   "execution_count": 4,
   "metadata": {},
   "outputs": [],
   "source": [
    "# Interface\n",
    "\n",
    "class IControl(ABC):\n",
    "  @abstractmethod\n",
    "  def top(self) -> None: pass\n",
    "\n",
    "  @abstractmethod\n",
    "  def right(self) -> None: pass\n",
    "\n",
    "  @abstractmethod\n",
    "  def down(self) -> None: pass\n",
    "\n",
    "  @abstractmethod\n",
    "  def left(self) -> None: pass"
   ]
  },
  {
   "cell_type": "code",
   "execution_count": 5,
   "metadata": {},
   "outputs": [],
   "source": [
    "class Control(IControl):\n",
    "  def top(self) -> None:\n",
    "    print('movendo para cima...')\n",
    "\n",
    "\n",
    "  def right(self) -> None:\n",
    "    print('movendo para direita...')\n",
    "\n",
    "  def down(self) -> None:\n",
    "    print('movendo para baixo...')\n",
    "\n",
    "\n",
    "  def left(self) -> None:\n",
    "    print('movendo para esquerda...')"
   ]
  },
  {
   "cell_type": "code",
   "execution_count": 8,
   "metadata": {},
   "outputs": [
    {
     "name": "stdout",
     "output_type": "stream",
     "text": [
      "movendo para cima...\n",
      "movendo para direita...\n",
      "movendo para baixo...\n",
      "movendo para esquerda...\n"
     ]
    }
   ],
   "source": [
    "controle = Control()\n",
    "\n",
    "controle.top()\n",
    "controle.right()\n",
    "controle.down()\n",
    "controle.left()"
   ]
  },
  {
   "cell_type": "markdown",
   "metadata": {},
   "source": [
    "Supomos que a empresa, contrate uma outra empresa de controle, que possua uma interface, ou programa, com uma implementação que não seja compatível com a atual. "
   ]
  },
  {
   "cell_type": "code",
   "execution_count": 16,
   "metadata": {},
   "outputs": [],
   "source": [
    "class NewControl:\n",
    "  def move_top(self) -> None:\n",
    "    print('NewControl: movendo para cima...')\n",
    "\n",
    "  def move_right(self) -> None:\n",
    "    print('NewControl: movendo para direita...')\n",
    "\n",
    "  def move_down(self) -> None:\n",
    "    print('NewControl: movendo para baixo...')\n",
    "\n",
    "  def move_left(self) -> None:\n",
    "    print('NewControl: movendo para esquerda...')"
   ]
  },
  {
   "cell_type": "markdown",
   "metadata": {},
   "source": [
    "Agora devemos utilizar o controle da nova empresa, porém, todo o código escrito para a nossa aplicação é feito a partir dos métodos que o controle antigo disponibilizava. Como contornaremos essa situação?"
   ]
  },
  {
   "cell_type": "code",
   "execution_count": 12,
   "metadata": {},
   "outputs": [
    {
     "name": "stdout",
     "output_type": "stream",
     "text": [
      "Métodos incompatíveis com a classe NewControl\n"
     ]
    }
   ],
   "source": [
    "c1 = NewControl()\n",
    "try:\n",
    "  c1.top()\n",
    "  c1.right()\n",
    "  c1.left()\n",
    "  c1.down()\n",
    "except:\n",
    "  print(f'Métodos incompatíveis com a classe {c1.__class__.__name__}')"
   ]
  },
  {
   "cell_type": "markdown",
   "metadata": {},
   "source": [
    "Para isso, utilizaremos o padrão de projeto Adapter, que irá adaptar os métodos do novo controle, ao código da nossa aplicação que foi construída baseada nos métodos do controle antigo."
   ]
  },
  {
   "cell_type": "code",
   "execution_count": 17,
   "metadata": {},
   "outputs": [],
   "source": [
    "# Criando o Adapter a partir de uma Composição\n",
    "class ControlAdapter:\n",
    "  def __init__(self, new_control: NewControl) -> None:\n",
    "    self.new_control = new_control\n",
    "\n",
    "  def top(self) -> None:\n",
    "    self.new_control.move_top()\n",
    "  \n",
    "  def right(self) -> None:\n",
    "    self.new_control.move_right()\n",
    "\n",
    "  def down(self) -> None:\n",
    "    self.new_control.move_down()\n",
    "  \n",
    "  def left(self) -> None:\n",
    "    self.new_control.move_left()"
   ]
  },
  {
   "cell_type": "markdown",
   "metadata": {},
   "source": [
    "Agora em vez de instanciar o novo controle, agora, instanciamos o adaptador, que irá receber os métodos antigos, porém retornando as funcionalidades do novo controle."
   ]
  },
  {
   "cell_type": "code",
   "execution_count": 18,
   "metadata": {},
   "outputs": [
    {
     "name": "stdout",
     "output_type": "stream",
     "text": [
      "NewControl: movendo para cima...\n",
      "NewControl: movendo para direita...\n",
      "NewControl: movendo para esquerda...\n",
      "NewControl: movendo para baixo...\n"
     ]
    }
   ],
   "source": [
    "c1 = ControlAdapter(NewControl())\n",
    "\n",
    "c1.top()\n",
    "c1.right()\n",
    "c1.left()\n",
    "c1.down()"
   ]
  },
  {
   "cell_type": "markdown",
   "metadata": {},
   "source": [
    "Python também nos possibilita construir um adaptador a partir de heranças múltiplas, como podemos fazer a seguir."
   ]
  },
  {
   "cell_type": "code",
   "execution_count": 20,
   "metadata": {},
   "outputs": [],
   "source": [
    "class ControlAdapter2(Control, NewControl):\n",
    "  \n",
    "  def top(self) -> None:\n",
    "    self.move_top()\n",
    "\n",
    "  def right(self) -> None:\n",
    "    self.move_right()\n",
    "\n",
    "  def down(self) -> None:\n",
    "    self.move_down()\n",
    "\n",
    "  def left(self) -> None:\n",
    "    self.move_left()"
   ]
  },
  {
   "cell_type": "code",
   "execution_count": 21,
   "metadata": {},
   "outputs": [
    {
     "name": "stdout",
     "output_type": "stream",
     "text": [
      "NewControl: movendo para cima...\n",
      "NewControl: movendo para direita...\n",
      "NewControl: movendo para esquerda...\n",
      "NewControl: movendo para baixo...\n"
     ]
    }
   ],
   "source": [
    "c1 = ControlAdapter2()\n",
    "\n",
    "c1.top()\n",
    "c1.right()\n",
    "c1.left()\n",
    "c1.down()"
   ]
  }
 ],
 "metadata": {
  "interpreter": {
   "hash": "c99ec3b06bb2b7a9ce1cfef1038d6bd1f5e5eb8cf3fb3cc6612960f8106f6dac"
  },
  "kernelspec": {
   "display_name": "Python 3.8.5 ('base')",
   "language": "python",
   "name": "python3"
  },
  "language_info": {
   "codemirror_mode": {
    "name": "ipython",
    "version": 3
   },
   "file_extension": ".py",
   "mimetype": "text/x-python",
   "name": "python",
   "nbconvert_exporter": "python",
   "pygments_lexer": "ipython3",
   "version": "3.8.5"
  },
  "orig_nbformat": 4
 },
 "nbformat": 4,
 "nbformat_minor": 2
}
