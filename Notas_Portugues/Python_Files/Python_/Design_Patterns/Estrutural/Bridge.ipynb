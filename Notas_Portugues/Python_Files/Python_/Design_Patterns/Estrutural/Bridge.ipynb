{
 "cells": [
  {
   "cell_type": "markdown",
   "metadata": {},
   "source": [
    "# Bridge\n",
    "É um padrão de projeto estrutural que tem a intenção de desacoplar uma abstração da sua implementação, de modo que as duas possam variar e evolui independentemente.\n",
    "\n",
    "Abstração é uma camada de alto nível para algo. Geralmente, a abstração não faz nenhum trabalho por conta própria, ela delega parte ou todo o trabalho para a camada de implementação.\n",
    "\n",
    "RELEMBRANDO: Adapter é um padrão de projeto estrutural que tem a intenção de permitir que duas classes que seriam incompatíveis trabalhem em conjunto através de um \"adaptador\".\n",
    "\n",
    "Diferença (GOF pag. 208) - A diferença chave entre esses padrões está na suas intenções... O padrão Adapter faz as coisas funcionarem APÓS elas terem sido projetadas; o Bridge as faz funcionar ANTES QUE existam..."
   ]
  },
  {
   "cell_type": "code",
   "execution_count": 26,
   "metadata": {},
   "outputs": [],
   "source": [
    "from __future__ import annotations\n",
    "from abc import ABC, abstractmethod\n",
    "from typing import List, Dict\n",
    "\n",
    "class IRemoteControl(ABC):\n",
    "  @abstractmethod\n",
    "  def increase_volume(self) -> None: pass\n",
    "\n",
    "  @abstractmethod\n",
    "  def decrease_volume(self) -> None: pass\n",
    "\n",
    "  @abstractmethod\n",
    "  def power(self) -> None: pass\n",
    "\n",
    "\n",
    "class RemoteControl(IRemoteControl):\n",
    "  def __init__(self, device: IDevice) -> None:\n",
    "    self._device = device\n",
    "\n",
    "  def increase_volume(self) -> None:\n",
    "    self._device.volume += 10\n",
    "\n",
    "  \n",
    "  def decrease_volume(self) -> None:\n",
    "    self._device.volume -= 10\n",
    "\n",
    "  \n",
    "  def power(self) -> None:\n",
    "    self._device.power = not self._device.power\n",
    "\n",
    "\n",
    "class IDevice(ABC):\n",
    "  @property\n",
    "  @abstractmethod\n",
    "  def volume(self) -> int: pass\n",
    "\n",
    "  @volume.setter\n",
    "  def volume(self, volume: int) -> None: pass\n",
    "\n",
    "  @property\n",
    "  @abstractmethod\n",
    "  def power(self) -> bool: pass\n",
    "\n",
    "  @power.setter\n",
    "  def power(self, power: bool) -> None: pass\n",
    "\n",
    "\n",
    "class TV(IDevice):\n",
    "  def __init__(self) -> None:\n",
    "    self._volume = 10\n",
    "    self._power = False\n",
    "    self._name = self.__class__.__name__\n",
    "\n",
    "\n",
    "  @property\n",
    "  def volume(self) -> int:\n",
    "    return self._volume\n",
    "\n",
    "  @volume.setter\n",
    "  def volume(self, volume: int) -> None:\n",
    "    if not self.power:\n",
    "      print(f\"Por favor, ligue {self._name}.\")\n",
    "      return \n",
    "    \n",
    "    if volume > 100:\n",
    "      return\n",
    "    \n",
    "    if volume < 0:\n",
    "      return \n",
    "    \n",
    "    self._volume = volume\n",
    "    print(f'O volume agora é: {self._volume}')\n",
    "\n",
    "\n",
    "  @property\n",
    "  def power(self) -> bool:\n",
    "    return self._power\n",
    "\n",
    "\n",
    "  @power.setter\n",
    "  def power(self, power: bool) -> None:\n",
    "    self._power = power\n",
    "    power_status = 'Ligado' if self._power else 'Desligado'\n",
    "    print(f'{self._name} está {power_status}.')\n",
    "\n",
    "\n",
    "\n",
    "class Radio(TV):\n",
    "  ..."
   ]
  },
  {
   "cell_type": "code",
   "execution_count": 27,
   "metadata": {},
   "outputs": [
    {
     "name": "stdout",
     "output_type": "stream",
     "text": [
      "Por favor, ligue Radio.\n",
      "Radio está Ligado.\n",
      "O volume agora é: 20\n",
      "Radio está Desligado.\n",
      "Por favor, ligue Radio.\n"
     ]
    }
   ],
   "source": [
    "radio = Radio()\n",
    "\n",
    "remote = RemoteControl(radio)\n",
    "\n",
    "remote.increase_volume()\n",
    "remote.power()\n",
    "remote.increase_volume()\n",
    "remote.power()\n",
    "remote.increase_volume()"
   ]
  },
  {
   "cell_type": "code",
   "execution_count": 23,
   "metadata": {},
   "outputs": [
    {
     "name": "stdout",
     "output_type": "stream",
     "text": [
      "Por favor, ligue TV.\n",
      "TV está Ligado.\n",
      "O volume agora é: 20\n",
      "TV está Desligado.\n",
      "Por favor, ligue TV.\n"
     ]
    }
   ],
   "source": [
    "tv = TV()\n",
    "remote = RemoteControl(tv)\n",
    "\n",
    "\n",
    "remote.increase_volume()\n",
    "remote.power()\n",
    "remote.increase_volume()\n",
    "remote.power()\n",
    "remote.increase_volume()"
   ]
  }
 ],
 "metadata": {
  "interpreter": {
   "hash": "c99ec3b06bb2b7a9ce1cfef1038d6bd1f5e5eb8cf3fb3cc6612960f8106f6dac"
  },
  "kernelspec": {
   "display_name": "Python 3.8.5 ('base')",
   "language": "python",
   "name": "python3"
  },
  "language_info": {
   "codemirror_mode": {
    "name": "ipython",
    "version": 3
   },
   "file_extension": ".py",
   "mimetype": "text/x-python",
   "name": "python",
   "nbconvert_exporter": "python",
   "pygments_lexer": "ipython3",
   "version": "3.8.5"
  },
  "orig_nbformat": 4
 },
 "nbformat": 4,
 "nbformat_minor": 2
}
