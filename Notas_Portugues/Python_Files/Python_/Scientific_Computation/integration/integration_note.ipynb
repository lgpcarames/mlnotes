{
 "cells": [
  {
   "cell_type": "markdown",
   "metadata": {},
   "source": [
    "# Projeto Computacional"
   ]
  },
  {
   "cell_type": "markdown",
   "metadata": {},
   "source": [
    "## Bibliotecas"
   ]
  },
  {
   "cell_type": "code",
   "execution_count": 1,
   "metadata": {},
   "outputs": [],
   "source": [
    "import random\n",
    "\n",
    "import numpy as np\n",
    "from math import sqrt, pi, fabs\n",
    "from scipy.integrate import quad\n"
   ]
  },
  {
   "cell_type": "markdown",
   "metadata": {},
   "source": [
    "## Q. 1.\n",
    "Estime a integral pelo método do retângulo, trapézio, Simpson e Monte Carlo.\n",
    "\n",
    "<img src=\"figs/integral_05.png\">"
   ]
  },
  {
   "cell_type": "markdown",
   "metadata": {},
   "source": [
    "Primeiramente, vamos integrar utilizando o método do retângulo. Para isso, vamos definir a função de integração a partir do método do retângulo."
   ]
  },
  {
   "cell_type": "code",
   "execution_count": 2,
   "metadata": {},
   "outputs": [],
   "source": [
    "def retangulo_integration(f, a, b, n):\n",
    "    \"\"\"\n",
    "    Integração de uma função f no intervalo [a, b] com n subintervalos\n",
    "    \"\"\"\n",
    "    h = (b - a) / n\n",
    "    s = 0\n",
    "    for i in range(n):\n",
    "        s += f(a + i * h)\n",
    "    return s * h"
   ]
  },
  {
   "cell_type": "markdown",
   "metadata": {},
   "source": [
    "Agora, vamos criar a função que iremos integrar."
   ]
  },
  {
   "cell_type": "code",
   "execution_count": 3,
   "metadata": {},
   "outputs": [],
   "source": [
    "def exp_integration(x):\n",
    "    return np.exp(x**2)"
   ]
  },
  {
   "cell_type": "markdown",
   "metadata": {},
   "source": [
    "Agora, vamos estimar a integral pelo método do retângulo."
   ]
  },
  {
   "cell_type": "code",
   "execution_count": 30,
   "metadata": {},
   "outputs": [
    {
     "data": {
      "text/plain": [
       "1.4625658363462284"
      ]
     },
     "execution_count": 30,
     "metadata": {},
     "output_type": "execute_result"
    }
   ],
   "source": [
    "retangulo_integration(exp_integration, 0, 1, 10000)"
   ]
  },
  {
   "cell_type": "markdown",
   "metadata": {},
   "source": [
    "De maneira similar, vamos criar uma função para a integração com o método do trapézio."
   ]
  },
  {
   "cell_type": "code",
   "execution_count": 5,
   "metadata": {},
   "outputs": [],
   "source": [
    "def trapezio_integration(f, a, b, n):\n",
    "    \"\"\"\n",
    "    Integração de uma função f no intervalo [a, b] com n subintervalos\n",
    "    \"\"\"\n",
    "    h = (b - a) / (n-1)\n",
    "    s = (f(a) + f(b)) / 2\n",
    "    for i in range(2, n-1):\n",
    "        s += f(a + (i-1) * h)\n",
    "    return h*s"
   ]
  },
  {
   "cell_type": "markdown",
   "metadata": {},
   "source": [
    "Agora vamos estimar a integral da função pelo método do trapézio."
   ]
  },
  {
   "cell_type": "code",
   "execution_count": 31,
   "metadata": {},
   "outputs": [
    {
     "data": {
      "text/plain": [
       "1.4623799494385348"
      ]
     },
     "execution_count": 31,
     "metadata": {},
     "output_type": "execute_result"
    }
   ],
   "source": [
    "trapezio_integration(exp_integration, 0, 1, 10000)"
   ]
  },
  {
   "cell_type": "markdown",
   "metadata": {},
   "source": [
    "Agora vamos estimar a integral da função pelo método do Simpson."
   ]
  },
  {
   "cell_type": "code",
   "execution_count": 7,
   "metadata": {},
   "outputs": [],
   "source": [
    "def simpson_integration(f, a, b, n):\n",
    "    \"\"\"\n",
    "    Integração de uma função f no intervalo [a, b] com n subintervalos\n",
    "    \"\"\"\n",
    "    h = (b - a) / float(n)\n",
    "    soma1 = 0\n",
    "    for i in range(1, int(n/2)+1):\n",
    "      soma1 += f(a + (2*i-1) * h)\n",
    "\n",
    "    soma2 = 0\n",
    "\n",
    "    for i in range(1, int(n/2)):\n",
    "      soma2 += f(a + 2*i*h)\n",
    "    \n",
    "    somageral = (b-a)/(3.0*n)*(f(a) + f(b) + 4.0*soma1 + 2.0*soma2)\n",
    "\n",
    "    return somageral"
   ]
  },
  {
   "cell_type": "code",
   "execution_count": 32,
   "metadata": {},
   "outputs": [
    {
     "data": {
      "text/plain": [
       "1.4626517459071855"
      ]
     },
     "execution_count": 32,
     "metadata": {},
     "output_type": "execute_result"
    }
   ],
   "source": [
    "# Valor estimado da função pelo método de Simpson\n",
    "simpson_integration(exp_integration, 0, 1, 10000)"
   ]
  },
  {
   "cell_type": "markdown",
   "metadata": {},
   "source": [
    "Agora vamos estimar a integral da função pelo método de Monte Carlo."
   ]
  },
  {
   "cell_type": "code",
   "execution_count": 18,
   "metadata": {},
   "outputs": [],
   "source": [
    "def monte_carlo_integration(f, a, b, n, seed=None):\n",
    "    \"\"\"\n",
    "    Integral de Monte-Carlo em uma dimensão de uma função f \\b\n",
    "    no intervalo [a, b] com n subintervalos.\n",
    "    \"\"\"\n",
    "    \n",
    "    soma = 0\n",
    "\n",
    "    # Com o seed definido, podemos obter os mesmo resultados\n",
    "    if seed:\n",
    "        random.seed(seed)\n",
    "\n",
    "    for i in range(n):\n",
    "        xi = random.uniform(a, b)\n",
    "        soma += f(xi)\n",
    "    \n",
    "    integer = (float(b-a)/n)*soma\n",
    "\n",
    "    return integer\n",
    "\n"
   ]
  },
  {
   "cell_type": "code",
   "execution_count": 33,
   "metadata": {},
   "outputs": [
    {
     "data": {
      "text/plain": [
       "1.4620432042553768"
      ]
     },
     "execution_count": 33,
     "metadata": {},
     "output_type": "execute_result"
    }
   ],
   "source": [
    "monte_carlo_integration(exp_integration, 0, 1, 10000, seed=1)"
   ]
  },
  {
   "cell_type": "markdown",
   "metadata": {},
   "source": [
    "## Q. 2.\n",
    "\n",
    "Implemente o método de Monte Carlo para duas variáveis. Determine analiticamente e numericamente o valor da integral:\n",
    "\n",
    "<img src=\"figs/integral_02.png\">\n"
   ]
  },
  {
   "cell_type": "markdown",
   "metadata": {},
   "source": [
    "Vamos definir primeiro a função que iremos integrar"
   ]
  },
  {
   "cell_type": "code",
   "execution_count": 11,
   "metadata": {},
   "outputs": [],
   "source": [
    "def funcao_integrar(x, y):\n",
    "  return x**2 - 2*y**2 + x*y**3"
   ]
  },
  {
   "cell_type": "markdown",
   "metadata": {},
   "source": [
    "E agora, vamos definir o método de monte carlo para integrar uma função em 2D."
   ]
  },
  {
   "cell_type": "code",
   "execution_count": 12,
   "metadata": {},
   "outputs": [],
   "source": [
    "def monte_carlo_2d(f, a, b, c, d, n, seed=None):\n",
    "    \"\"\"\n",
    "    Integral de Monte-Carlo em uma dimensão de uma função f \\b\n",
    "    no intervalo [a, b] com n subintervalos.\n",
    "    \"\"\"\n",
    "    soma = 0\n",
    "\n",
    "    if seed:\n",
    "        random.seed(seed)\n",
    "\n",
    "    for i in range(n):\n",
    "        xi = random.uniform(a, b)\n",
    "        yi = random.uniform(c, d)\n",
    "        soma += f(xi, yi)\n",
    "    \n",
    "    integer = (float(b-a)*float(d-c)/n)*soma\n",
    "\n",
    "    return integer\n",
    "\n"
   ]
  },
  {
   "cell_type": "markdown",
   "metadata": {},
   "source": [
    "E então, vamos estimar a integral da função pelo método de Monte Carlo."
   ]
  },
  {
   "cell_type": "code",
   "execution_count": 34,
   "metadata": {},
   "outputs": [
    {
     "data": {
      "text/plain": [
       "2.642044145300661"
      ]
     },
     "execution_count": 34,
     "metadata": {},
     "output_type": "execute_result"
    }
   ],
   "source": [
    "monte_carlo_2d(funcao_integrar, 0, 2, -1, 1, 10000, seed=1)"
   ]
  },
  {
   "cell_type": "markdown",
   "metadata": {},
   "source": [
    "## Q. 3.\n",
    "\n",
    "Utilizando o método de Simpson composto determine o valor da integral:\n",
    "\n",
    "<img src=\"figs/integral_03.png\">"
   ]
  },
  {
   "cell_type": "markdown",
   "metadata": {},
   "source": [
    "Vamos definir a função que iremos integrar."
   ]
  },
  {
   "cell_type": "code",
   "execution_count": 14,
   "metadata": {},
   "outputs": [],
   "source": [
    "def funcao_integrar_3(x):\n",
    "  return 200*(x/(5+x))*np.exp(-2*x/30)"
   ]
  },
  {
   "cell_type": "markdown",
   "metadata": {},
   "source": [
    "Agora vamos utilizar o método de Simpson definido anteriormente para obter a estimativa da integral da função."
   ]
  },
  {
   "cell_type": "code",
   "execution_count": 37,
   "metadata": {},
   "outputs": [
    {
     "data": {
      "text/plain": [
       "1480.568480085898"
      ]
     },
     "execution_count": 37,
     "metadata": {},
     "output_type": "execute_result"
    }
   ],
   "source": [
    "simpson_integration(funcao_integrar_3, 0, 30, 10000)"
   ]
  },
  {
   "cell_type": "markdown",
   "metadata": {},
   "source": [
    "Q. 4.\n",
    "Determine as seguintes integrais numericamente:\n",
    "\n",
    "<img src=\"figs/integral_04.png\">"
   ]
  },
  {
   "cell_type": "markdown",
   "metadata": {},
   "source": [
    "Vamos definir cada função que iremos utilizar para a integração:"
   ]
  },
  {
   "cell_type": "code",
   "execution_count": 19,
   "metadata": {},
   "outputs": [],
   "source": [
    "def funcao_integrar_I(x):\n",
    "  return 2*(np.sin(x))**2\n",
    "\n",
    "def funcao_integrar_G(x):\n",
    "  return x*(np.sin(x))**2"
   ]
  },
  {
   "cell_type": "markdown",
   "metadata": {},
   "source": [
    "Vamos integrar numericamente utilizando o método de Monte Carlo, tomando 10 mil iterações."
   ]
  },
  {
   "cell_type": "code",
   "execution_count": 23,
   "metadata": {},
   "outputs": [
    {
     "name": "stdout",
     "output_type": "stream",
     "text": [
      " O valor da integral da função I(x) é: 3.119334846962404\n"
     ]
    }
   ],
   "source": [
    "print(f\" O valor da integral da função I(x) é: {monte_carlo_integration(funcao_integrar_I, 0, np.pi, 10000, seed=1)}\")"
   ]
  },
  {
   "cell_type": "code",
   "execution_count": 24,
   "metadata": {},
   "outputs": [
    {
     "name": "stdout",
     "output_type": "stream",
     "text": [
      " O valor da integral da função G(x) é: 2.445837084508479\n"
     ]
    }
   ],
   "source": [
    "print(f\" O valor da integral da função G(x) é: {monte_carlo_integration(funcao_integrar_G, 0, np.pi, 10000, seed=1)}\")"
   ]
  },
  {
   "cell_type": "markdown",
   "metadata": {},
   "source": [
    "## Q. 5.\n",
    "\n",
    "Usando os métodos: a) do trapézio e b) usando o método de Simpson."
   ]
  },
  {
   "cell_type": "markdown",
   "metadata": {},
   "source": [
    "### a) Utilizando o método do trapézio."
   ]
  },
  {
   "cell_type": "code",
   "execution_count": 26,
   "metadata": {},
   "outputs": [
    {
     "name": "stdout",
     "output_type": "stream",
     "text": [
      "O valor da integral da função I(x) usando o método do trapézio é:\n",
      "3.1415926535277663\n"
     ]
    }
   ],
   "source": [
    "print(\"O valor da integral da função I(x) usando o método do trapézio é:\")\n",
    "print(trapezio_integration(funcao_integrar_I, 0, np.pi, 10000))"
   ]
  },
  {
   "cell_type": "code",
   "execution_count": 27,
   "metadata": {},
   "outputs": [
    {
     "name": "stdout",
     "output_type": "stream",
     "text": [
      "O valor da integral da função G(x) usando o método do trapézio é:\n",
      "2.467401100174916\n"
     ]
    }
   ],
   "source": [
    "print(\"O valor da integral da função G(x) usando o método do trapézio é:\")\n",
    "print(trapezio_integration(funcao_integrar_G, 0, np.pi, 10000))"
   ]
  },
  {
   "cell_type": "markdown",
   "metadata": {},
   "source": [
    "### b) Utilizando o método de Simpson."
   ]
  },
  {
   "cell_type": "code",
   "execution_count": 28,
   "metadata": {},
   "outputs": [
    {
     "name": "stdout",
     "output_type": "stream",
     "text": [
      "O valor da integral da função I(x) usando o método de Simpson é:\n",
      "3.1415926535897962\n"
     ]
    }
   ],
   "source": [
    "print(\"O valor da integral da função I(x) usando o método de Simpson é:\")\n",
    "print(simpson_integration(funcao_integrar_I, 0, np.pi, 10000))"
   ]
  },
  {
   "cell_type": "code",
   "execution_count": 29,
   "metadata": {},
   "outputs": [
    {
     "name": "stdout",
     "output_type": "stream",
     "text": [
      "O valor da integral da função G(x) usando o método de Simpson é:\n",
      "2.4674011002723324\n"
     ]
    }
   ],
   "source": [
    "print(\"O valor da integral da função G(x) usando o método de Simpson é:\")\n",
    "print(simpson_integration(funcao_integrar_G, 0, np.pi, 10000))"
   ]
  }
 ],
 "metadata": {
  "kernelspec": {
   "display_name": "Python 3.8.5 ('base')",
   "language": "python",
   "name": "python3"
  },
  "language_info": {
   "codemirror_mode": {
    "name": "ipython",
    "version": 3
   },
   "file_extension": ".py",
   "mimetype": "text/x-python",
   "name": "python",
   "nbconvert_exporter": "python",
   "pygments_lexer": "ipython3",
   "version": "3.8.5"
  },
  "orig_nbformat": 4,
  "vscode": {
   "interpreter": {
    "hash": "c99ec3b06bb2b7a9ce1cfef1038d6bd1f5e5eb8cf3fb3cc6612960f8106f6dac"
   }
  }
 },
 "nbformat": 4,
 "nbformat_minor": 2
}
