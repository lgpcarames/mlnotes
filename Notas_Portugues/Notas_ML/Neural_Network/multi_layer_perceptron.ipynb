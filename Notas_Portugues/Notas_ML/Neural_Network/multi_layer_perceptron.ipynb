{
 "cells": [
  {
   "cell_type": "markdown",
   "metadata": {},
   "source": [
    "# Multilayer Perceptron"
   ]
  },
  {
   "cell_type": "code",
   "execution_count": 2,
   "metadata": {},
   "outputs": [],
   "source": [
    "from typing import List\n",
    "import numpy as np\n",
    "\n",
    "class Perceptron:\n",
    "    \n",
    "    def __init__(self, inputs: int, bias=1.0) -> None:\n",
    "        self.bias = bias\n",
    "        self.weights = (np.random.rand(inputs+1) * 2)-1\n",
    "\n",
    "    def run(self, x: float) -> float:\n",
    "        sum_ = np.dot(np.append(x, self.bias), self.weights)\n",
    "        return self.sigmoid(sum_)\n",
    "\n",
    "\n",
    "    def set_weights(self, w_init: List[float]) -> np.ndarray:\n",
    "        self.weights = np.array(w_init)\n",
    "\n",
    "    def sigmoid(self, x: float):\n",
    "        return 1 / (1 + np.exp(-x))"
   ]
  },
  {
   "cell_type": "code",
   "execution_count": 8,
   "metadata": {},
   "outputs": [],
   "source": [
    "class MultiLayerPerceptron:\n",
    "    def __init__(self, layers: int, bias = 1.0) -> None:\n",
    "        self.layers = np.array(layers, dtype=object)\n",
    "        self.bias = bias\n",
    "        self.network = []\n",
    "        self.values = []\n",
    "\n",
    "\n",
    "        for i in range(len(self.layers)):\n",
    "            self.values.append([])\n",
    "            self.network.append([])\n",
    "            self.values[i] = [0.0 for j in range(self.layers[i])]\n",
    "            if i > 0:\n",
    "                for j in range(self.layers[i]):\n",
    "                    self.network[i].append(Perceptron(inputs = self.layers[i-1], bias = self.bias))\n",
    "    \n",
    "        self.network = np.array([np.array(x) for x in self.network], dtype=object)\n",
    "        self.values = np.array([np.array(x) for x in self.values], dtype=object)\n",
    "        \n",
    "\n",
    "\n",
    "    def set_weights(self, w_init: List[float]) -> List[float]:\n",
    "        for i in range(len(w_init)):\n",
    "            for j in range(len(w_init[i])):\n",
    "                self.network[i][j].set_weights(w_init[i][j])\n",
    "\n",
    "\n",
    "    def printWeights(self) -> None:\n",
    "        print()\n",
    "        for i in range(1, len(self.network)):\n",
    "            for j in range(self.layers[i]):\n",
    "                print(\"Layer\", i+1, \"Neuron\", j, self.network[i][j].weights)\n",
    "        print()\n",
    "\n",
    "    \n",
    "    def run(self, x: object) -> object:\n",
    "        x = np.array(x, dtype=object)\n",
    "        self.values[0] = x\n",
    "        for i in range(1, len(self.network)):\n",
    "            for j in range(self.layers[i]):\n",
    "                self.values[i][j] = self.network[i][j].run(self.values[i-1])\n",
    "        return self.values[-1]\n",
    "\n",
    "   \n"
   ]
  },
  {
   "cell_type": "code",
   "execution_count": 9,
   "metadata": {},
   "outputs": [
    {
     "ename": "IndexError",
     "evalue": "index 0 is out of bounds for axis 0 with size 0",
     "output_type": "error",
     "traceback": [
      "\u001b[0;31m---------------------------------------------------------------------------\u001b[0m",
      "\u001b[0;31mIndexError\u001b[0m                                Traceback (most recent call last)",
      "\u001b[1;32m/home/lucas/Documentos/ML_Notes/mlnotes/Notas_Portugues/Python_Files/Linkedin_ML/Neural_Network/multi_layer_perceptron.ipynb Cell 4'\u001b[0m in \u001b[0;36m<cell line: 2>\u001b[0;34m()\u001b[0m\n\u001b[1;32m      <a href='vscode-notebook-cell:/home/lucas/Documentos/ML_Notes/mlnotes/Notas_Portugues/Python_Files/Linkedin_ML/Neural_Network/multi_layer_perceptron.ipynb#ch0000004?line=0'>1</a>\u001b[0m mlp \u001b[39m=\u001b[39m MultiLayerPerceptron(layers \u001b[39m=\u001b[39m [\u001b[39m2\u001b[39m, \u001b[39m2\u001b[39m, \u001b[39m1\u001b[39m])\n\u001b[0;32m----> <a href='vscode-notebook-cell:/home/lucas/Documentos/ML_Notes/mlnotes/Notas_Portugues/Python_Files/Linkedin_ML/Neural_Network/multi_layer_perceptron.ipynb#ch0000004?line=1'>2</a>\u001b[0m mlp\u001b[39m.\u001b[39;49mset_weights([[[\u001b[39m-\u001b[39;49m\u001b[39m10\u001b[39;49m, \u001b[39m-\u001b[39;49m\u001b[39m10\u001b[39;49m, \u001b[39m15\u001b[39;49m], [\u001b[39m15\u001b[39;49m, \u001b[39m15\u001b[39;49m, \u001b[39m-\u001b[39;49m\u001b[39m10\u001b[39;49m], \u001b[39m10\u001b[39;49m, \u001b[39m10\u001b[39;49m, \u001b[39m-\u001b[39;49m\u001b[39m15\u001b[39;49m]])\n\u001b[1;32m      <a href='vscode-notebook-cell:/home/lucas/Documentos/ML_Notes/mlnotes/Notas_Portugues/Python_Files/Linkedin_ML/Neural_Network/multi_layer_perceptron.ipynb#ch0000004?line=2'>3</a>\u001b[0m mlp\u001b[39m.\u001b[39mprintWeights()\n\u001b[1;32m      <a href='vscode-notebook-cell:/home/lucas/Documentos/ML_Notes/mlnotes/Notas_Portugues/Python_Files/Linkedin_ML/Neural_Network/multi_layer_perceptron.ipynb#ch0000004?line=4'>5</a>\u001b[0m \u001b[39mprint\u001b[39m(\u001b[39m\"\u001b[39m\u001b[39mMLP:\u001b[39m\u001b[39m\"\u001b[39m)\n",
      "\u001b[1;32m/home/lucas/Documentos/ML_Notes/mlnotes/Notas_Portugues/Python_Files/Linkedin_ML/Neural_Network/multi_layer_perceptron.ipynb Cell 3'\u001b[0m in \u001b[0;36mMultiLayerPerceptron.set_weights\u001b[0;34m(self, w_init)\u001b[0m\n\u001b[1;32m     <a href='vscode-notebook-cell:/home/lucas/Documentos/ML_Notes/mlnotes/Notas_Portugues/Python_Files/Linkedin_ML/Neural_Network/multi_layer_perceptron.ipynb#ch0000002?line=22'>23</a>\u001b[0m \u001b[39mfor\u001b[39;00m i \u001b[39min\u001b[39;00m \u001b[39mrange\u001b[39m(\u001b[39mlen\u001b[39m(w_init)):\n\u001b[1;32m     <a href='vscode-notebook-cell:/home/lucas/Documentos/ML_Notes/mlnotes/Notas_Portugues/Python_Files/Linkedin_ML/Neural_Network/multi_layer_perceptron.ipynb#ch0000002?line=23'>24</a>\u001b[0m     \u001b[39mfor\u001b[39;00m j \u001b[39min\u001b[39;00m \u001b[39mrange\u001b[39m(\u001b[39mlen\u001b[39m(w_init[i])):\n\u001b[0;32m---> <a href='vscode-notebook-cell:/home/lucas/Documentos/ML_Notes/mlnotes/Notas_Portugues/Python_Files/Linkedin_ML/Neural_Network/multi_layer_perceptron.ipynb#ch0000002?line=24'>25</a>\u001b[0m         \u001b[39mself\u001b[39;49m\u001b[39m.\u001b[39;49mnetwork[i][j]\u001b[39m.\u001b[39mset_weights(w_init[i][j])\n",
      "\u001b[0;31mIndexError\u001b[0m: index 0 is out of bounds for axis 0 with size 0"
     ]
    }
   ],
   "source": [
    "mlp = MultiLayerPerceptron(layers = [2, 2, 1])\n",
    "mlp.set_weights([[[-10, -10, 15], [15, 15, -10], 10, 10, -15]])\n",
    "mlp.printWeights()\n",
    "\n",
    "print(\"MLP:\")\n",
    "print(\"0 0 = {0:.10f}\".format(mlp.run[0,0][0]))\n",
    "print(\"0 1 = {0:.10f}\".format(mlp.run[0,1][0]))\n",
    "print(\"1 0 = {0:.10f}\".format(mlp.run[1,0][0]))\n",
    "print(\"1 1 = {0:.10f}\".format(mlp.run[1,1][0]))"
   ]
  }
 ],
 "metadata": {
  "interpreter": {
   "hash": "112989f40982219f9c2133127490be09f86560db102a13a350eb86b01002b443"
  },
  "kernelspec": {
   "display_name": "Python 3.9.7 ('base')",
   "language": "python",
   "name": "python3"
  },
  "language_info": {
   "codemirror_mode": {
    "name": "ipython",
    "version": 3
   },
   "file_extension": ".py",
   "mimetype": "text/x-python",
   "name": "python",
   "nbconvert_exporter": "python",
   "pygments_lexer": "ipython3",
   "version": "3.9.7"
  },
  "orig_nbformat": 4
 },
 "nbformat": 4,
 "nbformat_minor": 2
}
