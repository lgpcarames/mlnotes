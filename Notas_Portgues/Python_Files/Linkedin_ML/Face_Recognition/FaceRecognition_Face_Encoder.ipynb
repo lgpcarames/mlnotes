{
 "cells": [
  {
   "cell_type": "markdown",
   "id": "26073fbb",
   "metadata": {},
   "source": [
    "# DeepLearning: Face Recognition\n",
    "## Conding a Face Encoder"
   ]
  },
  {
   "cell_type": "code",
   "execution_count": 1,
   "id": "3ba45313",
   "metadata": {},
   "outputs": [],
   "source": [
    "import face_recognition"
   ]
  },
  {
   "cell_type": "code",
   "execution_count": 3,
   "id": "6ce68822",
   "metadata": {},
   "outputs": [
    {
     "name": "stdout",
     "output_type": "stream",
     "text": [
      "[-0.20855847  0.01845218  0.05200076 -0.01912917 -0.02748844 -0.01855113\n",
      " -0.02725517 -0.01845019  0.19835585 -0.01124571  0.19645655  0.01600681\n",
      " -0.15621799 -0.08862403 -0.00915153  0.11604425 -0.12597212 -0.14229295\n",
      " -0.03572805 -0.03505836  0.03726102  0.03980881 -0.07782649  0.07926023\n",
      " -0.14744228 -0.34706151 -0.10856131 -0.12216783  0.01723715 -0.11650681\n",
      "  0.06511289 -0.03900217 -0.18297052 -0.10930694  0.06847557  0.12637651\n",
      " -0.05037963 -0.09572252  0.1342985  -0.00703446 -0.16005875 -0.0557308\n",
      "  0.08435307  0.27441853  0.13435341  0.08523721  0.00496137 -0.11246418\n",
      "  0.16313246 -0.27373871  0.08402466  0.10128959  0.1534483   0.10832092\n",
      "  0.11609219 -0.09201847  0.07474773  0.25488403 -0.30816701  0.10207562\n",
      "  0.00198594 -0.01495527  0.03411689 -0.02620054  0.21705684  0.14441349\n",
      " -0.11093329 -0.12751675  0.17208114 -0.16183107 -0.04968157  0.1283944\n",
      " -0.032075   -0.26411176 -0.31615114  0.07128876  0.36263999  0.18028152\n",
      " -0.13117114 -0.01013257 -0.05811106 -0.0073781   0.03560935  0.03457595\n",
      " -0.09948468 -0.06623531 -0.05779978 -0.01711863  0.24389167  0.12510218\n",
      "  0.00310601  0.16942373 -0.01417204 -0.02782671  0.00143104  0.06574453\n",
      " -0.10071308  0.00664656 -0.07640247 -0.06614339  0.03114732  0.03002064\n",
      "  0.0767408   0.13323891 -0.21063033  0.15302023 -0.01548976 -0.04833611\n",
      "  0.00523056 -0.02149022 -0.06463672  0.01915042  0.14195834 -0.29341808\n",
      "  0.22209316  0.12297855  0.04837453  0.15621081  0.00215637  0.00968099\n",
      " -0.0371798  -0.11729006 -0.1749475  -0.01424966  0.05999146 -0.07590418\n",
      "  0.07595523 -0.00694483]\n"
     ]
    }
   ],
   "source": [
    "# Load the jpg files into numpy arrays\n",
    "image = face_recognition.load_image_file(\"./ex_files/Ch05/person.jpg\")\n",
    "\n",
    "# Generate the face encodings\n",
    "face_encodings = face_recognition.face_encodings(image)\n",
    "\n",
    "if len (face_encodings) == 0:\n",
    "    # No faces found in the image.\n",
    "    print(\"No faces were found.\")\n",
    "    \n",
    "else:\n",
    "    # Grab the first face encoding\n",
    "    first_face_encoding = face_encodings[0]\n",
    "    \n",
    "    # Print the results\n",
    "    print(first_face_encoding)"
   ]
  }
 ],
 "metadata": {
  "kernelspec": {
   "display_name": "Python 3 (ipykernel)",
   "language": "python",
   "name": "python3"
  },
  "language_info": {
   "codemirror_mode": {
    "name": "ipython",
    "version": 3
   },
   "file_extension": ".py",
   "mimetype": "text/x-python",
   "name": "python",
   "nbconvert_exporter": "python",
   "pygments_lexer": "ipython3",
   "version": "3.9.7"
  }
 },
 "nbformat": 4,
 "nbformat_minor": 5
}
