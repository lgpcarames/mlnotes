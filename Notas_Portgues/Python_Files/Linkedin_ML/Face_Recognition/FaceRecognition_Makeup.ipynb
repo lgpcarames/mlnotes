{
 "cells": [
  {
   "cell_type": "markdown",
   "id": "250c7657",
   "metadata": {},
   "source": [
    "# Deep Learning: Face Recognition\n",
    "## Applying Digital Makeup to a face"
   ]
  },
  {
   "cell_type": "code",
   "execution_count": 5,
   "id": "b8d8891a",
   "metadata": {},
   "outputs": [],
   "source": [
    "from PIL import Image, ImageDraw\n",
    "import face_recognition\n",
    "\n",
    "\n",
    "# Load the jpg file into a numpy array\n",
    "image = face_recognition.load_image_file(\"./ex_files/Ch07/people.jpg\")\n",
    "\n",
    "# Find all facial features in all the faces in the image\n",
    "face_landmarks_list = face_recognition.face_landmarks(image)\n",
    "\n",
    "# Load the image into a PIL object\n",
    "pil_image = Image.fromarray(image)\n",
    "\n",
    "# Create a PIL drawing object to be able to draw lines later\n",
    "d = ImageDraw.Draw(pil_image, 'RGBA')\n",
    "\n",
    "for face_landmarks in face_landmarks_list:\n",
    "    # Draw a line over the eyebrows\n",
    "    d.line(face_landmarks[\"left_eyebrow\"], fill=(128, 0, 128, 50), width=3)\n",
    "    d.line(face_landmarks[\"right_eyebrow\"], fill=(128, 0, 128, 50), width=3)\n",
    "    \n",
    "    # Draw over the lips\n",
    "    d.polygon(face_landmarks[\"top_lip\"], fill=(128, 0, 128, 100))\n",
    "    d.polygon(face_landmarks[\"bottom_lip\"], fill=(128, 0, 128, 100))\n",
    "    \n",
    "    \n",
    "# show t he final image\n",
    "pil_image.show()"
   ]
  }
 ],
 "metadata": {
  "kernelspec": {
   "display_name": "Python 3 (ipykernel)",
   "language": "python",
   "name": "python3"
  },
  "language_info": {
   "codemirror_mode": {
    "name": "ipython",
    "version": 3
   },
   "file_extension": ".py",
   "mimetype": "text/x-python",
   "name": "python",
   "nbconvert_exporter": "python",
   "pygments_lexer": "ipython3",
   "version": "3.9.7"
  }
 },
 "nbformat": 4,
 "nbformat_minor": 5
}
