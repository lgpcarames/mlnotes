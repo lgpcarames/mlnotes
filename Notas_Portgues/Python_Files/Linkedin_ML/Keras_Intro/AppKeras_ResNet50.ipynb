{
 "cells": [
  {
   "cell_type": "markdown",
   "id": "3bc670b2",
   "metadata": {},
   "source": [
    "# Criando Aplicações de Deep Learning Utilizando o Keras 2.0\n",
    "\n",
    "## Recognize images with ResNet50 model"
   ]
  },
  {
   "cell_type": "code",
   "execution_count": 5,
   "id": "a05eafd1",
   "metadata": {},
   "outputs": [],
   "source": [
    "import numpy as np\n",
    "from keras.preprocessing import image\n",
    "from keras.applications import resnet"
   ]
  },
  {
   "cell_type": "code",
   "execution_count": 4,
   "id": "657ecd87",
   "metadata": {},
   "outputs": [],
   "source": [
    "# load keras resnet50 model that was pre-trained agains the imagenet databse"
   ]
  },
  {
   "cell_type": "code",
   "execution_count": 6,
   "id": "81e67cfe",
   "metadata": {},
   "outputs": [
    {
     "name": "stderr",
     "output_type": "stream",
     "text": [
      "2022-03-17 21:49:51.573522: W tensorflow/stream_executor/platform/default/dso_loader.cc:64] Could not load dynamic library 'libcuda.so.1'; dlerror: libcuda.so.1: cannot open shared object file: No such file or directory\n",
      "2022-03-17 21:49:51.573554: W tensorflow/stream_executor/cuda/cuda_driver.cc:269] failed call to cuInit: UNKNOWN ERROR (303)\n",
      "2022-03-17 21:49:51.573580: I tensorflow/stream_executor/cuda/cuda_diagnostics.cc:156] kernel driver does not appear to be running on this host (lucas-Inspiron-5566): /proc/driver/nvidia/version does not exist\n",
      "2022-03-17 21:49:51.573839: I tensorflow/core/platform/cpu_feature_guard.cc:151] This TensorFlow binary is optimized with oneAPI Deep Neural Network Library (oneDNN) to use the following CPU instructions in performance-critical operations:  AVX2 FMA\n",
      "To enable them in other operations, rebuild TensorFlow with the appropriate compiler flags.\n"
     ]
    },
    {
     "name": "stdout",
     "output_type": "stream",
     "text": [
      "Downloading data from https://storage.googleapis.com/tensorflow/keras-applications/resnet/resnet50_weights_tf_dim_ordering_tf_kernels.h5\n",
      "102973440/102967424 [==============================] - 25s 0us/step\n",
      "102981632/102967424 [==============================] - 25s 0us/step\n"
     ]
    }
   ],
   "source": [
    "model = resnet.ResNet50()"
   ]
  },
  {
   "cell_type": "code",
   "execution_count": 10,
   "id": "f10b870e",
   "metadata": {},
   "outputs": [
    {
     "name": "stdout",
     "output_type": "stream",
     "text": [
      "Downloading data from https://storage.googleapis.com/download.tensorflow.org/data/imagenet_class_index.json\n",
      "40960/35363 [==================================] - 0s 2us/step\n",
      "49152/35363 [=========================================] - 0s 1us/step\n",
      "This is an image of:\n",
      "\n",
      " - seashore: 0.570416 likelihood\n",
      " - lakeside: 0.292266 likelihood\n",
      " - dock: 0.082964 likelihood\n",
      " - breakwater: 0.037219 likelihood\n",
      " - promontory: 0.005919 likelihood\n",
      " - catamaran: 0.002877 likelihood\n",
      " - sandbar: 0.001334 likelihood\n",
      " - trimaran: 0.000754 likelihood\n",
      " - pier: 0.000743 likelihood\n"
     ]
    }
   ],
   "source": [
    "# load the image file, resizing it to 224x224 pixels\n",
    "img = image.load_img(\"./ex_files/05/bay.jpg\", target_size=(224, 224))\n",
    "\n",
    "# convert the image to a numpy array\n",
    "x = image.img_to_array(img)\n",
    "\n",
    "# add a forth dimension since Keras expects a list of images\n",
    "x = np.expand_dims(x, axis=0)\n",
    "\n",
    "# scale the input image to the range used in the trained network\n",
    "x = resnet.preprocess_input(x)\n",
    "\n",
    "# run the image through the deep neural network to make a prediction\n",
    "predictions = model.predict(x)\n",
    "\n",
    "# look up the names of the predicted classes. \n",
    "predicted_classes = resnet.decode_predictions(predictions, top=9)\n",
    "\n",
    "print(\"This is an image of:\\n\")\n",
    "\n",
    "for imagenet_id, name, likelihood in predicted_classes[0]:\n",
    "    print(\" - {}: {:2f} likelihood\".format(name, likelihood))"
   ]
  }
 ],
 "metadata": {
  "kernelspec": {
   "display_name": "Python 3 (ipykernel)",
   "language": "python",
   "name": "python3"
  },
  "language_info": {
   "codemirror_mode": {
    "name": "ipython",
    "version": 3
   },
   "file_extension": ".py",
   "mimetype": "text/x-python",
   "name": "python",
   "nbconvert_exporter": "python",
   "pygments_lexer": "ipython3",
   "version": "3.9.7"
  }
 },
 "nbformat": 4,
 "nbformat_minor": 5
}
