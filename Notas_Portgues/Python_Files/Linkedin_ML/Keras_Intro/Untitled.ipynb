{
 "cells": [
  {
   "cell_type": "markdown",
   "id": "a0f83a51",
   "metadata": {},
   "source": [
    "# Visualizing Training Process"
   ]
  },
  {
   "cell_type": "code",
   "execution_count": 1,
   "id": "e7c75fbf",
   "metadata": {},
   "outputs": [
    {
     "name": "stderr",
     "output_type": "stream",
     "text": [
      "2022-03-22 20:12:55.774696: W tensorflow/stream_executor/platform/default/dso_loader.cc:64] Could not load dynamic library 'libcudart.so.11.0'; dlerror: libcudart.so.11.0: cannot open shared object file: No such file or directory\n",
      "2022-03-22 20:12:55.774718: I tensorflow/stream_executor/cuda/cudart_stub.cc:29] Ignore above cudart dlerror if you do not have a GPU set up on your machine.\n"
     ]
    }
   ],
   "source": [
    "import pandas as pd\n",
    "import keras\n",
    "from keras.models import Sequential\n",
    "from keras.layers import *"
   ]
  },
  {
   "cell_type": "code",
   "execution_count": 5,
   "id": "cd9d76d4",
   "metadata": {},
   "outputs": [],
   "source": [
    "RUN_NAME = \"run 1 with 5 nodes\"\n",
    "\n",
    "training_data_df = pd.read_csv(\"./ex_files/06/sales_data_training_scaled.csv\")"
   ]
  },
  {
   "cell_type": "code",
   "execution_count": 6,
   "id": "0ad107c7",
   "metadata": {},
   "outputs": [
    {
     "name": "stdout",
     "output_type": "stream",
     "text": [
      "Epoch 1/50\n",
      "32/32 - 0s - loss: 0.0335 - 492ms/epoch - 15ms/step\n",
      "Epoch 2/50\n",
      "32/32 - 0s - loss: 0.0099 - 54ms/epoch - 2ms/step\n",
      "Epoch 3/50\n",
      "32/32 - 0s - loss: 0.0080 - 62ms/epoch - 2ms/step\n",
      "Epoch 4/50\n",
      "32/32 - 0s - loss: 0.0065 - 72ms/epoch - 2ms/step\n",
      "Epoch 5/50\n",
      "32/32 - 0s - loss: 0.0053 - 71ms/epoch - 2ms/step\n",
      "Epoch 6/50\n",
      "32/32 - 0s - loss: 0.0045 - 120ms/epoch - 4ms/step\n",
      "Epoch 7/50\n",
      "32/32 - 0s - loss: 0.0037 - 68ms/epoch - 2ms/step\n",
      "Epoch 8/50\n",
      "32/32 - 0s - loss: 0.0030 - 69ms/epoch - 2ms/step\n",
      "Epoch 9/50\n",
      "32/32 - 0s - loss: 0.0025 - 70ms/epoch - 2ms/step\n",
      "Epoch 10/50\n",
      "32/32 - 0s - loss: 0.0024 - 56ms/epoch - 2ms/step\n",
      "Epoch 11/50\n",
      "32/32 - 0s - loss: 0.0020 - 91ms/epoch - 3ms/step\n",
      "Epoch 12/50\n",
      "32/32 - 0s - loss: 0.0016 - 56ms/epoch - 2ms/step\n",
      "Epoch 13/50\n",
      "32/32 - 0s - loss: 0.0014 - 54ms/epoch - 2ms/step\n",
      "Epoch 14/50\n",
      "32/32 - 0s - loss: 0.0012 - 54ms/epoch - 2ms/step\n",
      "Epoch 15/50\n",
      "32/32 - 0s - loss: 0.0011 - 58ms/epoch - 2ms/step\n",
      "Epoch 16/50\n",
      "32/32 - 0s - loss: 9.3673e-04 - 96ms/epoch - 3ms/step\n",
      "Epoch 17/50\n",
      "32/32 - 0s - loss: 8.0071e-04 - 54ms/epoch - 2ms/step\n",
      "Epoch 18/50\n",
      "32/32 - 0s - loss: 7.9307e-04 - 59ms/epoch - 2ms/step\n",
      "Epoch 19/50\n",
      "32/32 - 0s - loss: 7.1372e-04 - 54ms/epoch - 2ms/step\n",
      "Epoch 20/50\n",
      "32/32 - 0s - loss: 6.2609e-04 - 70ms/epoch - 2ms/step\n",
      "Epoch 21/50\n",
      "32/32 - 0s - loss: 5.6703e-04 - 125ms/epoch - 4ms/step\n",
      "Epoch 22/50\n",
      "32/32 - 0s - loss: 4.5704e-04 - 54ms/epoch - 2ms/step\n",
      "Epoch 23/50\n",
      "32/32 - 0s - loss: 4.2012e-04 - 44ms/epoch - 1ms/step\n",
      "Epoch 24/50\n",
      "32/32 - 0s - loss: 4.1892e-04 - 46ms/epoch - 1ms/step\n",
      "Epoch 25/50\n",
      "32/32 - 0s - loss: 3.5995e-04 - 55ms/epoch - 2ms/step\n",
      "Epoch 26/50\n",
      "32/32 - 0s - loss: 3.1018e-04 - 95ms/epoch - 3ms/step\n",
      "Epoch 27/50\n",
      "32/32 - 0s - loss: 3.1375e-04 - 57ms/epoch - 2ms/step\n",
      "Epoch 28/50\n",
      "32/32 - 0s - loss: 2.7207e-04 - 53ms/epoch - 2ms/step\n",
      "Epoch 29/50\n",
      "32/32 - 0s - loss: 2.4040e-04 - 53ms/epoch - 2ms/step\n",
      "Epoch 30/50\n",
      "32/32 - 0s - loss: 2.2566e-04 - 58ms/epoch - 2ms/step\n",
      "Epoch 31/50\n",
      "32/32 - 0s - loss: 1.9231e-04 - 91ms/epoch - 3ms/step\n",
      "Epoch 32/50\n",
      "32/32 - 0s - loss: 1.7584e-04 - 57ms/epoch - 2ms/step\n",
      "Epoch 33/50\n",
      "32/32 - 0s - loss: 1.6242e-04 - 53ms/epoch - 2ms/step\n",
      "Epoch 34/50\n",
      "32/32 - 0s - loss: 1.6137e-04 - 62ms/epoch - 2ms/step\n",
      "Epoch 35/50\n",
      "32/32 - 0s - loss: 1.5396e-04 - 62ms/epoch - 2ms/step\n",
      "Epoch 36/50\n",
      "32/32 - 0s - loss: 1.5063e-04 - 133ms/epoch - 4ms/step\n",
      "Epoch 37/50\n",
      "32/32 - 0s - loss: 1.3169e-04 - 64ms/epoch - 2ms/step\n",
      "Epoch 38/50\n",
      "32/32 - 0s - loss: 1.3052e-04 - 68ms/epoch - 2ms/step\n",
      "Epoch 39/50\n",
      "32/32 - 0s - loss: 1.2811e-04 - 53ms/epoch - 2ms/step\n",
      "Epoch 40/50\n",
      "32/32 - 0s - loss: 1.2305e-04 - 57ms/epoch - 2ms/step\n",
      "Epoch 41/50\n",
      "32/32 - 0s - loss: 1.1175e-04 - 91ms/epoch - 3ms/step\n",
      "Epoch 42/50\n",
      "32/32 - 0s - loss: 1.0364e-04 - 58ms/epoch - 2ms/step\n",
      "Epoch 43/50\n",
      "32/32 - 0s - loss: 1.2047e-04 - 52ms/epoch - 2ms/step\n",
      "Epoch 44/50\n",
      "32/32 - 0s - loss: 1.0967e-04 - 53ms/epoch - 2ms/step\n",
      "Epoch 45/50\n",
      "32/32 - 0s - loss: 9.9898e-05 - 62ms/epoch - 2ms/step\n",
      "Epoch 46/50\n",
      "32/32 - 0s - loss: 9.6437e-05 - 97ms/epoch - 3ms/step\n",
      "Epoch 47/50\n",
      "32/32 - 0s - loss: 8.6810e-05 - 59ms/epoch - 2ms/step\n",
      "Epoch 48/50\n",
      "32/32 - 0s - loss: 8.4313e-05 - 116ms/epoch - 4ms/step\n",
      "Epoch 49/50\n",
      "32/32 - 0s - loss: 8.7886e-05 - 50ms/epoch - 2ms/step\n",
      "Epoch 50/50\n",
      "32/32 - 0s - loss: 9.1122e-05 - 56ms/epoch - 2ms/step\n"
     ]
    },
    {
     "data": {
      "text/plain": [
       "<keras.callbacks.History at 0x7f56aae3fcd0>"
      ]
     },
     "execution_count": 6,
     "metadata": {},
     "output_type": "execute_result"
    }
   ],
   "source": [
    "X = training_data_df.drop('total_earnings', axis=1).values\n",
    "Y = training_data_df[['total_earnings']].values\n",
    "\n",
    "\n",
    "# Define the model\n",
    "model = Sequential()\n",
    "model.add(Dense(5, input_dim=9, activation='relu', name='layer_1'))\n",
    "model.add(Dense(100, activation='relu', name='layer_2'))\n",
    "model.add(Dense(50, activation='relu', name='layer_3'))\n",
    "model.add(Dense(1, activation='linear', name='output_layer'))\n",
    "model.compile(loss='mean_squared_error', optimizer='adam')\n",
    "\n",
    "\n",
    "# create a tensorboard logger\n",
    "logger = keras.callbacks.TensorBoard(\n",
    "    log_dir = 'logs/{}'.format(RUN_NAME),\n",
    "    histogram_freq = 5,\n",
    "    write_graph=True\n",
    ")\n",
    "\n",
    "# train the model\n",
    "\n",
    "model.fit(X, Y, epochs=50, shuffle=True,\n",
    "          verbose=2, callbacks=[logger])"
   ]
  }
 ],
 "metadata": {
  "kernelspec": {
   "display_name": "Python 3 (ipykernel)",
   "language": "python",
   "name": "python3"
  },
  "language_info": {
   "codemirror_mode": {
    "name": "ipython",
    "version": 3
   },
   "file_extension": ".py",
   "mimetype": "text/x-python",
   "name": "python",
   "nbconvert_exporter": "python",
   "pygments_lexer": "ipython3",
   "version": "3.9.7"
  }
 },
 "nbformat": 4,
 "nbformat_minor": 5
}
