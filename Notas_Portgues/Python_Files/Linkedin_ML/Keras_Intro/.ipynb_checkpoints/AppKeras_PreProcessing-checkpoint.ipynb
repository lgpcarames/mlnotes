{
 "cells": [
  {
   "cell_type": "markdown",
   "id": "dbaf40b9",
   "metadata": {},
   "source": [
    "# Criando Aplicações de Deep Learning Utilizando o Keras 2.0\n",
    "\n",
    "## Pré-processamento\n",
    "Vamos utilizar a base de dado de vendas de videogames para treinar um modelo no Keras capaz de estimar o valor total de ganhos de um novo jogo dado as características correspondentes da base de dados."
   ]
  },
  {
   "cell_type": "code",
   "execution_count": 9,
   "id": "e9b09f60",
   "metadata": {},
   "outputs": [],
   "source": [
    "import pandas as pd\n",
    "from sklearn.preprocessing import MinMaxScaler\n",
    "# carregando a base de dados de treinamento a partir de um arquivo CSV\n",
    "training_data_df = pd.read_csv('./ex_files/03/sales_data_training.csv')\n",
    "\n",
    "# carregando a nase de dados de teste a partir de um arquivo csv\n",
    "test_data_df = pd.read_csv('./ex_files/03/sales_data_test.csv')\n",
    "\n",
    "# os dados precisam ser reescalados para serem aplicados a rede neural\n",
    "scaler = MinMaxScaler(feature_range=(0, 1))\n",
    "\n",
    "\n",
    "# reescalando ambos dados de treinamento de entrada e saída\n",
    "scaled_training = scaler.fit_transform(training_data_df)\n",
    "\n",
    "# queremos que os dados de teste sejam reescalados da mesma maneira\n",
    "# que os dados de treinamento, portanto, passamos apenas o método transform\n",
    "scaled_testing = scaler.transform(test_data_df)\n",
    "\n",
    "\n",
    "# Criando novos dataframes pandas dos dados reescalados\n",
    "scaled_training_df = pd.DataFrame(scaled_training, columns=training_data_df.columns.values)\n",
    "scaled_testing_df = pd.DataFrame(scaled_testing, columns=test_data_df.columns.values)\n",
    "\n",
    "# salvando as bases de dados reescaladas em novos arquivos CSV\n",
    "scaled_training_df.to_csv(\"./ex_files/03/sales_data_training_scaled.csv\", index=False)\n",
    "scaled_testing_df.to_csv(\"./ex_files/03/sales_data_testing_scaled.csv\", index=False)"
   ]
  }
 ],
 "metadata": {
  "kernelspec": {
   "display_name": "Python 3 (ipykernel)",
   "language": "python",
   "name": "python3"
  },
  "language_info": {
   "codemirror_mode": {
    "name": "ipython",
    "version": 3
   },
   "file_extension": ".py",
   "mimetype": "text/x-python",
   "name": "python",
   "nbconvert_exporter": "python",
   "pygments_lexer": "ipython3",
   "version": "3.9.7"
  }
 },
 "nbformat": 4,
 "nbformat_minor": 5
}
