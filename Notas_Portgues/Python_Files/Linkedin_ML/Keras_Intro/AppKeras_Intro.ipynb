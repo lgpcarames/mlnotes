{
 "cells": [
  {
   "cell_type": "markdown",
   "id": "546d71f8",
   "metadata": {},
   "source": [
    "# Criando Aplicações de Deep Learning Utilizando o Keras 2.0\n",
    "\n",
    "## Introdução"
   ]
  },
  {
   "cell_type": "markdown",
   "id": "acb54bd9",
   "metadata": {},
   "source": [
    "### Keras Sequential Model API\n",
    "- O modo mais fácil de construir uma rede neural no Keras é utilizando o Sequential Model API;\n",
    "- O Sequential Model API cria um objeto modelo sequencial e então adiciona camadas na sua sequencia"
   ]
  },
  {
   "cell_type": "code",
   "execution_count": 1,
   "id": "b47e5a71",
   "metadata": {
    "collapsed": true
   },
   "outputs": [
    {
     "name": "stderr",
     "output_type": "stream",
     "text": [
      "2022-03-16 21:38:29.503373: W tensorflow/stream_executor/platform/default/dso_loader.cc:64] Could not load dynamic library 'libcudart.so.11.0'; dlerror: libcudart.so.11.0: cannot open shared object file: No such file or directory\n",
      "2022-03-16 21:38:29.503399: I tensorflow/stream_executor/cuda/cudart_stub.cc:29] Ignore above cudart dlerror if you do not have a GPU set up on your machine.\n"
     ]
    }
   ],
   "source": [
    "from keras.models import *"
   ]
  },
  {
   "cell_type": "markdown",
   "id": "7c0b17c4",
   "metadata": {},
   "source": [
    "model = Sequential()\n",
    "model.add(Dense(32, input_dim=9))\n",
    "model.add(Dense(128))\n",
    "model.add(Dense(1))"
   ]
  },
  {
   "cell_type": "markdown",
   "id": "d4357546",
   "metadata": {},
   "source": [
    "O keras é projetado para possibilitar que você rapidamente consiga construir uma rede neural, mas ao mesmo tempo, procura lhe dar muita liberdade na hora de customizar as camadas de cada rede neural. Antes de os valores passarem de uma camada para outra, eles podem ser filtrados por uma função de ativação."
   ]
  },
  {
   "cell_type": "markdown",
   "id": "4d572278",
   "metadata": {},
   "source": [
    "model.add(Dense(number_of_neurons, activation='relu'))"
   ]
  },
  {
   "cell_type": "markdown",
   "id": "d13ffb50",
   "metadata": {},
   "source": [
    "Configuração de customização de camadas:\n",
    "- Função de ativação da camada\n",
    "- Função inicializador dos pesos dos nós\n",
    "- Função de regularização dos pesos dos nós\n",
    "    \n",
    "Mas os valores padrões são um bom início!"
   ]
  },
  {
   "cell_type": "markdown",
   "id": "d0aa9872",
   "metadata": {},
   "source": [
    "Outros tipos de camadas suportadas\n",
    "\n",
    "**Convolutional layers**\n",
    "Ex. keras.layers.convolutional.Conv2D()\n",
    "\n",
    "**Recurrent layers**\n",
    "Ex. keras.layers.recurrent.LSTM()"
   ]
  },
  {
   "cell_type": "markdown",
   "id": "de2074ff",
   "metadata": {},
   "source": [
    "Você também pode misturar diferentes modelos de camadas no mesmo modelo do jeito que você quiser"
   ]
  },
  {
   "cell_type": "markdown",
   "id": "e519a50c",
   "metadata": {},
   "source": [
    "model = keras.models.Sequential()\n",
    "model.add(Dense(32, input_dim=9))\n",
    "model.add(Dense(128))\n",
    "model.add(Dense(1))\n",
    "model.compile(opimizer='adam', loss='mse')\n",
    "\n",
    "o compile compila o modelo no backend do tensorflow.\n",
    "O algoritmo optimizador é o algoritmo que você irá utilizar para treinar a sua rede neural, enquanto que a função loss mede o quão bom ou ruim as previsões da rede neural são."
   ]
  }
 ],
 "metadata": {
  "kernelspec": {
   "display_name": "Python 3 (ipykernel)",
   "language": "python",
   "name": "python3"
  },
  "language_info": {
   "codemirror_mode": {
    "name": "ipython",
    "version": 3
   },
   "file_extension": ".py",
   "mimetype": "text/x-python",
   "name": "python",
   "nbconvert_exporter": "python",
   "pygments_lexer": "ipython3",
   "version": "3.9.7"
  }
 },
 "nbformat": 4,
 "nbformat_minor": 5
}
