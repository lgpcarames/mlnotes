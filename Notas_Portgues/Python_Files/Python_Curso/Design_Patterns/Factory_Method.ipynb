{
 "cells": [
  {
   "cell_type": "markdown",
   "id": "d213b563",
   "metadata": {},
   "source": [
    "# Factory Method"
   ]
  },
  {
   "cell_type": "markdown",
   "id": "a1cc65df",
   "metadata": {},
   "source": [
    "Na programação POO, o termo factory (fábrica) refere-se a uma classe ou método que é responsável por criar objetos.\n",
    "\n",
    "Vantagens:\n",
    "- Permitem criar um sistema com baixo acoplamento entre classes porque ocultam as classes que criam os objetos do código cliente;\n",
    "\n",
    "- Facilitam a adição de novas classes ao código, porque o cliente não conhece e nem utiliza a implementação da classe (utiliza a factory);\n",
    "\n",
    "- Podem facilitar o processo de \"cache\" ou criação de \"singletons\" porque a fábrica pode retornar um objeto já criado para o cliente, ao invés de criar novos objetos sempre que o cliente precisar.\n",
    "\n",
    "Desvantagens:\n",
    "- Podem introduzir muitas classes no código.\n",
    "\n",
    "Vamos ver 2 tipos de Factory da GoF: Factory Method e Abstract Factory\n",
    "\n",
    "Nessa aula:\n",
    "Simple Factory <- Uma espécie de Factory Method parametrizado;\n",
    "Simple Factory pode não ser considerado um padrão de projeto por si só;\n",
    "Simple Factory pode quebrar princípios do SOLID"
   ]
  },
  {
   "cell_type": "markdown",
   "id": "737de412",
   "metadata": {},
   "source": [
    "Considerando o código anterior, vamos chamar a classe abstrata "
   ]
  },
  {
   "cell_type": "code",
   "execution_count": 1,
   "id": "d8e7ac2c",
   "metadata": {},
   "outputs": [],
   "source": [
    "from abc import ABC, abstractmethod\n",
    "\n",
    "class Veiculo(ABC):\n",
    "    @abstractmethod\n",
    "    def buscar_cliente(self) -> None: pass"
   ]
  },
  {
   "cell_type": "markdown",
   "id": "a77c6af8",
   "metadata": {},
   "source": [
    "E aproveitar e construir as classes utilizadas no exemplo anterior"
   ]
  },
  {
   "cell_type": "code",
   "execution_count": 2,
   "id": "da6a6d2b",
   "metadata": {},
   "outputs": [],
   "source": [
    "class CarroLuxo(Veiculo):\n",
    "    def buscar_cliente(self) -> None:\n",
    "        print('Carro de luxo está buscando o cliente...')\n",
    "        \n",
    "class CarroPopular(Veiculo):\n",
    "    def buscar_cliente(self) -> None:\n",
    "        print('Carro popular está buscando o cliente...')\n",
    "        \n",
    "class MotoLuxo(Veiculo):\n",
    "    def buscar_cliente(self) -> None:\n",
    "        print('Moto de luxo está buscando o cliente...')\n",
    "\n",
    "class MotoPopular(Veiculo):\n",
    "    def buscar_cliente(self) -> None:\n",
    "        print('Moto popular está buscando o cliente...')"
   ]
  },
  {
   "cell_type": "code",
   "execution_count": 3,
   "id": "ee260254",
   "metadata": {},
   "outputs": [],
   "source": [
    "class VeiculoFactory:\n",
    "    def __init__(self, tipo):\n",
    "        self.carro = self.get_carro(tipo)\n",
    "        \n",
    "    @staticmethod\n",
    "    def get_carro(tipo: str) -> Veiculo:\n",
    "        if tipo == 'luxo':\n",
    "            return CarroLuxo()\n",
    "        if tipo == 'popular':\n",
    "            return CarroPopular()\n",
    "        if tipo == 'moto':\n",
    "            return MotoPopular()\n",
    "        if tipo == 'moto_luxo':\n",
    "            return MotoLuxo()\n",
    "        assert 0, 'Veiculo não existe.'\n",
    "    \n",
    "    def buscar_cliente(self):\n",
    "        self.carro.buscar_cliente()"
   ]
  },
  {
   "cell_type": "markdown",
   "id": "2d8a1da5",
   "metadata": {},
   "source": [
    "Definindo o código cliente"
   ]
  },
  {
   "cell_type": "code",
   "execution_count": 4,
   "id": "6811f7e7",
   "metadata": {},
   "outputs": [
    {
     "name": "stdout",
     "output_type": "stream",
     "text": [
      "Carro de luxo está buscando o cliente...\n",
      "Carro popular está buscando o cliente...\n",
      "Carro popular está buscando o cliente...\n",
      "Moto popular está buscando o cliente...\n",
      "Moto popular está buscando o cliente...\n",
      "Carro popular está buscando o cliente...\n",
      "Carro de luxo está buscando o cliente...\n",
      "Moto popular está buscando o cliente...\n",
      "Carro popular está buscando o cliente...\n",
      "Carro de luxo está buscando o cliente...\n"
     ]
    }
   ],
   "source": [
    "from random import choice\n",
    "carros_disponiveis = ['luxo', 'popular', 'moto']\n",
    "\n",
    "for i in range(10):\n",
    "    carro = VeiculoFactory(choice(carros_disponiveis))\n",
    "    carro.buscar_cliente()"
   ]
  },
  {
   "cell_type": "markdown",
   "id": "47ec0a73",
   "metadata": {},
   "source": [
    "Definimos o nosso Simple Factory levemente diferente do que foi feito no exemplo anterior pois essa seria uma abordagem alternativa a ele, que carrega também uma vantagem sobre o método anterior. Poderíamos ver que no método anterior, a Factory armazena e utiliza o método das classes concretas, o que pode não ser interessante dependendo do projeto."
   ]
  },
  {
   "cell_type": "markdown",
   "id": "8f8bcefd",
   "metadata": {},
   "source": [
    "Agora imagine que essa empresa de carros começa a crescer bastante e passa a fornecer os seus serviços em uma cidade muito grande. Para esse caso, talvez seja interessante setorizarmos a distribuição dos veículos na cidade, para que estes não tenham que realizar um deslocamento muito grande para buscar um cliente. Com isso, vamos criar a seguinte situação hipotética, agora estamos interessados em criar filiais que serão responsáveis por zonas específicas de cada cidade. Para nosso exemplo, consideremos que criamos filiais na zona norte e na zona sul da cidade"
   ]
  },
  {
   "cell_type": "code",
   "execution_count": 5,
   "id": "8b96869e",
   "metadata": {},
   "outputs": [],
   "source": [
    "class VeiculoFactory(ABC):\n",
    "    def __init__(self, tipo):\n",
    "        self.carro = self.get_carro(tipo)\n",
    "        \n",
    "    @staticmethod\n",
    "    @abstractmethod\n",
    "    def get_carro(tipo: str) -> Veiculo: pass\n",
    "\n",
    "        \n",
    "    def buscar_cliente(self):\n",
    "        self.carro.buscar_cliente()\n",
    "        \n",
    "        \n",
    "        \n",
    "class ZonaNorteVeiculoFactory(VeiculoFactory):\n",
    "        \n",
    "    @staticmethod\n",
    "    def get_carro(tipo: str) -> Veiculo:\n",
    "        if tipo == 'luxo':\n",
    "            return CarroLuxo()\n",
    "        if tipo == 'popular':\n",
    "            return CarroPopular()\n",
    "        if tipo == 'moto':\n",
    "            return MotoPopular()\n",
    "        if tipo == 'moto_luxo':\n",
    "            return MotoLuxo()\n",
    "        assert 0, 'Veículo não existe.'\n",
    "    \n",
    "        "
   ]
  },
  {
   "cell_type": "code",
   "execution_count": 6,
   "id": "670309a5",
   "metadata": {},
   "outputs": [
    {
     "name": "stdout",
     "output_type": "stream",
     "text": [
      "Carro popular está buscando o cliente...\n",
      "Carro popular está buscando o cliente...\n",
      "Carro popular está buscando o cliente...\n",
      "Carro popular está buscando o cliente...\n",
      "Carro de luxo está buscando o cliente...\n",
      "Carro popular está buscando o cliente...\n",
      "Moto popular está buscando o cliente...\n",
      "Carro popular está buscando o cliente...\n",
      "Carro popular está buscando o cliente...\n",
      "Carro de luxo está buscando o cliente...\n"
     ]
    }
   ],
   "source": [
    "# Código Cliente\n",
    "\n",
    "    # Filial Zona Norte\n",
    "veiculos_disponiveis_zona_norte = ['luxo', 'popular', 'moto', 'moto_luxo']\n",
    "\n",
    "for i in range(10):\n",
    "    carro = ZonaNorteVeiculoFactory(choice(carros_disponiveis))\n",
    "    carro.buscar_cliente()"
   ]
  },
  {
   "cell_type": "markdown",
   "id": "01f8ab40",
   "metadata": {},
   "source": [
    "Criando uma factory agora para a filial da zona sul"
   ]
  },
  {
   "cell_type": "code",
   "execution_count": 7,
   "id": "93e37a55",
   "metadata": {},
   "outputs": [],
   "source": [
    "# Código Cliente\n",
    "    # Filial Zona Norte\n",
    "class ZonaSulVeiculoFactory(VeiculoFactory):\n",
    "    @staticmethod\n",
    "    def get_carro(tipo: str) -> Veiculo:\n",
    "        if tipo == 'popular':\n",
    "            return CarroPopular()\n",
    "        assert 0, 'Veiculo não existe'"
   ]
  },
  {
   "cell_type": "code",
   "execution_count": 8,
   "id": "865cd595",
   "metadata": {},
   "outputs": [
    {
     "name": "stdout",
     "output_type": "stream",
     "text": [
      "Carro popular está buscando o cliente...\n",
      "Carro popular está buscando o cliente...\n",
      "Carro popular está buscando o cliente...\n",
      "Carro popular está buscando o cliente...\n",
      "Carro popular está buscando o cliente...\n",
      "Carro popular está buscando o cliente...\n",
      "Carro popular está buscando o cliente...\n",
      "Carro popular está buscando o cliente...\n",
      "Carro popular está buscando o cliente...\n",
      "Carro popular está buscando o cliente...\n"
     ]
    }
   ],
   "source": [
    "veiculos_disponiveis_zona_sul = ['popular']\n",
    "\n",
    "for i in range(10):\n",
    "    carro_zs = ZonaSulVeiculoFactory(\n",
    "        choice(veiculos_disponiveis_zona_sul))\n",
    "    carro_zs.buscar_cliente()"
   ]
  },
  {
   "cell_type": "markdown",
   "id": "be1f5b03",
   "metadata": {},
   "source": [
    "Com isso, podemos deixar para as subclasses da _VeiculoFactory_ definir o seu método get_carro. Pronto, agora temos um padrão factory method como estávamos querendo."
   ]
  }
 ],
 "metadata": {
  "kernelspec": {
   "display_name": "Python 3 (ipykernel)",
   "language": "python",
   "name": "python3"
  },
  "language_info": {
   "codemirror_mode": {
    "name": "ipython",
    "version": 3
   },
   "file_extension": ".py",
   "mimetype": "text/x-python",
   "name": "python",
   "nbconvert_exporter": "python",
   "pygments_lexer": "ipython3",
   "version": "3.9.7"
  }
 },
 "nbformat": 4,
 "nbformat_minor": 5
}
