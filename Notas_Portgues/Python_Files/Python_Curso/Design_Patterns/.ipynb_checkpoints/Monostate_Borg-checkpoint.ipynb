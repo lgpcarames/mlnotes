{
 "cells": [
  {
   "cell_type": "markdown",
   "id": "edde0395",
   "metadata": {},
   "source": [
    "# Monostate - Borg\n",
    "É uma variação do Singleton proposto por Alex Martelli que tem a intenção de garantir que o estado do objeto seja igual para todas as instâncias."
   ]
  },
  {
   "cell_type": "code",
   "execution_count": 14,
   "id": "e4a4986b",
   "metadata": {},
   "outputs": [
    {
     "name": "stdout",
     "output_type": "stream",
     "text": [
      "{'x': 10, 'y': 20}\n",
      "<__main__.A object at 0x7f46dc69e160>\n"
     ]
    }
   ],
   "source": [
    "class StringReprMixin:\n",
    "    def __str__(self):\n",
    "        params = ', '.join(\n",
    "            [f'{k}={v}' for k, v in self.__dict__.items()]\n",
    "        )\n",
    "        return f'{self.__class__.__name__}({params})'\n",
    "    \n",
    "    def __repr__(self):\n",
    "        return self.__str__()\n",
    "\n",
    "class A:\n",
    "    def __init__(self):\n",
    "        self.x = 10\n",
    "        self.y = 20\n",
    "        \n",
    "a = A()\n",
    "\n",
    "print(a.__dict__)\n",
    "\n",
    "print(a)"
   ]
  },
  {
   "cell_type": "code",
   "execution_count": 23,
   "id": "4b4c76ad",
   "metadata": {},
   "outputs": [],
   "source": [
    "class MonoStateSimple(StringReprMixin):\n",
    "    _state: dict = {\n",
    "        'x': 10,\n",
    "        'y': 20,\n",
    "    }\n",
    "    \n",
    "    def __init__(self):\n",
    "        self.__dict__ = self._state\n",
    "        \n",
    "        if nome is not None:\n",
    "            self.nome = nome\n",
    "        if sobrenome is not None:\n",
    "            self.sobrenome = sobrenome"
   ]
  },
  {
   "cell_type": "code",
   "execution_count": 21,
   "id": "c1ad8909",
   "metadata": {},
   "outputs": [
    {
     "name": "stdout",
     "output_type": "stream",
     "text": [
      "MonoStateSimple(x=Qualquer Coisa, y=20)\n",
      "MonoStateSimple(x=Qualquer Coisa, y=20)\n"
     ]
    }
   ],
   "source": [
    "m1 = MonoStateSimple()\n",
    "m2 = MonoStateSimple()\n",
    "\n",
    "m1.x = 'Qualquer Coisa'\n",
    "print(m1)\n",
    "print(m2)"
   ]
  }
 ],
 "metadata": {
  "kernelspec": {
   "display_name": "Python 3 (ipykernel)",
   "language": "python",
   "name": "python3"
  },
  "language_info": {
   "codemirror_mode": {
    "name": "ipython",
    "version": 3
   },
   "file_extension": ".py",
   "mimetype": "text/x-python",
   "name": "python",
   "nbconvert_exporter": "python",
   "pygments_lexer": "ipython3",
   "version": "3.9.7"
  }
 },
 "nbformat": 4,
 "nbformat_minor": 5
}
