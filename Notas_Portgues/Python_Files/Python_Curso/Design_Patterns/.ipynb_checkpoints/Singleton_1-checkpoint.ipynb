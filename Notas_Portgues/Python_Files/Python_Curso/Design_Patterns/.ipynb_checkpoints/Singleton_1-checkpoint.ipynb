{
 "cells": [
  {
   "cell_type": "markdown",
   "id": "3de00bbc",
   "metadata": {},
   "source": [
    "# Singleton\n",
    "\n",
    "O singleton tem a intenção de garantir que uma classe tenha somente uma instância e fornece um ponto global de acesso para a mesma.\n",
    "\n",
    "*When discussing which patterns to drop, we found that we still love them all.\n",
    "(Not Really-I'm in favor of dropping Singleton. Its use is almost always a design smell.)*\n",
    "- Erich Gamma, em entrevista para a informIT"
   ]
  },
  {
   "cell_type": "markdown",
   "id": "20b124dd",
   "metadata": {},
   "source": [
    "Em Python, quando você instancia uma classe, em dois pontos diferentes do código, você recebe dois objetos distintos. Apesar de você utilizar a mesma classe nas duas instanciações. O Singleton é um padrão de projeto que *anula* esse comportamento de uma classe. Caso você a instancie em dois ou mais pontos diferentes no código, você estará olhando para o mesmo objeto."
   ]
  },
  {
   "cell_type": "code",
   "execution_count": 2,
   "id": "5ede0cc7",
   "metadata": {},
   "outputs": [],
   "source": [
    "class AppSettings:\n",
    "    _instance = None\n",
    "    \n",
    "    def __new__(cls, *args, **kwargs):\n",
    "        if not cls._instance:\n",
    "            cls._instance = super().__new__(cls, *args, **kwargs)\n",
    "        return cls._instance\n",
    "    \n",
    "    # Esse padrão de projeto carrega um problema quando adicionamos o construtor da classe\n",
    "    # Caso queiramos utilizar um singleton, podemos não utilizar o inicializador, \n",
    "    # mas há outra forma de lidar com esse problema\n",
    "    def __init__(self):\n",
    "        self.tema = 'Tema Escuro'\n",
    "        self.font = '18px'"
   ]
  },
  {
   "cell_type": "code",
   "execution_count": 3,
   "id": "1b20f1ad",
   "metadata": {},
   "outputs": [
    {
     "name": "stdout",
     "output_type": "stream",
     "text": [
      "Tema Claro\n",
      "Tema Escuro\n",
      "<__main__.AppSettings object at 0x7f86381606a0>\n"
     ]
    }
   ],
   "source": [
    "as1 = AppSettings()\n",
    "as1.tema = 'Tema Claro'\n",
    "print(as1.tema)\n",
    "as2 = AppSettings()\n",
    "\n",
    "print(as1.tema)\n",
    "print(as2)"
   ]
  },
  {
   "cell_type": "markdown",
   "id": "61cfbd66",
   "metadata": {},
   "source": []
  }
 ],
 "metadata": {
  "kernelspec": {
   "display_name": "Python 3 (ipykernel)",
   "language": "python",
   "name": "python3"
  },
  "language_info": {
   "codemirror_mode": {
    "name": "ipython",
    "version": 3
   },
   "file_extension": ".py",
   "mimetype": "text/x-python",
   "name": "python",
   "nbconvert_exporter": "python",
   "pygments_lexer": "ipython3",
   "version": "3.9.7"
  }
 },
 "nbformat": 4,
 "nbformat_minor": 5
}
